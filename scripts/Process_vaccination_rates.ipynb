{
 "cells": [
  {
   "cell_type": "code",
   "execution_count": 37,
   "metadata": {},
   "outputs": [],
   "source": [
    "import json\n",
    "import os"
   ]
  },
  {
   "cell_type": "code",
   "execution_count": 38,
   "metadata": {},
   "outputs": [],
   "source": [
    "with open('pulling_data_from_file_index/vaccine_doses_by_rha/BC_COVID19Dashboard_Vaccine_Counts_2021-03-13_22-03.json') as file:\n",
    "    json_data = json.loads(file.read())"
   ]
  },
  {
   "cell_type": "code",
   "execution_count": 39,
   "metadata": {},
   "outputs": [
    {
     "name": "stdout",
     "output_type": "stream",
     "text": [
      "'Date', 'HA_Name', 'Doses_Received_Past_Week', 'New_Doses_Received', 'Tot_Doses_Received', 'Doses_Expected_This_Week', 'New_Doses_Admin', 'Tot_Doses_Admin', 'One_Dose_Admin', 'Two_Dose_Admin', 'Vaccine_Type', 'FID\n"
     ]
    }
   ],
   "source": [
    "json_data.keys()\n",
    "print(str([x['name'] for x in json_data['fields']])[1:-2])"
   ]
  },
  {
   "cell_type": "code",
   "execution_count": 40,
   "metadata": {},
   "outputs": [],
   "source": [
    "daily_csv_str = str([x['name'] for x in json_data['fields']])[1:-2] + '\\n'\n",
    "cumalative_csv_str = str([x['name'] for x in json_data['fields']])[1:-2] + '\\n'\n",
    "\n",
    "for i in range(8):\n",
    "    daily_csv_str += str([json_data['features'][i]['attributes'][j] for j in [x['name'] for x in json_data['fields']]][:])[1:-1] + '\\n'\n",
    "\n",
    "\n",
    "for i in range(8,16):\n",
    "    cumalative_csv_str += str([json_data['features'][i]['attributes'][j] for j in [x['name'] for x in json_data['fields']]][:])[1:-1] + '\\n'"
   ]
  },
  {
   "cell_type": "code",
   "execution_count": 41,
   "metadata": {},
   "outputs": [
    {
     "name": "stdout",
     "output_type": "stream",
     "text": [
      "'Date', 'HA_Name', 'Doses_Received_Past_Week', 'New_Doses_Received', 'Tot_Doses_Received', 'Doses_Expected_This_Week', 'New_Doses_Admin', 'Tot_Doses_Admin', 'One_Dose_Admin', 'Two_Dose_Admin', 'Vaccine_Type', 'FID\n",
      "1615590000000, 'Fraser', 0, None, 9200, None, 2, 7075, 4015, 3060, 'Moderna', 9\n",
      "1615590000000, 'Interior', 400, None, 20400, None, 130, 14083, 10230, 3853, 'Moderna', 10\n",
      "1615590000000, 'Northern', 0, None, 7700, None, 0, 2394, 1693, 701, 'Moderna', 11\n",
      "1615590000000, 'Vancouver Coastal', 0, None, 8700, None, 107, 6355, 3910, 2445, 'Moderna', 12\n",
      "1615590000000, 'Vancouver Island', 0, None, 25300, None, 260, 18497, 16657, 1840, 'Moderna', 13\n",
      "1615590000000, 'First Nations', 0, None, 8800, None, 731, 26273, 21257, 5016, 'Moderna', 14\n",
      "1615590000000, 'BCCDC', 0, None, 0, None, 0, 0, 0, 0, 'Moderna', 15\n",
      "1615590000000, 'BC', 400, None, 80100, None, 1230, 74677, 57762, 16915, 'Moderna', 16\n",
      "\n",
      "'Date', 'HA_Name', 'Doses_Received_Past_Week', 'New_Doses_Received', 'Tot_Doses_Received', 'Doses_Expected_This_Week', 'New_Doses_Admin', 'Tot_Doses_Admin', 'One_Dose_Admin', 'Two_Dose_Admin', 'Vaccine_Type', 'FID\n",
      "1615590000000, 'Fraser', 19890, None, 142545, None, 3883, 115536, 85721, 29815, 'Pfizer', 1\n",
      "1615590000000, 'Interior', 11700, None, 55680, None, 1747, 40151, 30972, 9179, 'Pfizer', 2\n",
      "1615590000000, 'Northern', 3510, None, 18225, None, 438, 10091, 8096, 1995, 'Pfizer', 3\n",
      "1615590000000, 'Vancouver Coastal', 14040, None, 93990, None, 4100, 90551, 70206, 20345, 'Pfizer', 4\n",
      "1615590000000, 'Vancouver Island', 11700, None, 54210, None, 1553, 38699, 30412, 8287, 'Pfizer', 5\n",
      "1615590000000, 'First Nations', 0, None, 0, None, 1001, 11038, 10550, 488, 'Pfizer', 6\n",
      "1615590000000, 'BCCDC', 0, None, 1170, None, 0, 0, 0, 0, 'Pfizer', 7\n",
      "1615590000000, 'BC', 60840, None, 365820, None, 12722, 306066, 235957, 70109, 'Pfizer', 8\n",
      "\n"
     ]
    }
   ],
   "source": [
    "print(daily_csv_str)\n",
    "print(cumalative_csv_str)"
   ]
  },
  {
   "cell_type": "code",
   "execution_count": 46,
   "metadata": {},
   "outputs": [],
   "source": [
    "if not os.path.exists('vaccine_doses_by_rha_csv/'):\n",
    "    os.makedirs('vaccine_doses_by_rha_csv/')\n",
    "    \n",
    "if not os.path.exists('cumalative_vaccine_doses_by_rha_csv/'):\n",
    "    os.makedirs('cumalative_vaccine_doses_by_rha_csv/')\n",
    "    \n",
    "def vaccine_data_json_to_csv(filename):\n",
    "    with open(f'pulling_data_from_file_index/vaccine_doses_by_rha/{filename}') as file:\n",
    "        json_data = json.loads(file.read())\n",
    "    \n",
    "    daily_csv_str = str([x['name'] for x in json_data['fields']])[1:-2] + '\\n'\n",
    "    cumalative_csv_str = str([x['name'] for x in json_data['fields']])[1:-2] + '\\n'\n",
    "\n",
    "    for i in range(8):\n",
    "        daily_csv_str += str([json_data['features'][i]['attributes'][j] for j in [x['name'] for x in json_data['fields']]][:])[1:-1] + '\\n'\n",
    "\n",
    "\n",
    "    for i in range(8,16):\n",
    "        cumalative_csv_str += str([json_data['features'][i]['attributes'][j] for j in [x['name'] for x in json_data['fields']]][:])[1:-1] + '\\n'\n",
    "    \n",
    "    with open(f'vaccine_doses_by_rha_csv/{(filename.split[\".\"])[0]}.csv','w+') as csv_file:\n",
    "        csv_file.write(daily_csv_str)\n",
    "    \n",
    "    with open(f'cumalative_vaccine_doses_by_rha_csv/{(filename.split[\".\"])[0]}.csv','w+') as csv_file:\n",
    "        csv_file.write(daily_csv_str)"
   ]
  },
  {
   "cell_type": "code",
   "execution_count": 49,
   "metadata": {},
   "outputs": [
    {
     "name": "stdout",
     "output_type": "stream",
     "text": [
      "<class 'str'>\n",
      "<class 'str'>\n",
      "<class 'str'>\n",
      "<class 'str'>\n",
      "<class 'str'>\n",
      "<class 'str'>\n",
      "<class 'str'>\n",
      "<class 'str'>\n",
      "<class 'str'>\n",
      "<class 'str'>\n",
      "<class 'str'>\n",
      "<class 'str'>\n",
      "<class 'str'>\n",
      "<class 'str'>\n",
      "<class 'str'>\n",
      "<class 'str'>\n",
      "<class 'str'>\n",
      "<class 'str'>\n",
      "<class 'str'>\n",
      "<class 'str'>\n",
      "<class 'str'>\n",
      "<class 'str'>\n",
      "<class 'str'>\n",
      "<class 'str'>\n",
      "<class 'str'>\n",
      "<class 'str'>\n",
      "<class 'str'>\n",
      "<class 'str'>\n",
      "<class 'str'>\n",
      "<class 'str'>\n",
      "<class 'str'>\n",
      "<class 'str'>\n",
      "<class 'str'>\n",
      "<class 'str'>\n",
      "<class 'str'>\n",
      "<class 'str'>\n",
      "<class 'str'>\n",
      "<class 'str'>\n",
      "<class 'str'>\n",
      "<class 'str'>\n",
      "<class 'str'>\n",
      "<class 'str'>\n",
      "<class 'str'>\n",
      "<class 'str'>\n",
      "<class 'str'>\n",
      "<class 'str'>\n",
      "<class 'str'>\n",
      "<class 'str'>\n",
      "<class 'str'>\n",
      "<class 'str'>\n",
      "<class 'str'>\n",
      "<class 'str'>\n",
      "<class 'str'>\n",
      "<class 'str'>\n",
      "<class 'str'>\n",
      "<class 'str'>\n",
      "<class 'str'>\n",
      "<class 'str'>\n",
      "<class 'str'>\n",
      "<class 'str'>\n",
      "<class 'str'>\n",
      "<class 'str'>\n",
      "<class 'str'>\n",
      "<class 'str'>\n",
      "<class 'str'>\n",
      "<class 'str'>\n",
      "<class 'str'>\n",
      "<class 'str'>\n",
      "<class 'str'>\n",
      "<class 'str'>\n",
      "<class 'str'>\n",
      "<class 'str'>\n",
      "<class 'str'>\n",
      "<class 'str'>\n",
      "<class 'str'>\n",
      "<class 'str'>\n",
      "<class 'str'>\n",
      "<class 'str'>\n",
      "<class 'str'>\n",
      "<class 'str'>\n",
      "<class 'str'>\n",
      "<class 'str'>\n",
      "<class 'str'>\n",
      "<class 'str'>\n",
      "<class 'str'>\n",
      "<class 'str'>\n",
      "<class 'str'>\n",
      "<class 'str'>\n",
      "<class 'str'>\n",
      "<class 'str'>\n",
      "<class 'str'>\n",
      "<class 'str'>\n",
      "<class 'str'>\n",
      "<class 'str'>\n",
      "<class 'str'>\n",
      "<class 'str'>\n",
      "<class 'str'>\n",
      "<class 'str'>\n",
      "<class 'str'>\n",
      "<class 'str'>\n",
      "<class 'str'>\n",
      "<class 'str'>\n",
      "<class 'str'>\n",
      "<class 'str'>\n",
      "<class 'str'>\n"
     ]
    }
   ],
   "source": [
    "for file in os.listdir('pulling_data_from_file_index/vaccine_doses_by_rha/'):\n",
    "    print(type(file))"
   ]
  },
  {
   "cell_type": "code",
   "execution_count": null,
   "metadata": {},
   "outputs": [],
   "source": []
  },
  {
   "cell_type": "code",
   "execution_count": null,
   "metadata": {},
   "outputs": [],
   "source": []
  }
 ],
 "metadata": {
  "kernelspec": {
   "display_name": "Python 3",
   "language": "python",
   "name": "python3"
  },
  "language_info": {
   "codemirror_mode": {
    "name": "ipython",
    "version": 3
   },
   "file_extension": ".py",
   "mimetype": "text/x-python",
   "name": "python",
   "nbconvert_exporter": "python",
   "pygments_lexer": "ipython3",
   "version": "3.9.5"
  }
 },
 "nbformat": 4,
 "nbformat_minor": 4
}
