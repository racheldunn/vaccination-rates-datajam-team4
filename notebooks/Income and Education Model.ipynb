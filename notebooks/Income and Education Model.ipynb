{
 "cells": [
  {
   "cell_type": "markdown",
   "metadata": {},
   "source": [
    "# Income and Education Exploration\n",
    "\n",
    "- Median total income of households in 2015  - median_total_income - $x_1$\n",
    "- Prevalence of low income - low_income_prevalence - $x_2$\n",
    "- Percentage of people (15+) with less than high school education - percent_less_than_high_school - $x_3$\n",
    "- Percentage of people (15+) with a secondary (high) school diploma - percent_high_school - $x_4$\n",
    "- Percentage of people (15+) with a postsecondary education - percent_postsecondary - $x_5$\n",
    "- Employment rate among people (15+) - employment_rate - $x_6$\n",
    "\n",
    "## Useful definitions\n",
    "\n",
    "- CHSA | LHA18_Code : Community Health Service Area | Local Health Area ID number\n",
    "- CHSA | LHA18_Name : Community Health Service Area | Local Health Area name\n",
    "- C_ADR_7day : Average daily rate per 100,000 population of COVID-19 cases reported during past 7 days (August 3 to 9, 2021)\n",
    "- C_ADR_8_14day : Average daily rate per 100,000 population of COVID-19 cases reported 8 to 14 days ago (July 27 to August 2, 2021)\n",
    "- C_ADR_7day_change : Absolute change in average daily rate compared to prior 7 day period\n",
    "- 7d_positivity_all : Testing positivity rate (%) of all COVID-19 tests during past 7 days (August 3 to 9, 2021)\n",
    "- 7d_positivity_public : Testing positivity rate (%) of publicly funded COVID-19 tests during past 7 days (August 3 to 9, 2021)\n",
    "- D1_12_coverage : COVID-19 vaccine coverage among persons aged 12+ years receiving 1st dose (up to end of August 9, 2021)\n",
    "- D1_18_coverage : COVID-19 vaccine coverage among persons aged 18+ years receiving 1st dose (up to end of August 9, 2021) - \n",
    "- D1_18_49_coverage : COVID-19 vaccine coverage among persons aged 18 to 49 years receiving 1st dose (up to end of August 9, 2021)\n",
    "- D1_50_coverage : COVID-19 vaccine coverage among persons aged 50+ years receiving 1st dose (up to end of August 9, 2021)\n",
    "- D2_12_coverage : COVID-19 vaccine coverage among persons aged 12+ years receiving 2nd dose (up to end of August 9, 2021)\n",
    "- D2_18_coverage : COVID-19 vaccine coverage among persons aged 18+ years receiving 2nd dose (up to end of August 9, 2021) - $y_1$\n",
    "- D2_18_49_coverage : COVID-19 vaccine coverage among persons aged 18 to 49 years receiving 2nd dose (up to end of August 9, 2021)\n",
    "- D2_50_coverage : COVID-19 vaccine coverage among persons aged 50+ years receiving 2nd dose (up to end of August 9, 2021)"
   ]
  },
  {
   "cell_type": "code",
   "execution_count": 76,
   "metadata": {},
   "outputs": [],
   "source": [
    "import pandas as pd\n",
    "import seaborn as sns\n",
    "from numpy import abs,mean\n",
    "from sklearn.linear_model import LinearRegression\n",
    "from sklearn.model_selection import train_test_split\n",
    "from sklearn.pipeline import Pipeline\n",
    "from sklearn.preprocessing import StandardScaler,MinMaxScaler\n",
    "import statsmodels.api as sm\n",
    "pd.set_option('display.max_columns', None)\n",
    "pd.set_option('display.max_rows', None)\n",
    "sns.set(rc={'figure.figsize':(20,20)})"
   ]
  },
  {
   "cell_type": "code",
   "execution_count": 77,
   "metadata": {},
   "outputs": [],
   "source": [
    "socioecomic_factors_df = pd.read_csv('../data/socioeco_compiled.csv')\n",
    "vaccination_df = pd.read_csv('../data/BCCDC_COVID19_CHSA_Data.csv')"
   ]
  },
  {
   "cell_type": "code",
   "execution_count": 78,
   "metadata": {},
   "outputs": [],
   "source": [
    "income_and_edc_features = socioecomic_factors_df[['median_total_income',\n",
    "                                                  'low_income_prevalence',\n",
    "                                                  'percent_less_than_high_school',\n",
    "                                                  'percent_high_school',\n",
    "                                                  'percent_postsecondary',\n",
    "                                                  'employment_rate',\n",
    "                                                  'total_pop',\n",
    "                                                  'hsa',\n",
    "                                                  'subregion',\n",
    "                                                  'code']]\n",
    "income_and_edc_features = income_and_edc_features.rename(columns={\"code\": \"CHSA18_Code\"}).copy()\n",
    "income_and_edc_features['median_total_income'] = income_and_edc_features['median_total_income'].map(lambda x : x.split('$')[1])\n",
    "income_and_edc_features['median_total_income'] = pd.to_numeric(income_and_edc_features['median_total_income'])\n",
    "\n",
    "# income_and_edc_features = income_and_edc_features.rename(columns={\"code\": \"CHSA18_Code\"}).copy()\n",
    "income_and_edc_features['low_income_prevalence'] = income_and_edc_features['low_income_prevalence'].map(lambda x : x.split('%')[0])\n",
    "income_and_edc_features['low_income_prevalence'] = pd.to_numeric(income_and_edc_features['low_income_prevalence'])\n",
    "\n",
    "income_and_edc_features['percent_less_than_high_school'] = income_and_edc_features['percent_less_than_high_school'].map(lambda x : x.split('%')[0])\n",
    "income_and_edc_features['percent_less_than_high_school'] = pd.to_numeric(income_and_edc_features['percent_less_than_high_school'])\n",
    "income_and_edc_features['percent_high_school'] = income_and_edc_features['percent_high_school'].map(lambda x : x.split('%')[0])\n",
    "income_and_edc_features['percent_high_school'] = pd.to_numeric(income_and_edc_features['percent_high_school'])\n",
    "income_and_edc_features['percent_postsecondary'] = income_and_edc_features['percent_postsecondary'].map(lambda x : x.split('%')[0])\n",
    "income_and_edc_features['percent_postsecondary'] = pd.to_numeric(income_and_edc_features['percent_postsecondary'])\n",
    "income_and_edc_features['employment_rate'] = income_and_edc_features['employment_rate'].map(lambda x : x.split('%')[0])\n",
    "income_and_edc_features['employment_rate'] = pd.to_numeric(income_and_edc_features['employment_rate'])\n",
    "\n"
   ]
  },
  {
   "cell_type": "code",
   "execution_count": 79,
   "metadata": {},
   "outputs": [],
   "source": [
    "combined_df = pd.merge(income_and_edc_features,vaccination_df,on='CHSA18_Code')"
   ]
  },
  {
   "cell_type": "code",
   "execution_count": 80,
   "metadata": {},
   "outputs": [],
   "source": [
    "X = combined_df[[\n",
    "#     'median_total_income',\n",
    "#                  'low_income_prevalence',\n",
    "                 'percent_less_than_high_school',\n",
    "#                  'percent_high_school',\n",
    "#                  'percent_postsecondary',\n",
    "#                  'employment_rate'\n",
    "                ]]\n",
    "y = combined_df[['D1_18_coverage']]"
   ]
  },
  {
   "cell_type": "markdown",
   "metadata": {},
   "source": [
    "$$\n",
    "y_1 = \\sum_{i=1}^6a_ix_i +  b\n",
    "$$"
   ]
  },
  {
   "cell_type": "code",
   "execution_count": 81,
   "metadata": {},
   "outputs": [],
   "source": [
    "X_train,X_test,y_train,y_test = train_test_split(X,y,random_state=42,train_size=0.7)"
   ]
  },
  {
   "cell_type": "code",
   "execution_count": 82,
   "metadata": {},
   "outputs": [
    {
     "data": {
      "text/plain": [
       "LinearRegression()"
      ]
     },
     "execution_count": 82,
     "metadata": {},
     "output_type": "execute_result"
    }
   ],
   "source": [
    "\n",
    "D_1_coverage_predictor = LinearRegression()\n",
    "D_1_coverage_predictor.fit(X_train,y_train)"
   ]
  },
  {
   "cell_type": "code",
   "execution_count": 83,
   "metadata": {},
   "outputs": [
    {
     "name": "stdout",
     "output_type": "stream",
     "text": [
      "                            OLS Regression Results                            \n",
      "==============================================================================\n",
      "Dep. Variable:         D1_18_coverage   R-squared:                       0.225\n",
      "Model:                            OLS   Adj. R-squared:                  0.215\n",
      "Method:                 Least Squares   F-statistic:                     22.93\n",
      "Date:                Sat, 25 Sep 2021   Prob (F-statistic):           7.72e-06\n",
      "Time:                        19:08:08   Log-Likelihood:                -251.14\n",
      "No. Observations:                  81   AIC:                             506.3\n",
      "Df Residuals:                      79   BIC:                             511.1\n",
      "Df Model:                           1                                         \n",
      "Covariance Type:            nonrobust                                         \n",
      "=================================================================================================\n",
      "                                    coef    std err          t      P>|t|      [0.025      0.975]\n",
      "-------------------------------------------------------------------------------------------------\n",
      "const                            95.8264      1.678     57.120      0.000      92.487      99.166\n",
      "percent_less_than_high_school    -0.5079      0.106     -4.788      0.000      -0.719      -0.297\n",
      "==============================================================================\n",
      "Omnibus:                        0.919   Durbin-Watson:                   2.244\n",
      "Prob(Omnibus):                  0.632   Jarque-Bera (JB):                0.404\n",
      "Skew:                          -0.064   Prob(JB):                        0.817\n",
      "Kurtosis:                       3.321   Cond. No.                         44.0\n",
      "==============================================================================\n",
      "\n",
      "Notes:\n",
      "[1] Standard Errors assume that the covariance matrix of the errors is correctly specified.\n"
     ]
    },
    {
     "name": "stderr",
     "output_type": "stream",
     "text": [
      "/home/bread/anaconda3/envs/tf-gpu/lib/python3.9/site-packages/statsmodels/tsa/tsatools.py:142: FutureWarning: In a future version of pandas all arguments of concat except for the argument 'objs' will be keyword-only\n",
      "  x = pd.concat(x[::order], 1)\n"
     ]
    }
   ],
   "source": [
    "# print(mean((D_2_coverage_predictor.predict(X_train) - y_train)**2))\n",
    "fit = sm.OLS(y_train,sm.add_constant(X_train[[\n",
    "#                 'median_total_income',                                        \n",
    "#                 'low_income_prevalence',\n",
    "                  'percent_less_than_high_school',\n",
    "#                  'percent_high_school',\n",
    "#                  'percent_postsecondary',\n",
    "#                  'employment_rate'\n",
    "                                             ]])).fit()\n",
    "\n",
    "print(fit.summary())"
   ]
  },
  {
   "cell_type": "code",
   "execution_count": null,
   "metadata": {},
   "outputs": [],
   "source": []
  },
  {
   "cell_type": "code",
   "execution_count": null,
   "metadata": {},
   "outputs": [],
   "source": []
  },
  {
   "cell_type": "code",
   "execution_count": null,
   "metadata": {},
   "outputs": [],
   "source": []
  },
  {
   "cell_type": "code",
   "execution_count": null,
   "metadata": {},
   "outputs": [],
   "source": []
  },
  {
   "cell_type": "code",
   "execution_count": null,
   "metadata": {},
   "outputs": [],
   "source": []
  }
 ],
 "metadata": {
  "kernelspec": {
   "display_name": "Python 3",
   "language": "python",
   "name": "python3"
  },
  "language_info": {
   "codemirror_mode": {
    "name": "ipython",
    "version": 3
   },
   "file_extension": ".py",
   "mimetype": "text/x-python",
   "name": "python",
   "nbconvert_exporter": "python",
   "pygments_lexer": "ipython3",
   "version": "3.9.5"
  }
 },
 "nbformat": 4,
 "nbformat_minor": 4
}
