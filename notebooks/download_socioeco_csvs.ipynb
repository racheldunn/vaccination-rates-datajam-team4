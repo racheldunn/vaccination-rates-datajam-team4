{
 "cells": [
  {
   "cell_type": "code",
   "execution_count": 37,
   "id": "exceptional-kingdom",
   "metadata": {},
   "outputs": [],
   "source": [
    "import numpy as np\n",
    "import pandas as pd\n",
    "import requests\n",
    "from bs4 import BeautifulSoup\n",
    "from selenium import webdriver\n",
    "from webdriver_manager.chrome import ChromeDriverManager\n",
    "from pathlib import Path\n",
    "import re\n",
    "import time\n",
    "from tqdm import tqdm"
   ]
  },
  {
   "cell_type": "code",
   "execution_count": 38,
   "id": "korean-sterling",
   "metadata": {},
   "outputs": [],
   "source": [
    "# Health Service Area (HSA) home url and names \n",
    "HSA_URL = 'http://communityhealth.phsa.ca/CHSAHealthProfiles'\n",
    "HSA_REGIONS = ['Fraser Health','Interior Health','Island Health','Northern Health','Vancouver Coastal Health']"
   ]
  },
  {
   "cell_type": "code",
   "execution_count": 39,
   "id": "genuine-pavilion",
   "metadata": {},
   "outputs": [],
   "source": [
    "# Get a soup instance for the HSA_URL\n",
    "hsa_page = requests.get(HSA_URL)\n",
    "soup = BeautifulSoup(hsa_page.content,'html.parser')"
   ]
  },
  {
   "cell_type": "code",
   "execution_count": 40,
   "id": "common-intention",
   "metadata": {},
   "outputs": [],
   "source": [
    "# HSAs for which data needs to be downloaded\n",
    "HSA_REGIONS_DOWNLOAD = ['Fraser Health','Island Health','Northern Health','Vancouver Coastal Health']"
   ]
  },
  {
   "cell_type": "code",
   "execution_count": 41,
   "id": "fundamental-grounds",
   "metadata": {},
   "outputs": [
    {
     "name": "stderr",
     "output_type": "stream",
     "text": [
      "100%|██████████| 5/5 [00:00<00:00, 85.88it/s]\n"
     ]
    }
   ],
   "source": [
    "# Find HSA subregions and web links for HSAs\n",
    "hsa_subregions_links = dict()\n",
    "root = 'http://communityhealth.phsa.ca'\n",
    "for region in tqdm(HSA_REGIONS):\n",
    "    hsa_block = soup.find('a',attrs={'class':'collapsed currentLHA'},text=re.compile(region)).parent.parent.parent\n",
    "    hsa_subregions = hsa_block.find('ul',attrs={'class':'col-xs-12'}).findAll('li')\n",
    "    subregion2link = dict()\n",
    "    for subregion in hsa_subregions:\n",
    "        subregion_name = subregion.find('a').text\n",
    "        subregion_link = subregion.find('a')['href']\n",
    "        subregion2link[subregion_name] = root + subregion_link\n",
    "    hsa_subregions_links[region] = subregion2link"
   ]
  },
  {
   "cell_type": "code",
   "execution_count": 21,
   "id": "freelance-marketing",
   "metadata": {},
   "outputs": [
    {
     "name": "stdout",
     "output_type": "stream",
     "text": [
      "/Users/shreygrover/Desktop/Hackathons/Vancouver_DataJam_2021/src\n"
     ]
    }
   ],
   "source": [
    "# Create folders for each HSAs (mentioned for download)\n",
    "code_path = Path.cwd()\n",
    "print(code_path)\n",
    "data_path = code_path.parent/'data'\n",
    "data_path.mkdir(exist_ok=True)\n",
    "for region in HSA_REGIONS_DOWNLOAD:\n",
    "    region_path = data_path/region\n",
    "    region_path.mkdir(exist_ok=True)"
   ]
  },
  {
   "cell_type": "code",
   "execution_count": 15,
   "id": "proper-flash",
   "metadata": {},
   "outputs": [
    {
     "name": "stderr",
     "output_type": "stream",
     "text": [
      "  0%|          | 0/4 [00:00<?, ?it/s]"
     ]
    },
    {
     "name": "stdout",
     "output_type": "stream",
     "text": [
      "http://communityhealth.phsa.ca/CHSAHealthProfiles/CHSAHealthReport/Abbotsford%20Rural\n",
      "http://communityhealth.phsa.ca/CHSAHealthProfiles/CHSAHealthReport/Agassiz_Harrison\n",
      "http://communityhealth.phsa.ca/CHSAHealthProfiles/CHSAHealthReport/Aldergrove_Otter\n",
      "http://communityhealth.phsa.ca/CHSAHealthProfiles/CHSAHealthReport/Brookswood_Murrayville\n",
      "http://communityhealth.phsa.ca/CHSAHealthProfiles/CHSAHealthReport/Burnaby%20Northeast\n",
      "http://communityhealth.phsa.ca/CHSAHealthProfiles/CHSAHealthReport/Burnaby%20Northwest\n",
      "http://communityhealth.phsa.ca/CHSAHealthProfiles/CHSAHealthReport/Burnaby%20Southeast\n",
      "http://communityhealth.phsa.ca/CHSAHealthProfiles/CHSAHealthReport/Burnaby%20Southwest\n",
      "http://communityhealth.phsa.ca/CHSAHealthProfiles/CHSAHealthReport/Central%20Abbotsford\n",
      "http://communityhealth.phsa.ca/CHSAHealthProfiles/CHSAHealthReport/City%20of%20Langley\n",
      "http://communityhealth.phsa.ca/CHSAHealthProfiles/CHSAHealthReport/Cloverdale\n",
      "http://communityhealth.phsa.ca/CHSAHealthProfiles/CHSAHealthReport/East%20Abbotsford\n",
      "http://communityhealth.phsa.ca/CHSAHealthProfiles/CHSAHealthReport/East%20Newton\n",
      "http://communityhealth.phsa.ca/CHSAHealthProfiles/CHSAHealthReport/Fleetwood\n",
      "http://communityhealth.phsa.ca/CHSAHealthProfiles/CHSAHealthReport/Guildford\n",
      "http://communityhealth.phsa.ca/CHSAHealthProfiles/CHSAHealthReport/Haney\n",
      "http://communityhealth.phsa.ca/CHSAHealthProfiles/CHSAHealthReport/Hope\n",
      "http://communityhealth.phsa.ca/CHSAHealthProfiles/CHSAHealthReport/Ladner\n",
      "http://communityhealth.phsa.ca/CHSAHealthProfiles/CHSAHealthReport/Maple%20Ridge%20Rural\n",
      "http://communityhealth.phsa.ca/CHSAHealthProfiles/CHSAHealthReport/New%20Westminster\n",
      "http://communityhealth.phsa.ca/CHSAHealthProfiles/CHSAHealthReport/North%20Chilliwack\n",
      "http://communityhealth.phsa.ca/CHSAHealthProfiles/CHSAHealthReport/North%20Coquitlam\n",
      "http://communityhealth.phsa.ca/CHSAHealthProfiles/CHSAHealthReport/North%20Delta\n",
      "http://communityhealth.phsa.ca/CHSAHealthProfiles/CHSAHealthReport/North%20Langley%20Township\n",
      "http://communityhealth.phsa.ca/CHSAHealthProfiles/CHSAHealthReport/North%20Mission\n",
      "http://communityhealth.phsa.ca/CHSAHealthProfiles/CHSAHealthReport/North%20Surrey\n",
      "http://communityhealth.phsa.ca/CHSAHealthProfiles/CHSAHealthReport/Panorama\n",
      "http://communityhealth.phsa.ca/CHSAHealthProfiles/CHSAHealthReport/Pitt%20Meadows\n",
      "http://communityhealth.phsa.ca/CHSAHealthProfiles/CHSAHealthReport/Port%20Coquitlam\n",
      "http://communityhealth.phsa.ca/CHSAHealthProfiles/CHSAHealthReport/Port%20Moody_Anmore_Belcarra\n",
      "http://communityhealth.phsa.ca/CHSAHealthProfiles/CHSAHealthReport/South%20Chilliwack\n",
      "http://communityhealth.phsa.ca/CHSAHealthProfiles/CHSAHealthReport/South%20Langley%20Township\n",
      "http://communityhealth.phsa.ca/CHSAHealthProfiles/CHSAHealthReport/South%20Mission\n",
      "http://communityhealth.phsa.ca/CHSAHealthProfiles/CHSAHealthReport/South%20Surrey\n",
      "http://communityhealth.phsa.ca/CHSAHealthProfiles/CHSAHealthReport/Southeast%20Coquitlam\n",
      "http://communityhealth.phsa.ca/CHSAHealthProfiles/CHSAHealthReport/Southwest%20Coquitlam\n",
      "http://communityhealth.phsa.ca/CHSAHealthProfiles/CHSAHealthReport/Tsawwassen\n",
      "http://communityhealth.phsa.ca/CHSAHealthProfiles/CHSAHealthReport/Walnut%20Grove_Fort%20Langley\n",
      "http://communityhealth.phsa.ca/CHSAHealthProfiles/CHSAHealthReport/West%20Abbotsford\n",
      "http://communityhealth.phsa.ca/CHSAHealthProfiles/CHSAHealthReport/West%20Newton\n",
      "http://communityhealth.phsa.ca/CHSAHealthProfiles/CHSAHealthReport/Whalley\n",
      "http://communityhealth.phsa.ca/CHSAHealthProfiles/CHSAHealthReport/White%20Rock\n",
      "http://communityhealth.phsa.ca/CHSAHealthProfiles/CHSAHealthReport/Willoughby\n"
     ]
    },
    {
     "name": "stderr",
     "output_type": "stream",
     "text": [
      " 25%|██▌       | 1/4 [03:12<09:38, 192.70s/it]"
     ]
    },
    {
     "name": "stdout",
     "output_type": "stream",
     "text": [
      "http://communityhealth.phsa.ca/CHSAHealthProfiles/CHSAHealthReport/Alberni%20Valley_Bamfield\n",
      "http://communityhealth.phsa.ca/CHSAHealthProfiles/CHSAHealthReport/Campbell%20River\n",
      "http://communityhealth.phsa.ca/CHSAHealthProfiles/CHSAHealthReport/Campbell%20River%20Rural\n",
      "http://communityhealth.phsa.ca/CHSAHealthProfiles/CHSAHealthReport/Cedar_Wellington\n",
      "http://communityhealth.phsa.ca/CHSAHealthProfiles/CHSAHealthReport/Central%20Cowichan\n",
      "http://communityhealth.phsa.ca/CHSAHealthProfiles/CHSAHealthReport/Central%20Saanich\n",
      "http://communityhealth.phsa.ca/CHSAHealthProfiles/CHSAHealthReport/Chemainus\n",
      "http://communityhealth.phsa.ca/CHSAHealthProfiles/CHSAHealthReport/Colwood\n",
      "http://communityhealth.phsa.ca/CHSAHealthProfiles/CHSAHealthReport/Comox\n",
      "http://communityhealth.phsa.ca/CHSAHealthProfiles/CHSAHealthReport/Comox%20Valley%20Rural\n",
      "http://communityhealth.phsa.ca/CHSAHealthProfiles/CHSAHealthReport/Courtenay\n",
      "http://communityhealth.phsa.ca/CHSAHealthProfiles/CHSAHealthReport/Cowichan%20Valley%20West\n",
      "http://communityhealth.phsa.ca/CHSAHealthProfiles/CHSAHealthReport/Departure%20Bay\n",
      "http://communityhealth.phsa.ca/CHSAHealthProfiles/CHSAHealthReport/Downtown%20Nanaimo\n",
      "http://communityhealth.phsa.ca/CHSAHealthProfiles/CHSAHealthReport/Downtown%20Victoria_Vic%20West\n",
      "http://communityhealth.phsa.ca/CHSAHealthProfiles/CHSAHealthReport/Esquimalt\n",
      "http://communityhealth.phsa.ca/CHSAHealthProfiles/CHSAHealthReport/Gabriola%20Island\n",
      "http://communityhealth.phsa.ca/CHSAHealthProfiles/CHSAHealthReport/Gordon%20Head_Shelbourne\n",
      "http://communityhealth.phsa.ca/CHSAHealthProfiles/CHSAHealthReport/Interurban_Tillicum\n",
      "http://communityhealth.phsa.ca/CHSAHealthProfiles/CHSAHealthReport/James%20Bay_Fairfield\n",
      "http://communityhealth.phsa.ca/CHSAHealthProfiles/CHSAHealthReport/Juan%20de%20Fuca%20Coast\n",
      "http://communityhealth.phsa.ca/CHSAHealthProfiles/CHSAHealthReport/Ladysmith\n",
      "http://communityhealth.phsa.ca/CHSAHealthProfiles/CHSAHealthReport/Langford_Highlands\n",
      "http://communityhealth.phsa.ca/CHSAHealthProfiles/CHSAHealthReport/Metchosin\n",
      "http://communityhealth.phsa.ca/CHSAHealthProfiles/CHSAHealthReport/Nanaimo%20North_Lantzville\n",
      "http://communityhealth.phsa.ca/CHSAHealthProfiles/CHSAHealthReport/Nanaimo%20South\n",
      "http://communityhealth.phsa.ca/CHSAHealthProfiles/CHSAHealthReport/Nanaimo%20West_Rural\n",
      "http://communityhealth.phsa.ca/CHSAHealthProfiles/CHSAHealthReport/North%20Saanich\n",
      "http://communityhealth.phsa.ca/CHSAHealthProfiles/CHSAHealthReport/Oak%20Bay\n",
      "http://communityhealth.phsa.ca/CHSAHealthProfiles/CHSAHealthReport/Oaklands_Fernwood\n",
      "http://communityhealth.phsa.ca/CHSAHealthProfiles/CHSAHealthReport/Oceanside%20Rural\n",
      "http://communityhealth.phsa.ca/CHSAHealthProfiles/CHSAHealthReport/Parksville\n",
      "http://communityhealth.phsa.ca/CHSAHealthProfiles/CHSAHealthReport/Pender_Galiano_Saturna_Mayne\n",
      "http://communityhealth.phsa.ca/CHSAHealthProfiles/CHSAHealthReport/Port%20Alberni\n",
      "http://communityhealth.phsa.ca/CHSAHealthProfiles/CHSAHealthReport/Port%20McNeill_Sointula\n",
      "http://communityhealth.phsa.ca/CHSAHealthProfiles/CHSAHealthReport/Quadra_Swan%20Lake\n",
      "http://communityhealth.phsa.ca/CHSAHealthProfiles/CHSAHealthReport/Qualicum%20Beach\n",
      "http://communityhealth.phsa.ca/CHSAHealthProfiles/CHSAHealthReport/Royal%20Oak_Cordova%20Bay_Prospect\n",
      "http://communityhealth.phsa.ca/CHSAHealthProfiles/CHSAHealthReport/Salt%20Spring%20Island\n",
      "http://communityhealth.phsa.ca/CHSAHealthProfiles/CHSAHealthReport/Sidney\n",
      "http://communityhealth.phsa.ca/CHSAHealthProfiles/CHSAHealthReport/Sooke\n",
      "http://communityhealth.phsa.ca/CHSAHealthProfiles/CHSAHealthReport/South%20Cowichan\n",
      "http://communityhealth.phsa.ca/CHSAHealthProfiles/CHSAHealthReport/View%20Royal\n"
     ]
    },
    {
     "name": "stderr",
     "output_type": "stream",
     "text": [
      " 50%|█████     | 2/4 [06:21<06:20, 190.44s/it]"
     ]
    },
    {
     "name": "stdout",
     "output_type": "stream",
     "text": [
      "http://communityhealth.phsa.ca/CHSAHealthProfiles/CHSAHealthReport/Burns%20Lake%20North\n",
      "http://communityhealth.phsa.ca/CHSAHealthProfiles/CHSAHealthReport/Burns%20Lake%20South\n",
      "http://communityhealth.phsa.ca/CHSAHealthProfiles/CHSAHealthReport/Chetwynd\n",
      "http://communityhealth.phsa.ca/CHSAHealthProfiles/CHSAHealthReport/Dawson%20Creek\n",
      "http://communityhealth.phsa.ca/CHSAHealthProfiles/CHSAHealthReport/Fort%20Nelson%20Population%20Centre\n",
      "http://communityhealth.phsa.ca/CHSAHealthProfiles/CHSAHealthReport/Fort%20St%20John\n",
      "http://communityhealth.phsa.ca/CHSAHealthProfiles/CHSAHealthReport/Fraser%20Lake\n",
      "http://communityhealth.phsa.ca/CHSAHealthProfiles/CHSAHealthReport/Houston\n",
      "http://communityhealth.phsa.ca/CHSAHealthProfiles/CHSAHealthReport/Hudson's%20Hope\n",
      "http://communityhealth.phsa.ca/CHSAHealthProfiles/CHSAHealthReport/Kitimat\n",
      "http://communityhealth.phsa.ca/CHSAHealthProfiles/CHSAHealthReport/Mackenzie\n",
      "http://communityhealth.phsa.ca/CHSAHealthProfiles/CHSAHealthReport/McBride_Valemount\n",
      "http://communityhealth.phsa.ca/CHSAHealthProfiles/CHSAHealthReport/Peace%20River%20North%20Rural\n",
      "http://communityhealth.phsa.ca/CHSAHealthProfiles/CHSAHealthReport/Peace%20River%20South%20Rural\n",
      "http://communityhealth.phsa.ca/CHSAHealthProfiles/CHSAHealthReport/Prince%20George%20City%20-%20Central\n",
      "http://communityhealth.phsa.ca/CHSAHealthProfiles/CHSAHealthReport/Prince%20George%20City%20-%20North\n",
      "http://communityhealth.phsa.ca/CHSAHealthProfiles/CHSAHealthReport/Prince%20George%20City%20-%20Southwest\n",
      "http://communityhealth.phsa.ca/CHSAHealthProfiles/CHSAHealthReport/Prince%20George%20North%20Fraser%20Rural\n",
      "http://communityhealth.phsa.ca/CHSAHealthProfiles/CHSAHealthReport/Prince%20George%20Southwest%20Rural\n",
      "http://communityhealth.phsa.ca/CHSAHealthProfiles/CHSAHealthReport/Quesnel%20City%20Centre\n",
      "http://communityhealth.phsa.ca/CHSAHealthProfiles/CHSAHealthReport/Quesnel%20Rural\n",
      "http://communityhealth.phsa.ca/CHSAHealthProfiles/CHSAHealthReport/Smithers%20Rural\n",
      "http://communityhealth.phsa.ca/CHSAHealthProfiles/CHSAHealthReport/Smithers%20Town%20Centre\n",
      "http://communityhealth.phsa.ca/CHSAHealthProfiles/CHSAHealthReport/Snow%20Country\n",
      "http://communityhealth.phsa.ca/CHSAHealthProfiles/CHSAHealthReport/Terrace%20City%20Centre\n",
      "http://communityhealth.phsa.ca/CHSAHealthProfiles/CHSAHealthReport/Terrace%20Rural\n",
      "http://communityhealth.phsa.ca/CHSAHealthProfiles/CHSAHealthReport/Tumbler%20Ridge\n",
      "http://communityhealth.phsa.ca/CHSAHealthProfiles/CHSAHealthReport/Vanderhoof\n",
      "http://communityhealth.phsa.ca/CHSAHealthProfiles/CHSAHealthReport/Vanderhoof%20Rural\n"
     ]
    },
    {
     "name": "stderr",
     "output_type": "stream",
     "text": [
      " 75%|███████▌  | 3/4 [08:29<02:41, 161.75s/it]"
     ]
    },
    {
     "name": "stdout",
     "output_type": "stream",
     "text": [
      "http://communityhealth.phsa.ca/CHSAHealthProfiles/CHSAHealthReport/Blundell\n",
      "http://communityhealth.phsa.ca/CHSAHealthProfiles/CHSAHealthReport/Bowen%20Island_Lions%20Bay\n",
      "http://communityhealth.phsa.ca/CHSAHealthProfiles/CHSAHealthReport/Broadmoor\n",
      "http://communityhealth.phsa.ca/CHSAHealthProfiles/CHSAHealthReport/Cedar%20Cottage\n",
      "http://communityhealth.phsa.ca/CHSAHealthProfiles/CHSAHealthReport/Downtown%20Eastside\n",
      "http://communityhealth.phsa.ca/CHSAHealthProfiles/CHSAHealthReport/Downtown%20Vancouver\n",
      "http://communityhealth.phsa.ca/CHSAHealthProfiles/CHSAHealthReport/East%20and%20West%20Cambie_Bridgeport\n",
      "http://communityhealth.phsa.ca/CHSAHealthProfiles/CHSAHealthReport/Fairview\n",
      "http://communityhealth.phsa.ca/CHSAHealthProfiles/CHSAHealthReport/Gibsons\n",
      "http://communityhealth.phsa.ca/CHSAHealthProfiles/CHSAHealthReport/Gilmore_Shellmont_East_Hamilton\n",
      "http://communityhealth.phsa.ca/CHSAHealthProfiles/CHSAHealthReport/Grandview-Woodland\n",
      "http://communityhealth.phsa.ca/CHSAHealthProfiles/CHSAHealthReport/Hastings-Sunrise\n",
      "http://communityhealth.phsa.ca/CHSAHealthProfiles/CHSAHealthReport/Kensington\n",
      "http://communityhealth.phsa.ca/CHSAHealthProfiles/CHSAHealthReport/Killarney\n",
      "http://communityhealth.phsa.ca/CHSAHealthProfiles/CHSAHealthReport/Kitsilano\n",
      "http://communityhealth.phsa.ca/CHSAHealthProfiles/CHSAHealthReport/Mount%20Pleasant\n",
      "http://communityhealth.phsa.ca/CHSAHealthProfiles/CHSAHealthReport/North%20Vancouver%20City%20-%20East\n",
      "http://communityhealth.phsa.ca/CHSAHealthProfiles/CHSAHealthReport/North%20Vancouver%20City%20-%20West\n",
      "http://communityhealth.phsa.ca/CHSAHealthProfiles/CHSAHealthReport/North%20Vancouver%20DM%20-%20Central\n",
      "http://communityhealth.phsa.ca/CHSAHealthProfiles/CHSAHealthReport/North%20Vancouver%20DM%20-%20East\n",
      "http://communityhealth.phsa.ca/CHSAHealthProfiles/CHSAHealthReport/North%20Vancouver%20DM%20-%20West\n",
      "http://communityhealth.phsa.ca/CHSAHealthProfiles/CHSAHealthReport/Northeast%20False%20Creek\n",
      "http://communityhealth.phsa.ca/CHSAHealthProfiles/CHSAHealthReport/Oakridge_Marpole\n",
      "http://communityhealth.phsa.ca/CHSAHealthProfiles/CHSAHealthReport/Powell%20River%20City\n",
      "http://communityhealth.phsa.ca/CHSAHealthProfiles/CHSAHealthReport/qathet%20Rural\n",
      "http://communityhealth.phsa.ca/CHSAHealthProfiles/CHSAHealthReport/Renfrew-Collingwood\n",
      "http://communityhealth.phsa.ca/CHSAHealthProfiles/CHSAHealthReport/Richmond%20City%20Centre\n",
      "http://communityhealth.phsa.ca/CHSAHealthProfiles/CHSAHealthReport/Sechelt\n",
      "http://communityhealth.phsa.ca/CHSAHealthProfiles/CHSAHealthReport/Shaughnessy_Arbutus%20Ridge_Kerrisdale\n",
      "http://communityhealth.phsa.ca/CHSAHealthProfiles/CHSAHealthReport/South%20Cambie_Riley%20Park\n",
      "http://communityhealth.phsa.ca/CHSAHealthProfiles/CHSAHealthReport/Squamish\n",
      "http://communityhealth.phsa.ca/CHSAHealthProfiles/CHSAHealthReport/Steveston\n",
      "http://communityhealth.phsa.ca/CHSAHealthProfiles/CHSAHealthReport/Sunset\n",
      "http://communityhealth.phsa.ca/CHSAHealthProfiles/CHSAHealthReport/Sunshine%20Coast%20Rural\n",
      "http://communityhealth.phsa.ca/CHSAHealthProfiles/CHSAHealthReport/Thompson_Seafair\n",
      "http://communityhealth.phsa.ca/CHSAHealthProfiles/CHSAHealthReport/University%20of%20British%20Columbia\n",
      "http://communityhealth.phsa.ca/CHSAHealthProfiles/CHSAHealthReport/Victoria-Fraserview\n",
      "http://communityhealth.phsa.ca/CHSAHealthProfiles/CHSAHealthReport/West%20End\n",
      "http://communityhealth.phsa.ca/CHSAHealthProfiles/CHSAHealthReport/West%20Point%20Grey_Dunbar-Southlands\n",
      "http://communityhealth.phsa.ca/CHSAHealthProfiles/CHSAHealthReport/West%20Vancouver%20-%20Lower\n",
      "http://communityhealth.phsa.ca/CHSAHealthProfiles/CHSAHealthReport/West%20Vancouver%20-%20Upper\n",
      "http://communityhealth.phsa.ca/CHSAHealthProfiles/CHSAHealthReport/Whistler\n"
     ]
    },
    {
     "name": "stderr",
     "output_type": "stream",
     "text": [
      "100%|██████████| 4/4 [11:35<00:00, 173.84s/it]\n"
     ]
    }
   ],
   "source": [
    "# Visit each HSA subregion weblink and download the socioeconomic data csv. Store it in the respective HSA folder.\n",
    "for region in tqdm(HSA_REGIONS_DOWNLOAD):\n",
    "    chrome_options = webdriver.ChromeOptions()\n",
    "    prefs = {'download.default_directory' : str(data_path/region)}\n",
    "    chrome_options.add_experimental_option('prefs', prefs)\n",
    "    browser = webdriver.Chrome('/usr/local/bin/chromedriver',options=chrome_options)\n",
    "    \n",
    "    subregion2link = hsa_subregions_links[region]\n",
    "    for subregion in subregion2link.keys():\n",
    "        subregion_link = subregion2link[subregion]\n",
    "        print(subregion_link)\n",
    "        browser.get(subregion_link)\n",
    "        \n",
    "        browser.find_element_by_xpath(\"//a[@class='button']\").click()\n",
    "        time.sleep(4)\n",
    "    browser.close()"
   ]
  },
  {
   "cell_type": "code",
   "execution_count": 42,
   "id": "interesting-watershed",
   "metadata": {},
   "outputs": [],
   "source": [
    "def clean_subregions(val):\n",
    "    code, name = val.split(\" \",1)\n",
    "    mod_name = name.replace('/','_')\n",
    "    return code, mod_name\n",
    "\n",
    "subregion2code = dict()\n",
    "for key in hsa_subregions_links:\n",
    "    hsa_subregions = hsa_subregions_links[key].keys()\n",
    "    for subregion in hsa_subregions:\n",
    "        code, mod_name = clean_subregions(subregion)\n",
    "        subregion2code[mod_name] = code"
   ]
  },
  {
   "cell_type": "code",
   "execution_count": 43,
   "id": "therapeutic-envelope",
   "metadata": {},
   "outputs": [],
   "source": [
    "processed_data_path = data_path.parent/'processed'\n",
    "processed_data_path.mkdir(exist_ok=True)\n",
    "\n",
    "subregion2code_df = pd.DataFrame(subregion2code.items(),columns=['subregion','code'])\n",
    "subregion2code_df.to_csv(processed_data_path/'subregion2code.csv',index=False)"
   ]
  },
  {
   "cell_type": "code",
   "execution_count": null,
   "id": "enabling-given",
   "metadata": {},
   "outputs": [],
   "source": []
  }
 ],
 "metadata": {
  "kernelspec": {
   "display_name": "Python 3",
   "language": "python",
   "name": "python3"
  },
  "language_info": {
   "codemirror_mode": {
    "name": "ipython",
    "version": 3
   },
   "file_extension": ".py",
   "mimetype": "text/x-python",
   "name": "python",
   "nbconvert_exporter": "python",
   "pygments_lexer": "ipython3",
   "version": "3.7.7"
  }
 },
 "nbformat": 4,
 "nbformat_minor": 5
}
