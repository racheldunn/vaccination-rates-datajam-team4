{
 "cells": [
  {
   "cell_type": "markdown",
   "metadata": {},
   "source": [
    "# Vaccination Rates and Socioeconomic Status in BC\n",
    "\n",
    "### Project authors:\n",
    "\n",
    "### Created on: October 25, 2021\n",
    "\n",
    "### Last modified on: October 25, 2021"
   ]
  },
  {
   "cell_type": "markdown",
   "metadata": {},
   "source": [
    "## Import libraries"
   ]
  },
  {
   "cell_type": "code",
   "execution_count": 70,
   "metadata": {},
   "outputs": [],
   "source": [
    "import pandas as pd\n",
    "import seaborn as sns\n",
    "import matplotlib.pyplot as plt\n",
    "import numpy as np\n",
    "from sklearn.linear_model import LinearRegression\n",
    "from sklearn.model_selection import train_test_split\n",
    "from sklearn.preprocessing import MinMaxScaler\n",
    "from sklearn.metrics import r2_score\n",
    "from sklearn.preprocessing import OrdinalEncoder\n"
   ]
  },
  {
   "cell_type": "code",
   "execution_count": 98,
   "metadata": {},
   "outputs": [
    {
     "data": {
      "text/plain": [
       "Index(['m_0_4', 'm_5_9', 'm_10_14', 'm_15_19', 'm_20_24', 'm_25_29', 'm_30_34',\n",
       "       'm_35_39', 'm_40_44', 'm_45_49',\n",
       "       ...\n",
       "       'rheumatoid_arthritis_age_standardized_prevalence_per_100',\n",
       "       'schizophrenia_incidence_per_1000', 'schizophrenia_prevalence_per_100',\n",
       "       'schizophrenia_age_standardized_incidence_per_1000',\n",
       "       'schizophrenia_age_standardized_prevalence_per_100', 'hsa', 'subregion',\n",
       "       'proportion_has_GP_practitioner.1', 'proportion_has_GP_practice.1',\n",
       "       'code'],\n",
       "      dtype='object', length=207)"
      ]
     },
     "execution_count": 98,
     "metadata": {},
     "output_type": "execute_result"
    }
   ],
   "source": [
    "# load dataframes\n",
    "modelling_df = pd.read_csv('../data/socioeco_compiled.csv')\n",
    "vaccine_df = pd.read_csv('../data/BCCDC_COVID19_CHSA_Data_NHA.csv')\n",
    "modelling_df.columns"
   ]
  },
  {
   "cell_type": "code",
   "execution_count": 99,
   "metadata": {},
   "outputs": [
    {
     "name": "stdout",
     "output_type": "stream",
     "text": [
      "151\n"
     ]
    },
    {
     "data": {
      "text/html": [
       "<div>\n",
       "<style scoped>\n",
       "    .dataframe tbody tr th:only-of-type {\n",
       "        vertical-align: middle;\n",
       "    }\n",
       "\n",
       "    .dataframe tbody tr th {\n",
       "        vertical-align: top;\n",
       "    }\n",
       "\n",
       "    .dataframe thead th {\n",
       "        text-align: right;\n",
       "    }\n",
       "</style>\n",
       "<table border=\"1\" class=\"dataframe\">\n",
       "  <thead>\n",
       "    <tr style=\"text-align: right;\">\n",
       "      <th></th>\n",
       "      <th>code</th>\n",
       "      <th>percent_dwellings_need_repairs</th>\n",
       "      <th>percent_detached_houses</th>\n",
       "      <th>situational_vulnerability</th>\n",
       "      <th>ethnocultural_composition</th>\n",
       "      <th>economic_dependency</th>\n",
       "      <th>residential_instability</th>\n",
       "      <th>percent_aboriginal</th>\n",
       "      <th>percent_chinese</th>\n",
       "      <th>percent_filipino</th>\n",
       "      <th>percent_white</th>\n",
       "      <th>percent_immigrant</th>\n",
       "      <th>percent_no_eng_fra</th>\n",
       "      <th>percent_less_than_high_school</th>\n",
       "      <th>employment_rate</th>\n",
       "      <th>hsa</th>\n",
       "      <th>D1_12_coverage</th>\n",
       "    </tr>\n",
       "  </thead>\n",
       "  <tbody>\n",
       "    <tr>\n",
       "      <th>0</th>\n",
       "      <td>3112</td>\n",
       "      <td>5.4%</td>\n",
       "      <td>60.7%</td>\n",
       "      <td>3.0</td>\n",
       "      <td>5.0</td>\n",
       "      <td>4.0</td>\n",
       "      <td>2.0</td>\n",
       "      <td>0.6%</td>\n",
       "      <td>65.4%</td>\n",
       "      <td>4.2%</td>\n",
       "      <td>18.5%</td>\n",
       "      <td>65.4%</td>\n",
       "      <td>13.3%</td>\n",
       "      <td>13.0%</td>\n",
       "      <td>49.5%</td>\n",
       "      <td>Vancouver Coastal Health</td>\n",
       "      <td>84.0</td>\n",
       "    </tr>\n",
       "    <tr>\n",
       "      <th>1</th>\n",
       "      <td>3223</td>\n",
       "      <td>10.6%</td>\n",
       "      <td>8.5%</td>\n",
       "      <td>4.0</td>\n",
       "      <td>4.0</td>\n",
       "      <td>1.0</td>\n",
       "      <td>5.0</td>\n",
       "      <td>7.8%</td>\n",
       "      <td>13.4%</td>\n",
       "      <td>3.0%</td>\n",
       "      <td>64.2%</td>\n",
       "      <td>26.6%</td>\n",
       "      <td>4.3%</td>\n",
       "      <td>14.0%</td>\n",
       "      <td>69.9%</td>\n",
       "      <td>Vancouver Coastal Health</td>\n",
       "      <td>89.0</td>\n",
       "    </tr>\n",
       "    <tr>\n",
       "      <th>2</th>\n",
       "      <td>3115</td>\n",
       "      <td>4.6%</td>\n",
       "      <td>48.7%</td>\n",
       "      <td>2.0</td>\n",
       "      <td>5.0</td>\n",
       "      <td>3.0</td>\n",
       "      <td>2.0</td>\n",
       "      <td>1.6%</td>\n",
       "      <td>30.9%</td>\n",
       "      <td>5.3%</td>\n",
       "      <td>46.8%</td>\n",
       "      <td>40.4%</td>\n",
       "      <td>4.4%</td>\n",
       "      <td>10.4%</td>\n",
       "      <td>60.0%</td>\n",
       "      <td>Vancouver Coastal Health</td>\n",
       "      <td>90.0</td>\n",
       "    </tr>\n",
       "    <tr>\n",
       "      <th>3</th>\n",
       "      <td>3261</td>\n",
       "      <td>7.2%</td>\n",
       "      <td>16.4%</td>\n",
       "      <td>4.0</td>\n",
       "      <td>5.0</td>\n",
       "      <td>3.0</td>\n",
       "      <td>4.0</td>\n",
       "      <td>1.5%</td>\n",
       "      <td>40.2%</td>\n",
       "      <td>8.9%</td>\n",
       "      <td>27.0%</td>\n",
       "      <td>52.2%</td>\n",
       "      <td>9.1%</td>\n",
       "      <td>16.6%</td>\n",
       "      <td>59.2%</td>\n",
       "      <td>Vancouver Coastal Health</td>\n",
       "      <td>92.0</td>\n",
       "    </tr>\n",
       "    <tr>\n",
       "      <th>4</th>\n",
       "      <td>3312</td>\n",
       "      <td>6.2%</td>\n",
       "      <td>6.3%</td>\n",
       "      <td>2.0</td>\n",
       "      <td>5.0</td>\n",
       "      <td>1.0</td>\n",
       "      <td>5.0</td>\n",
       "      <td>3.8%</td>\n",
       "      <td>4.2%</td>\n",
       "      <td>6.6%</td>\n",
       "      <td>62.7%</td>\n",
       "      <td>41.4%</td>\n",
       "      <td>1.8%</td>\n",
       "      <td>8.5%</td>\n",
       "      <td>65.8%</td>\n",
       "      <td>Vancouver Coastal Health</td>\n",
       "      <td>91.0</td>\n",
       "    </tr>\n",
       "  </tbody>\n",
       "</table>\n",
       "</div>"
      ],
      "text/plain": [
       "   code percent_dwellings_need_repairs percent_detached_houses  \\\n",
       "0  3112                           5.4%                   60.7%   \n",
       "1  3223                          10.6%                    8.5%   \n",
       "2  3115                           4.6%                   48.7%   \n",
       "3  3261                           7.2%                   16.4%   \n",
       "4  3312                           6.2%                    6.3%   \n",
       "\n",
       "   situational_vulnerability  ethnocultural_composition  economic_dependency  \\\n",
       "0                        3.0                        5.0                  4.0   \n",
       "1                        4.0                        4.0                  1.0   \n",
       "2                        2.0                        5.0                  3.0   \n",
       "3                        4.0                        5.0                  3.0   \n",
       "4                        2.0                        5.0                  1.0   \n",
       "\n",
       "   residential_instability percent_aboriginal percent_chinese  \\\n",
       "0                      2.0               0.6%           65.4%   \n",
       "1                      5.0               7.8%           13.4%   \n",
       "2                      2.0               1.6%           30.9%   \n",
       "3                      4.0               1.5%           40.2%   \n",
       "4                      5.0               3.8%            4.2%   \n",
       "\n",
       "  percent_filipino percent_white percent_immigrant percent_no_eng_fra  \\\n",
       "0             4.2%         18.5%             65.4%              13.3%   \n",
       "1             3.0%         64.2%             26.6%               4.3%   \n",
       "2             5.3%         46.8%             40.4%               4.4%   \n",
       "3             8.9%         27.0%             52.2%               9.1%   \n",
       "4             6.6%         62.7%             41.4%               1.8%   \n",
       "\n",
       "  percent_less_than_high_school employment_rate                       hsa  \\\n",
       "0                         13.0%           49.5%  Vancouver Coastal Health   \n",
       "1                         14.0%           69.9%  Vancouver Coastal Health   \n",
       "2                         10.4%           60.0%  Vancouver Coastal Health   \n",
       "3                         16.6%           59.2%  Vancouver Coastal Health   \n",
       "4                          8.5%           65.8%  Vancouver Coastal Health   \n",
       "\n",
       "   D1_12_coverage  \n",
       "0            84.0  \n",
       "1            89.0  \n",
       "2            90.0  \n",
       "3            92.0  \n",
       "4            91.0  "
      ]
     },
     "execution_count": 99,
     "metadata": {},
     "output_type": "execute_result"
    }
   ],
   "source": [
    "# subset dataframes\n",
    "modelling_df = modelling_df[['code','percent_dwellings_need_repairs','percent_detached_houses',\n",
    "'situational_vulnerability', 'ethnocultural_composition', 'economic_dependency', 'residential_instability', \n",
    "'percent_aboriginal', 'percent_chinese', 'percent_filipino', 'percent_white',\n",
    "'percent_immigrant', 'percent_no_eng_fra', 'percent_less_than_high_school', 'employment_rate', 'hsa']]\n",
    "vaccine_df = vaccine_df[['CHSA18_Code','D1_12_coverage']]\n",
    "vaccine_df.columns = ['code', 'D1_12_coverage']\n",
    "\n",
    "# merge dataframes\n",
    "m_df = pd.merge(modelling_df, vaccine_df, how = 'inner', on=\"code\")\n",
    "print(len(m_df))\n",
    "m_df.head()"
   ]
  },
  {
   "cell_type": "code",
   "execution_count": 100,
   "metadata": {},
   "outputs": [],
   "source": [
    "# remove percent signs\n",
    "m_df = m_df.replace({'%':''}, regex = True)\n",
    "m_df = m_df.drop(['code'], axis = 1)\n",
    "# one hot encode hsa\n",
    "one_hot = pd.get_dummies(m_df['hsa'])\n",
    "m_df = m_df.drop('hsa', axis = 1)\n",
    "m_df = m_df.join(one_hot)\n"
   ]
  },
  {
   "cell_type": "code",
   "execution_count": 101,
   "metadata": {},
   "outputs": [
    {
     "data": {
      "text/plain": [
       "percent_dwellings_need_repairs    0\n",
       "percent_detached_houses           0\n",
       "situational_vulnerability         3\n",
       "ethnocultural_composition         3\n",
       "economic_dependency               3\n",
       "residential_instability           3\n",
       "percent_aboriginal                0\n",
       "percent_chinese                   0\n",
       "percent_filipino                  0\n",
       "percent_white                     0\n",
       "percent_immigrant                 0\n",
       "percent_no_eng_fra                0\n",
       "percent_less_than_high_school     0\n",
       "employment_rate                   0\n",
       "D1_12_coverage                    0\n",
       "Fraser Health                     0\n",
       "Interior Health                   0\n",
       "Island Health                     0\n",
       "Northern Health                   0\n",
       "Vancouver Coastal Health          0\n",
       "dtype: int64"
      ]
     },
     "execution_count": 101,
     "metadata": {},
     "output_type": "execute_result"
    }
   ],
   "source": [
    "m_df.isna().sum()"
   ]
  },
  {
   "cell_type": "code",
   "execution_count": 102,
   "metadata": {},
   "outputs": [
    {
     "data": {
      "text/html": [
       "<div>\n",
       "<style scoped>\n",
       "    .dataframe tbody tr th:only-of-type {\n",
       "        vertical-align: middle;\n",
       "    }\n",
       "\n",
       "    .dataframe tbody tr th {\n",
       "        vertical-align: top;\n",
       "    }\n",
       "\n",
       "    .dataframe thead th {\n",
       "        text-align: right;\n",
       "    }\n",
       "</style>\n",
       "<table border=\"1\" class=\"dataframe\">\n",
       "  <thead>\n",
       "    <tr style=\"text-align: right;\">\n",
       "      <th></th>\n",
       "      <th>percent_dwellings_need_repairs</th>\n",
       "      <th>percent_detached_houses</th>\n",
       "      <th>situational_vulnerability</th>\n",
       "      <th>ethnocultural_composition</th>\n",
       "      <th>economic_dependency</th>\n",
       "      <th>residential_instability</th>\n",
       "      <th>percent_aboriginal</th>\n",
       "      <th>percent_chinese</th>\n",
       "      <th>percent_filipino</th>\n",
       "      <th>percent_white</th>\n",
       "      <th>percent_immigrant</th>\n",
       "      <th>percent_no_eng_fra</th>\n",
       "      <th>percent_less_than_high_school</th>\n",
       "      <th>employment_rate</th>\n",
       "      <th>D1_12_coverage</th>\n",
       "      <th>Fraser Health</th>\n",
       "      <th>Interior Health</th>\n",
       "      <th>Island Health</th>\n",
       "      <th>Northern Health</th>\n",
       "      <th>Vancouver Coastal Health</th>\n",
       "    </tr>\n",
       "  </thead>\n",
       "  <tbody>\n",
       "    <tr>\n",
       "      <th>0</th>\n",
       "      <td>5.4</td>\n",
       "      <td>60.7</td>\n",
       "      <td>3.0</td>\n",
       "      <td>5.0</td>\n",
       "      <td>4.0</td>\n",
       "      <td>2.0</td>\n",
       "      <td>0.6</td>\n",
       "      <td>65.4</td>\n",
       "      <td>4.2</td>\n",
       "      <td>18.5</td>\n",
       "      <td>65.4</td>\n",
       "      <td>13.3</td>\n",
       "      <td>13.0</td>\n",
       "      <td>49.5</td>\n",
       "      <td>84.0</td>\n",
       "      <td>0</td>\n",
       "      <td>0</td>\n",
       "      <td>0</td>\n",
       "      <td>0</td>\n",
       "      <td>1</td>\n",
       "    </tr>\n",
       "    <tr>\n",
       "      <th>1</th>\n",
       "      <td>10.6</td>\n",
       "      <td>8.5</td>\n",
       "      <td>4.0</td>\n",
       "      <td>4.0</td>\n",
       "      <td>1.0</td>\n",
       "      <td>5.0</td>\n",
       "      <td>7.8</td>\n",
       "      <td>13.4</td>\n",
       "      <td>3.0</td>\n",
       "      <td>64.2</td>\n",
       "      <td>26.6</td>\n",
       "      <td>4.3</td>\n",
       "      <td>14.0</td>\n",
       "      <td>69.9</td>\n",
       "      <td>89.0</td>\n",
       "      <td>0</td>\n",
       "      <td>0</td>\n",
       "      <td>0</td>\n",
       "      <td>0</td>\n",
       "      <td>1</td>\n",
       "    </tr>\n",
       "    <tr>\n",
       "      <th>2</th>\n",
       "      <td>4.6</td>\n",
       "      <td>48.7</td>\n",
       "      <td>2.0</td>\n",
       "      <td>5.0</td>\n",
       "      <td>3.0</td>\n",
       "      <td>2.0</td>\n",
       "      <td>1.6</td>\n",
       "      <td>30.9</td>\n",
       "      <td>5.3</td>\n",
       "      <td>46.8</td>\n",
       "      <td>40.4</td>\n",
       "      <td>4.4</td>\n",
       "      <td>10.4</td>\n",
       "      <td>60.0</td>\n",
       "      <td>90.0</td>\n",
       "      <td>0</td>\n",
       "      <td>0</td>\n",
       "      <td>0</td>\n",
       "      <td>0</td>\n",
       "      <td>1</td>\n",
       "    </tr>\n",
       "    <tr>\n",
       "      <th>3</th>\n",
       "      <td>7.2</td>\n",
       "      <td>16.4</td>\n",
       "      <td>4.0</td>\n",
       "      <td>5.0</td>\n",
       "      <td>3.0</td>\n",
       "      <td>4.0</td>\n",
       "      <td>1.5</td>\n",
       "      <td>40.2</td>\n",
       "      <td>8.9</td>\n",
       "      <td>27.0</td>\n",
       "      <td>52.2</td>\n",
       "      <td>9.1</td>\n",
       "      <td>16.6</td>\n",
       "      <td>59.2</td>\n",
       "      <td>92.0</td>\n",
       "      <td>0</td>\n",
       "      <td>0</td>\n",
       "      <td>0</td>\n",
       "      <td>0</td>\n",
       "      <td>1</td>\n",
       "    </tr>\n",
       "    <tr>\n",
       "      <th>4</th>\n",
       "      <td>6.2</td>\n",
       "      <td>6.3</td>\n",
       "      <td>2.0</td>\n",
       "      <td>5.0</td>\n",
       "      <td>1.0</td>\n",
       "      <td>5.0</td>\n",
       "      <td>3.8</td>\n",
       "      <td>4.2</td>\n",
       "      <td>6.6</td>\n",
       "      <td>62.7</td>\n",
       "      <td>41.4</td>\n",
       "      <td>1.8</td>\n",
       "      <td>8.5</td>\n",
       "      <td>65.8</td>\n",
       "      <td>91.0</td>\n",
       "      <td>0</td>\n",
       "      <td>0</td>\n",
       "      <td>0</td>\n",
       "      <td>0</td>\n",
       "      <td>1</td>\n",
       "    </tr>\n",
       "  </tbody>\n",
       "</table>\n",
       "</div>"
      ],
      "text/plain": [
       "  percent_dwellings_need_repairs percent_detached_houses  \\\n",
       "0                            5.4                    60.7   \n",
       "1                           10.6                     8.5   \n",
       "2                            4.6                    48.7   \n",
       "3                            7.2                    16.4   \n",
       "4                            6.2                     6.3   \n",
       "\n",
       "   situational_vulnerability  ethnocultural_composition  economic_dependency  \\\n",
       "0                        3.0                        5.0                  4.0   \n",
       "1                        4.0                        4.0                  1.0   \n",
       "2                        2.0                        5.0                  3.0   \n",
       "3                        4.0                        5.0                  3.0   \n",
       "4                        2.0                        5.0                  1.0   \n",
       "\n",
       "   residential_instability percent_aboriginal percent_chinese  \\\n",
       "0                      2.0                0.6            65.4   \n",
       "1                      5.0                7.8            13.4   \n",
       "2                      2.0                1.6            30.9   \n",
       "3                      4.0                1.5            40.2   \n",
       "4                      5.0                3.8             4.2   \n",
       "\n",
       "  percent_filipino percent_white percent_immigrant percent_no_eng_fra  \\\n",
       "0              4.2          18.5              65.4               13.3   \n",
       "1              3.0          64.2              26.6                4.3   \n",
       "2              5.3          46.8              40.4                4.4   \n",
       "3              8.9          27.0              52.2                9.1   \n",
       "4              6.6          62.7              41.4                1.8   \n",
       "\n",
       "  percent_less_than_high_school employment_rate  D1_12_coverage  \\\n",
       "0                          13.0            49.5            84.0   \n",
       "1                          14.0            69.9            89.0   \n",
       "2                          10.4            60.0            90.0   \n",
       "3                          16.6            59.2            92.0   \n",
       "4                           8.5            65.8            91.0   \n",
       "\n",
       "   Fraser Health  Interior Health  Island Health  Northern Health  \\\n",
       "0              0                0              0                0   \n",
       "1              0                0              0                0   \n",
       "2              0                0              0                0   \n",
       "3              0                0              0                0   \n",
       "4              0                0              0                0   \n",
       "\n",
       "   Vancouver Coastal Health  \n",
       "0                         1  \n",
       "1                         1  \n",
       "2                         1  \n",
       "3                         1  \n",
       "4                         1  "
      ]
     },
     "execution_count": 102,
     "metadata": {},
     "output_type": "execute_result"
    }
   ],
   "source": [
    "# remove rows with NAs\n",
    "m_df = m_df.dropna()\n",
    "# normalize the data\n",
    "trans = MinMaxScaler()\n",
    "'''\n",
    "m_df.iloc[:, m_df.columns.isin(list(['percent_dwellings_need_repairs', 'percent_detached_houses',\n",
    "       'percent_aboriginal','percent_chinese', 'percent_filipino', 'percent_white','percent_immigrant', 'percent_no_eng_fra',\n",
    "       'percent_less_than_high_school', 'employment_rate']))] = trans.fit_transform(m_df.iloc[:, m_df.columns.isin(list(['percent_dwellings_need_repairs', 'percent_detached_houses',\n",
    "       'percent_aboriginal','percent_chinese', 'percent_filipino', 'percent_white','percent_immigrant', 'percent_no_eng_fra',\n",
    "       'percent_less_than_high_school', 'employment_rate']))])\n",
    "'''\n",
    "X = m_df.drop(columns=['D1_12_coverage']).values\n",
    "# X = m_df.iloc[:, :-1].values\n",
    "y = m_df.iloc[:, -6].values\n",
    "\n",
    "\n",
    "# split into training and test datasets\n",
    "X_train, X_test, y_train, y_test = train_test_split(X, y, test_size = 0.2, random_state = 3)\n",
    "# instantiate the regressor and train\n",
    "regressor = LinearRegression()\n",
    "regressor.fit(X_train, y_train)\n",
    "y_pred = regressor.predict(X_test)\n",
    "m_df.head()\n"
   ]
  },
  {
   "cell_type": "code",
   "execution_count": 103,
   "metadata": {},
   "outputs": [
    {
     "name": "stdout",
     "output_type": "stream",
     "text": [
      "0.47341297905879853\n",
      "Feature: 0, Score: 0.04659\n",
      "Feature: 1, Score: -0.05222\n",
      "Feature: 2, Score: 0.28937\n",
      "Feature: 3, Score: -0.89022\n",
      "Feature: 4, Score: -0.31726\n",
      "Feature: 5, Score: -0.72353\n",
      "Feature: 6, Score: -0.09008\n",
      "Feature: 7, Score: -0.26706\n",
      "Feature: 8, Score: 0.14803\n",
      "Feature: 9, Score: -0.21201\n",
      "Feature: 10, Score: -0.08868\n",
      "Feature: 11, Score: 0.67631\n",
      "Feature: 12, Score: -0.97723\n",
      "Feature: 13, Score: -0.10482\n",
      "Feature: 14, Score: 1.33423\n",
      "Feature: 15, Score: -0.84863\n",
      "Feature: 16, Score: 4.30326\n",
      "Feature: 17, Score: -5.83931\n",
      "Feature: 18, Score: 1.05044\n"
     ]
    },
    {
     "data": {
      "text/plain": [
       "<BarContainer object of 19 artists>"
      ]
     },
     "execution_count": 103,
     "metadata": {},
     "output_type": "execute_result"
    },
    {
     "data": {
      "image/png": "[encoded data removed]",
      "text/plain": [
       "<Figure size 432x288 with 1 Axes>"
      ]
     },
     "metadata": {
      "needs_background": "light"
     },
     "output_type": "display_data"
    }
   ],
   "source": [
    "r2 = r2_score(y_test, y_pred)\n",
    "print(r2)\n",
    "# get importance\n",
    "importance = regressor.coef_\n",
    "# summarize feature importance\n",
    "for i,v in enumerate(importance):\n",
    "\tprint('Feature: %0d, Score: %.5f' % (i,v))\n",
    "# plot feature importance\n",
    "plt.bar([x for x in range(len(importance))], importance)"
   ]
  },
  {
   "cell_type": "markdown",
   "metadata": {},
   "source": [
    "So the biggest driver of this model is health authority, with Northern Health being the most strongly correlated."
   ]
  },
  {
   "cell_type": "code",
   "execution_count": 104,
   "metadata": {},
   "outputs": [],
   "source": [
    "X = m_df.iloc[:, m_df.columns.isin(list(['percent_chinese', 'percent_white', 'percent_no_eng_fra', \n",
    "'percent_less_than_high_school']))].values\n",
    "y = m_df.iloc[:, -1].values\n"
   ]
  },
  {
   "cell_type": "code",
   "execution_count": 105,
   "metadata": {},
   "outputs": [
    {
     "name": "stdout",
     "output_type": "stream",
     "text": [
      "0.47206397980188397\n",
      "Feature: 0, Score: 0.01171\n",
      "Feature: 1, Score: 0.00108\n",
      "Feature: 2, Score: 0.02469\n",
      "Feature: 3, Score: -0.02343\n"
     ]
    },
    {
     "data": {
      "text/plain": [
       "<BarContainer object of 4 artists>"
      ]
     },
     "execution_count": 105,
     "metadata": {},
     "output_type": "execute_result"
    },
    {
     "data": {
      "image/png": "[encoded data removed]",
      "text/plain": [
       "<Figure size 432x288 with 1 Axes>"
      ]
     },
     "metadata": {
      "needs_background": "light"
     },
     "output_type": "display_data"
    }
   ],
   "source": [
    "# split into training and test datasets\n",
    "X_train, X_test, y_train, y_test = train_test_split(X, y, test_size = 0.2, random_state = 3)\n",
    "# instantiate the regressor and train\n",
    "regressor_2 = LinearRegression()\n",
    "regressor_2.fit(X_train, y_train)\n",
    "y_pred = regressor_2.predict(X_test)\n",
    "r2 = r2_score(y_test, y_pred)\n",
    "print(r2)\n",
    "# get importance\n",
    "importance = regressor_2.coef_\n",
    "# summarize feature importance\n",
    "for i,v in enumerate(importance):\n",
    "\tprint('Feature: %0d, Score: %.5f' % (i,v))\n",
    "# plot feature importance\n",
    "plt.bar([x for x in range(len(importance))], importance)"
   ]
  },
  {
   "cell_type": "markdown",
   "metadata": {},
   "source": [
    "This 4-variable model is most strongly correlated with education and not speaking French or English."
   ]
  },
  {
   "cell_type": "code",
   "execution_count": 51,
   "metadata": {},
   "outputs": [],
   "source": [
    "X = m_df.iloc[:, m_df.columns.isin(list(['percent_no_eng_fra', \n",
    "'percent_less_than_high_school']))].values\n",
    "y = m_df.iloc[:, -1].values"
   ]
  },
  {
   "cell_type": "code",
   "execution_count": 106,
   "metadata": {},
   "outputs": [
    {
     "name": "stdout",
     "output_type": "stream",
     "text": [
      "0.47206397980188397\n",
      "Feature: 0, Score: 0.01171\n",
      "Feature: 1, Score: 0.00108\n",
      "Feature: 2, Score: 0.02469\n",
      "Feature: 3, Score: -0.02343\n"
     ]
    },
    {
     "data": {
      "text/plain": [
       "<BarContainer object of 4 artists>"
      ]
     },
     "execution_count": 106,
     "metadata": {},
     "output_type": "execute_result"
    },
    {
     "data": {
      "image/png": "[encoded data removed]",
      "text/plain": [
       "<Figure size 432x288 with 1 Axes>"
      ]
     },
     "metadata": {
      "needs_background": "light"
     },
     "output_type": "display_data"
    }
   ],
   "source": [
    "# split into training and test datasets\n",
    "X_train, X_test, y_train, y_test = train_test_split(X, y, test_size = 0.2, random_state = 3)\n",
    "# instantiate the regressor and train\n",
    "regressor_3 = LinearRegression()\n",
    "regressor_3.fit(X_train, y_train)\n",
    "y_pred = regressor_3.predict(X_test)\n",
    "r2 = r2_score(y_test, y_pred)\n",
    "print(r2)\n",
    "# get importance\n",
    "importance = regressor_3.coef_\n",
    "# summarize feature importance\n",
    "for i,v in enumerate(importance):\n",
    "\tprint('Feature: %0d, Score: %.5f' % (i,v))\n",
    "# plot feature importance\n",
    "plt.bar([x for x in range(len(importance))], importance)"
   ]
  }
 ],
 "metadata": {
  "interpreter": {
   "hash": "40d3a090f54c6569ab1632332b64b2c03c39dcf918b08424e98f38b5ae0af88f"
  },
  "kernelspec": {
   "display_name": "Python 3.8.11 64-bit ('base': conda)",
   "name": "python3"
  },
  "language_info": {
   "codemirror_mode": {
    "name": "ipython",
    "version": 3
   },
   "file_extension": ".py",
   "mimetype": "text/x-python",
   "name": "python",
   "nbconvert_exporter": "python",
   "pygments_lexer": "ipython3",
   "version": "3.8.11"
  },
  "orig_nbformat": 4
 },
 "nbformat": 4,
 "nbformat_minor": 2
}
