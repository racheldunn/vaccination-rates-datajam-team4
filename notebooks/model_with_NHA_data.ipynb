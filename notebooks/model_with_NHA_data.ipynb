{
 "cells": [
  {
   "cell_type": "markdown",
   "metadata": {},
   "source": [
    "# Vaccination Rates and Socioeconomic Status in BC\n",
    "\n",
    "### Project authors:\n",
    "\n",
    "### Created on: October 25, 2021\n",
    "\n",
    "### Last modified on: October 25, 2021"
   ]
  },
  {
   "cell_type": "markdown",
   "metadata": {},
   "source": [
    "## Import libraries"
   ]
  },
  {
   "cell_type": "code",
   "execution_count": 45,
   "metadata": {},
   "outputs": [],
   "source": [
    "import pandas as pd\n",
    "import seaborn as sns\n",
    "import matplotlib.pyplot as plt\n",
    "import numpy as np\n",
    "from sklearn.linear_model import LinearRegression\n",
    "from sklearn.linear_model import Ridge\n",
    "from sklearn.model_selection import train_test_split\n",
    "from sklearn.preprocessing import MinMaxScaler\n",
    "from sklearn.metrics import r2_score\n",
    "from sklearn.preprocessing import OrdinalEncoder\n",
    "import scipy as sp\n",
    "from yellowbrick.regressor import residuals_plot\n",
    "from yellowbrick.regressor import ResidualsPlot"
   ]
  },
  {
   "cell_type": "code",
   "execution_count": 39,
   "metadata": {},
   "outputs": [
    {
     "data": {
      "text/plain": [
       "Index(['m_0_4', 'm_5_9', 'm_10_14', 'm_15_19', 'm_20_24', 'm_25_29', 'm_30_34',\n",
       "       'm_35_39', 'm_40_44', 'm_45_49',\n",
       "       ...\n",
       "       'rheumatoid_arthritis_age_standardized_prevalence_per_100',\n",
       "       'schizophrenia_incidence_per_1000', 'schizophrenia_prevalence_per_100',\n",
       "       'schizophrenia_age_standardized_incidence_per_1000',\n",
       "       'schizophrenia_age_standardized_prevalence_per_100', 'hsa', 'subregion',\n",
       "       'proportion_has_GP_practitioner.1', 'proportion_has_GP_practice.1',\n",
       "       'code'],\n",
       "      dtype='object', length=207)"
      ]
     },
     "execution_count": 39,
     "metadata": {},
     "output_type": "execute_result"
    }
   ],
   "source": [
    "# load dataframes\n",
    "modelling_df = pd.read_csv('../data/socioeco_compiled.csv')\n",
    "vaccine_df = pd.read_csv('../data/BCCDC_COVID19_CHSA_Data_NHA.csv')\n",
    "modelling_df.columns"
   ]
  },
  {
   "cell_type": "code",
   "execution_count": 40,
   "metadata": {},
   "outputs": [
    {
     "name": "stdout",
     "output_type": "stream",
     "text": [
      "151\n"
     ]
    },
    {
     "data": {
      "text/html": [
       "<div>\n",
       "<style scoped>\n",
       "    .dataframe tbody tr th:only-of-type {\n",
       "        vertical-align: middle;\n",
       "    }\n",
       "\n",
       "    .dataframe tbody tr th {\n",
       "        vertical-align: top;\n",
       "    }\n",
       "\n",
       "    .dataframe thead th {\n",
       "        text-align: right;\n",
       "    }\n",
       "</style>\n",
       "<table border=\"1\" class=\"dataframe\">\n",
       "  <thead>\n",
       "    <tr style=\"text-align: right;\">\n",
       "      <th></th>\n",
       "      <th>code</th>\n",
       "      <th>percent_dwellings_need_repairs</th>\n",
       "      <th>percent_detached_houses</th>\n",
       "      <th>situational_vulnerability</th>\n",
       "      <th>ethnocultural_composition</th>\n",
       "      <th>economic_dependency</th>\n",
       "      <th>residential_instability</th>\n",
       "      <th>percent_aboriginal</th>\n",
       "      <th>percent_chinese</th>\n",
       "      <th>percent_filipino</th>\n",
       "      <th>percent_white</th>\n",
       "      <th>percent_immigrant</th>\n",
       "      <th>percent_no_eng_fra</th>\n",
       "      <th>percent_less_than_high_school</th>\n",
       "      <th>employment_rate</th>\n",
       "      <th>low_income_prevalence</th>\n",
       "      <th>percent_postsecondary</th>\n",
       "      <th>proportion_has_GP_practice</th>\n",
       "      <th>hsa</th>\n",
       "      <th>D1_12_coverage</th>\n",
       "    </tr>\n",
       "  </thead>\n",
       "  <tbody>\n",
       "    <tr>\n",
       "      <th>0</th>\n",
       "      <td>3112</td>\n",
       "      <td>5.4%</td>\n",
       "      <td>60.7%</td>\n",
       "      <td>3.0</td>\n",
       "      <td>5.0</td>\n",
       "      <td>4.0</td>\n",
       "      <td>2.0</td>\n",
       "      <td>0.6%</td>\n",
       "      <td>65.4%</td>\n",
       "      <td>4.2%</td>\n",
       "      <td>18.5%</td>\n",
       "      <td>65.4%</td>\n",
       "      <td>13.3%</td>\n",
       "      <td>13.0%</td>\n",
       "      <td>49.5%</td>\n",
       "      <td>24.5%</td>\n",
       "      <td>55.9%</td>\n",
       "      <td>79.7%</td>\n",
       "      <td>Vancouver Coastal Health</td>\n",
       "      <td>84.0</td>\n",
       "    </tr>\n",
       "    <tr>\n",
       "      <th>1</th>\n",
       "      <td>3223</td>\n",
       "      <td>10.6%</td>\n",
       "      <td>8.5%</td>\n",
       "      <td>4.0</td>\n",
       "      <td>4.0</td>\n",
       "      <td>1.0</td>\n",
       "      <td>5.0</td>\n",
       "      <td>7.8%</td>\n",
       "      <td>13.4%</td>\n",
       "      <td>3.0%</td>\n",
       "      <td>64.2%</td>\n",
       "      <td>26.6%</td>\n",
       "      <td>4.3%</td>\n",
       "      <td>14.0%</td>\n",
       "      <td>69.9%</td>\n",
       "      <td>20.5%</td>\n",
       "      <td>62.6%</td>\n",
       "      <td>74.5%</td>\n",
       "      <td>Vancouver Coastal Health</td>\n",
       "      <td>89.0</td>\n",
       "    </tr>\n",
       "    <tr>\n",
       "      <th>2</th>\n",
       "      <td>3115</td>\n",
       "      <td>4.6%</td>\n",
       "      <td>48.7%</td>\n",
       "      <td>2.0</td>\n",
       "      <td>5.0</td>\n",
       "      <td>3.0</td>\n",
       "      <td>2.0</td>\n",
       "      <td>1.6%</td>\n",
       "      <td>30.9%</td>\n",
       "      <td>5.3%</td>\n",
       "      <td>46.8%</td>\n",
       "      <td>40.4%</td>\n",
       "      <td>4.4%</td>\n",
       "      <td>10.4%</td>\n",
       "      <td>60.0%</td>\n",
       "      <td>12.4%</td>\n",
       "      <td>62.3%</td>\n",
       "      <td>83.9%</td>\n",
       "      <td>Vancouver Coastal Health</td>\n",
       "      <td>90.0</td>\n",
       "    </tr>\n",
       "    <tr>\n",
       "      <th>3</th>\n",
       "      <td>3261</td>\n",
       "      <td>7.2%</td>\n",
       "      <td>16.4%</td>\n",
       "      <td>4.0</td>\n",
       "      <td>5.0</td>\n",
       "      <td>3.0</td>\n",
       "      <td>4.0</td>\n",
       "      <td>1.5%</td>\n",
       "      <td>40.2%</td>\n",
       "      <td>8.9%</td>\n",
       "      <td>27.0%</td>\n",
       "      <td>52.2%</td>\n",
       "      <td>9.1%</td>\n",
       "      <td>16.6%</td>\n",
       "      <td>59.2%</td>\n",
       "      <td>17.1%</td>\n",
       "      <td>54.3%</td>\n",
       "      <td>80.5%</td>\n",
       "      <td>Vancouver Coastal Health</td>\n",
       "      <td>92.0</td>\n",
       "    </tr>\n",
       "    <tr>\n",
       "      <th>4</th>\n",
       "      <td>3312</td>\n",
       "      <td>6.2%</td>\n",
       "      <td>6.3%</td>\n",
       "      <td>2.0</td>\n",
       "      <td>5.0</td>\n",
       "      <td>1.0</td>\n",
       "      <td>5.0</td>\n",
       "      <td>3.8%</td>\n",
       "      <td>4.2%</td>\n",
       "      <td>6.6%</td>\n",
       "      <td>62.7%</td>\n",
       "      <td>41.4%</td>\n",
       "      <td>1.8%</td>\n",
       "      <td>8.5%</td>\n",
       "      <td>65.8%</td>\n",
       "      <td>18.7%</td>\n",
       "      <td>67.7%</td>\n",
       "      <td>75.0%</td>\n",
       "      <td>Vancouver Coastal Health</td>\n",
       "      <td>91.0</td>\n",
       "    </tr>\n",
       "  </tbody>\n",
       "</table>\n",
       "</div>"
      ],
      "text/plain": [
       "   code percent_dwellings_need_repairs percent_detached_houses  \\\n",
       "0  3112                           5.4%                   60.7%   \n",
       "1  3223                          10.6%                    8.5%   \n",
       "2  3115                           4.6%                   48.7%   \n",
       "3  3261                           7.2%                   16.4%   \n",
       "4  3312                           6.2%                    6.3%   \n",
       "\n",
       "   situational_vulnerability  ethnocultural_composition  economic_dependency  \\\n",
       "0                        3.0                        5.0                  4.0   \n",
       "1                        4.0                        4.0                  1.0   \n",
       "2                        2.0                        5.0                  3.0   \n",
       "3                        4.0                        5.0                  3.0   \n",
       "4                        2.0                        5.0                  1.0   \n",
       "\n",
       "   residential_instability percent_aboriginal percent_chinese  \\\n",
       "0                      2.0               0.6%           65.4%   \n",
       "1                      5.0               7.8%           13.4%   \n",
       "2                      2.0               1.6%           30.9%   \n",
       "3                      4.0               1.5%           40.2%   \n",
       "4                      5.0               3.8%            4.2%   \n",
       "\n",
       "  percent_filipino percent_white percent_immigrant percent_no_eng_fra  \\\n",
       "0             4.2%         18.5%             65.4%              13.3%   \n",
       "1             3.0%         64.2%             26.6%               4.3%   \n",
       "2             5.3%         46.8%             40.4%               4.4%   \n",
       "3             8.9%         27.0%             52.2%               9.1%   \n",
       "4             6.6%         62.7%             41.4%               1.8%   \n",
       "\n",
       "  percent_less_than_high_school employment_rate low_income_prevalence  \\\n",
       "0                         13.0%           49.5%                 24.5%   \n",
       "1                         14.0%           69.9%                 20.5%   \n",
       "2                         10.4%           60.0%                 12.4%   \n",
       "3                         16.6%           59.2%                 17.1%   \n",
       "4                          8.5%           65.8%                 18.7%   \n",
       "\n",
       "  percent_postsecondary proportion_has_GP_practice                       hsa  \\\n",
       "0                 55.9%                      79.7%  Vancouver Coastal Health   \n",
       "1                 62.6%                      74.5%  Vancouver Coastal Health   \n",
       "2                 62.3%                      83.9%  Vancouver Coastal Health   \n",
       "3                 54.3%                      80.5%  Vancouver Coastal Health   \n",
       "4                 67.7%                      75.0%  Vancouver Coastal Health   \n",
       "\n",
       "   D1_12_coverage  \n",
       "0            84.0  \n",
       "1            89.0  \n",
       "2            90.0  \n",
       "3            92.0  \n",
       "4            91.0  "
      ]
     },
     "execution_count": 40,
     "metadata": {},
     "output_type": "execute_result"
    }
   ],
   "source": [
    "# subset dataframes\n",
    "modelling_df = modelling_df[['code','percent_dwellings_need_repairs','percent_detached_houses',\n",
    "'situational_vulnerability', 'ethnocultural_composition', 'economic_dependency', 'residential_instability', \n",
    "'percent_aboriginal', 'percent_chinese', 'percent_filipino', 'percent_white',\n",
    "'percent_immigrant', 'percent_no_eng_fra', 'percent_less_than_high_school', 'employment_rate', 'low_income_prevalence',\n",
    "'percent_postsecondary', 'proportion_has_GP_practice','hsa']]\n",
    "vaccine_df = vaccine_df[['CHSA18_Code','D1_12_coverage']]\n",
    "vaccine_df.columns = ['code', 'D1_12_coverage']\n",
    "\n",
    "# merge dataframes\n",
    "m_df = pd.merge(modelling_df, vaccine_df, how = 'inner', on=\"code\")\n",
    "print(len(m_df))\n",
    "m_df.head()"
   ]
  },
  {
   "cell_type": "code",
   "execution_count": 41,
   "metadata": {},
   "outputs": [],
   "source": [
    "# remove percent signs\n",
    "m_df = m_df.replace({'%':''}, regex = True)\n",
    "m_df = m_df.drop(['code'], axis = 1)\n",
    "# one hot encode hsa\n",
    "one_hot = pd.get_dummies(m_df['hsa'])\n",
    "m_df = m_df.drop('hsa', axis = 1)\n",
    "m_df = m_df.join(one_hot)\n"
   ]
  },
  {
   "cell_type": "code",
   "execution_count": 42,
   "metadata": {},
   "outputs": [
    {
     "data": {
      "text/plain": [
       "percent_dwellings_need_repairs    0\n",
       "percent_detached_houses           0\n",
       "situational_vulnerability         3\n",
       "ethnocultural_composition         3\n",
       "economic_dependency               3\n",
       "residential_instability           3\n",
       "percent_aboriginal                0\n",
       "percent_chinese                   0\n",
       "percent_filipino                  0\n",
       "percent_white                     0\n",
       "percent_immigrant                 0\n",
       "percent_no_eng_fra                0\n",
       "percent_less_than_high_school     0\n",
       "employment_rate                   0\n",
       "low_income_prevalence             0\n",
       "percent_postsecondary             0\n",
       "proportion_has_GP_practice        0\n",
       "D1_12_coverage                    0\n",
       "Fraser Health                     0\n",
       "Interior Health                   0\n",
       "Island Health                     0\n",
       "Northern Health                   0\n",
       "Vancouver Coastal Health          0\n",
       "dtype: int64"
      ]
     },
     "execution_count": 42,
     "metadata": {},
     "output_type": "execute_result"
    }
   ],
   "source": [
    "m_df.isna().sum()"
   ]
  },
  {
   "cell_type": "code",
   "execution_count": 43,
   "metadata": {},
   "outputs": [
    {
     "data": {
      "text/html": [
       "<div>\n",
       "<style scoped>\n",
       "    .dataframe tbody tr th:only-of-type {\n",
       "        vertical-align: middle;\n",
       "    }\n",
       "\n",
       "    .dataframe tbody tr th {\n",
       "        vertical-align: top;\n",
       "    }\n",
       "\n",
       "    .dataframe thead th {\n",
       "        text-align: right;\n",
       "    }\n",
       "</style>\n",
       "<table border=\"1\" class=\"dataframe\">\n",
       "  <thead>\n",
       "    <tr style=\"text-align: right;\">\n",
       "      <th></th>\n",
       "      <th>percent_dwellings_need_repairs</th>\n",
       "      <th>percent_detached_houses</th>\n",
       "      <th>situational_vulnerability</th>\n",
       "      <th>ethnocultural_composition</th>\n",
       "      <th>economic_dependency</th>\n",
       "      <th>residential_instability</th>\n",
       "      <th>percent_aboriginal</th>\n",
       "      <th>percent_chinese</th>\n",
       "      <th>percent_filipino</th>\n",
       "      <th>percent_white</th>\n",
       "      <th>...</th>\n",
       "      <th>employment_rate</th>\n",
       "      <th>low_income_prevalence</th>\n",
       "      <th>percent_postsecondary</th>\n",
       "      <th>proportion_has_GP_practice</th>\n",
       "      <th>D1_12_coverage</th>\n",
       "      <th>Fraser Health</th>\n",
       "      <th>Interior Health</th>\n",
       "      <th>Island Health</th>\n",
       "      <th>Northern Health</th>\n",
       "      <th>Vancouver Coastal Health</th>\n",
       "    </tr>\n",
       "  </thead>\n",
       "  <tbody>\n",
       "    <tr>\n",
       "      <th>0</th>\n",
       "      <td>5.4</td>\n",
       "      <td>60.7</td>\n",
       "      <td>3.0</td>\n",
       "      <td>5.0</td>\n",
       "      <td>4.0</td>\n",
       "      <td>2.0</td>\n",
       "      <td>0.6</td>\n",
       "      <td>65.4</td>\n",
       "      <td>4.2</td>\n",
       "      <td>18.5</td>\n",
       "      <td>...</td>\n",
       "      <td>49.5</td>\n",
       "      <td>24.5</td>\n",
       "      <td>55.9</td>\n",
       "      <td>79.7</td>\n",
       "      <td>84.0</td>\n",
       "      <td>0</td>\n",
       "      <td>0</td>\n",
       "      <td>0</td>\n",
       "      <td>0</td>\n",
       "      <td>1</td>\n",
       "    </tr>\n",
       "    <tr>\n",
       "      <th>1</th>\n",
       "      <td>10.6</td>\n",
       "      <td>8.5</td>\n",
       "      <td>4.0</td>\n",
       "      <td>4.0</td>\n",
       "      <td>1.0</td>\n",
       "      <td>5.0</td>\n",
       "      <td>7.8</td>\n",
       "      <td>13.4</td>\n",
       "      <td>3.0</td>\n",
       "      <td>64.2</td>\n",
       "      <td>...</td>\n",
       "      <td>69.9</td>\n",
       "      <td>20.5</td>\n",
       "      <td>62.6</td>\n",
       "      <td>74.5</td>\n",
       "      <td>89.0</td>\n",
       "      <td>0</td>\n",
       "      <td>0</td>\n",
       "      <td>0</td>\n",
       "      <td>0</td>\n",
       "      <td>1</td>\n",
       "    </tr>\n",
       "    <tr>\n",
       "      <th>2</th>\n",
       "      <td>4.6</td>\n",
       "      <td>48.7</td>\n",
       "      <td>2.0</td>\n",
       "      <td>5.0</td>\n",
       "      <td>3.0</td>\n",
       "      <td>2.0</td>\n",
       "      <td>1.6</td>\n",
       "      <td>30.9</td>\n",
       "      <td>5.3</td>\n",
       "      <td>46.8</td>\n",
       "      <td>...</td>\n",
       "      <td>60.0</td>\n",
       "      <td>12.4</td>\n",
       "      <td>62.3</td>\n",
       "      <td>83.9</td>\n",
       "      <td>90.0</td>\n",
       "      <td>0</td>\n",
       "      <td>0</td>\n",
       "      <td>0</td>\n",
       "      <td>0</td>\n",
       "      <td>1</td>\n",
       "    </tr>\n",
       "    <tr>\n",
       "      <th>3</th>\n",
       "      <td>7.2</td>\n",
       "      <td>16.4</td>\n",
       "      <td>4.0</td>\n",
       "      <td>5.0</td>\n",
       "      <td>3.0</td>\n",
       "      <td>4.0</td>\n",
       "      <td>1.5</td>\n",
       "      <td>40.2</td>\n",
       "      <td>8.9</td>\n",
       "      <td>27.0</td>\n",
       "      <td>...</td>\n",
       "      <td>59.2</td>\n",
       "      <td>17.1</td>\n",
       "      <td>54.3</td>\n",
       "      <td>80.5</td>\n",
       "      <td>92.0</td>\n",
       "      <td>0</td>\n",
       "      <td>0</td>\n",
       "      <td>0</td>\n",
       "      <td>0</td>\n",
       "      <td>1</td>\n",
       "    </tr>\n",
       "    <tr>\n",
       "      <th>4</th>\n",
       "      <td>6.2</td>\n",
       "      <td>6.3</td>\n",
       "      <td>2.0</td>\n",
       "      <td>5.0</td>\n",
       "      <td>1.0</td>\n",
       "      <td>5.0</td>\n",
       "      <td>3.8</td>\n",
       "      <td>4.2</td>\n",
       "      <td>6.6</td>\n",
       "      <td>62.7</td>\n",
       "      <td>...</td>\n",
       "      <td>65.8</td>\n",
       "      <td>18.7</td>\n",
       "      <td>67.7</td>\n",
       "      <td>75.0</td>\n",
       "      <td>91.0</td>\n",
       "      <td>0</td>\n",
       "      <td>0</td>\n",
       "      <td>0</td>\n",
       "      <td>0</td>\n",
       "      <td>1</td>\n",
       "    </tr>\n",
       "  </tbody>\n",
       "</table>\n",
       "<p>5 rows × 23 columns</p>\n",
       "</div>"
      ],
      "text/plain": [
       "  percent_dwellings_need_repairs percent_detached_houses  \\\n",
       "0                            5.4                    60.7   \n",
       "1                           10.6                     8.5   \n",
       "2                            4.6                    48.7   \n",
       "3                            7.2                    16.4   \n",
       "4                            6.2                     6.3   \n",
       "\n",
       "   situational_vulnerability  ethnocultural_composition  economic_dependency  \\\n",
       "0                        3.0                        5.0                  4.0   \n",
       "1                        4.0                        4.0                  1.0   \n",
       "2                        2.0                        5.0                  3.0   \n",
       "3                        4.0                        5.0                  3.0   \n",
       "4                        2.0                        5.0                  1.0   \n",
       "\n",
       "   residential_instability percent_aboriginal percent_chinese  \\\n",
       "0                      2.0                0.6            65.4   \n",
       "1                      5.0                7.8            13.4   \n",
       "2                      2.0                1.6            30.9   \n",
       "3                      4.0                1.5            40.2   \n",
       "4                      5.0                3.8             4.2   \n",
       "\n",
       "  percent_filipino percent_white  ... employment_rate low_income_prevalence  \\\n",
       "0              4.2          18.5  ...            49.5                  24.5   \n",
       "1              3.0          64.2  ...            69.9                  20.5   \n",
       "2              5.3          46.8  ...            60.0                  12.4   \n",
       "3              8.9          27.0  ...            59.2                  17.1   \n",
       "4              6.6          62.7  ...            65.8                  18.7   \n",
       "\n",
       "  percent_postsecondary proportion_has_GP_practice D1_12_coverage  \\\n",
       "0                  55.9                       79.7           84.0   \n",
       "1                  62.6                       74.5           89.0   \n",
       "2                  62.3                       83.9           90.0   \n",
       "3                  54.3                       80.5           92.0   \n",
       "4                  67.7                       75.0           91.0   \n",
       "\n",
       "  Fraser Health Interior Health  Island Health  Northern Health  \\\n",
       "0             0               0              0                0   \n",
       "1             0               0              0                0   \n",
       "2             0               0              0                0   \n",
       "3             0               0              0                0   \n",
       "4             0               0              0                0   \n",
       "\n",
       "   Vancouver Coastal Health  \n",
       "0                         1  \n",
       "1                         1  \n",
       "2                         1  \n",
       "3                         1  \n",
       "4                         1  \n",
       "\n",
       "[5 rows x 23 columns]"
      ]
     },
     "execution_count": 43,
     "metadata": {},
     "output_type": "execute_result"
    }
   ],
   "source": [
    "# remove rows with NAs\n",
    "m_df = m_df.dropna()\n",
    "# normalize the data\n",
    "trans = MinMaxScaler()\n",
    "'''\n",
    "m_df.iloc[:, m_df.columns.isin(list(['percent_dwellings_need_repairs', 'percent_detached_houses',\n",
    "       'percent_aboriginal','percent_chinese', 'percent_filipino', 'percent_white','percent_immigrant', 'percent_no_eng_fra',\n",
    "       'percent_less_than_high_school', 'employment_rate']))] = trans.fit_transform(m_df.iloc[:, m_df.columns.isin(list(['percent_dwellings_need_repairs', 'percent_detached_houses',\n",
    "       'percent_aboriginal','percent_chinese', 'percent_filipino', 'percent_white','percent_immigrant', 'percent_no_eng_fra',\n",
    "       'percent_less_than_high_school', 'employment_rate']))])\n",
    "'''\n",
    "X = m_df.drop(columns=['D1_12_coverage']).values\n",
    "# X = m_df.iloc[:, :-1].values\n",
    "y = m_df.iloc[:, -6].values\n",
    "\n",
    "\n",
    "# split into training and test datasets\n",
    "X_train, X_test, y_train, y_test = train_test_split(X, y, test_size = 0.2, random_state = 3)\n",
    "# instantiate the regressor and train\n",
    "regressor = LinearRegression()\n",
    "regressor.fit(X_train, y_train)\n",
    "y_pred = regressor.predict(X_test)\n",
    "m_df.head()\n"
   ]
  },
  {
   "cell_type": "code",
   "execution_count": 44,
   "metadata": {},
   "outputs": [
    {
     "name": "stdout",
     "output_type": "stream",
     "text": [
      "0.5554200515922183\n",
      "Feature: 0, Score: 0.09946\n",
      "Feature: 1, Score: -0.08441\n",
      "Feature: 2, Score: 0.41273\n",
      "Feature: 3, Score: -0.81096\n",
      "Feature: 4, Score: -0.36714\n",
      "Feature: 5, Score: -0.57077\n",
      "Feature: 6, Score: -0.11087\n",
      "Feature: 7, Score: -0.26183\n",
      "Feature: 8, Score: -0.08818\n",
      "Feature: 9, Score: -0.25594\n",
      "Feature: 10, Score: -0.12363\n",
      "Feature: 11, Score: 0.64628\n",
      "Feature: 12, Score: -0.97982\n",
      "Feature: 13, Score: -0.17755\n",
      "Feature: 14, Score: -0.16604\n",
      "Feature: 15, Score: -0.01263\n",
      "Feature: 16, Score: 0.14263\n",
      "Feature: 17, Score: 0.84208\n",
      "Feature: 18, Score: -0.64940\n",
      "Feature: 19, Score: 4.43945\n",
      "Feature: 20, Score: -5.99825\n",
      "Feature: 21, Score: 1.36612\n"
     ]
    },
    {
     "data": {
      "text/plain": [
       "([<matplotlib.axis.XTick at 0x7ffbfa420550>,\n",
       "  <matplotlib.axis.XTick at 0x7ffbfa4205e0>,\n",
       "  <matplotlib.axis.XTick at 0x7ffbfa4ba8e0>,\n",
       "  <matplotlib.axis.XTick at 0x7ffbfb56d820>,\n",
       "  <matplotlib.axis.XTick at 0x7ffbfad2d250>,\n",
       "  <matplotlib.axis.XTick at 0x7ffbfad2d9a0>,\n",
       "  <matplotlib.axis.XTick at 0x7ffbfa4a31c0>,\n",
       "  <matplotlib.axis.XTick at 0x7ffbfad41100>,\n",
       "  <matplotlib.axis.XTick at 0x7ffbfad41790>,\n",
       "  <matplotlib.axis.XTick at 0x7ffbfad41ee0>,\n",
       "  <matplotlib.axis.XTick at 0x7ffbfad31670>,\n",
       "  <matplotlib.axis.XTick at 0x7ffbfad31dc0>,\n",
       "  <matplotlib.axis.XTick at 0x7ffbfad31e20>,\n",
       "  <matplotlib.axis.XTick at 0x7ffbfad41be0>,\n",
       "  <matplotlib.axis.XTick at 0x7ffbfb56df40>,\n",
       "  <matplotlib.axis.XTick at 0x7ffbfad22a60>,\n",
       "  <matplotlib.axis.XTick at 0x7ffbfb4001f0>,\n",
       "  <matplotlib.axis.XTick at 0x7ffbfb400940>,\n",
       "  <matplotlib.axis.XTick at 0x7ffbfb3f50d0>,\n",
       "  <matplotlib.axis.XTick at 0x7ffbfb400d60>,\n",
       "  <matplotlib.axis.XTick at 0x7ffbfad229a0>,\n",
       "  <matplotlib.axis.XTick at 0x7ffbfad31880>],\n",
       " [Text(0, 0, 'percent_dwellings_need_repairs'),\n",
       "  Text(1, 0, 'percent_detached_houses'),\n",
       "  Text(2, 0, 'situational_vulnerability'),\n",
       "  Text(3, 0, 'ethnocultural_composition'),\n",
       "  Text(4, 0, 'economic_dependency'),\n",
       "  Text(5, 0, 'residential_instability'),\n",
       "  Text(6, 0, 'percent_aboriginal'),\n",
       "  Text(7, 0, 'percent_chinese'),\n",
       "  Text(8, 0, 'percent_filipino'),\n",
       "  Text(9, 0, 'percent_white'),\n",
       "  Text(10, 0, 'percent_immigrant'),\n",
       "  Text(11, 0, 'percent_no_eng_fra'),\n",
       "  Text(12, 0, 'percent_less_than_high_school'),\n",
       "  Text(13, 0, 'employment_rate'),\n",
       "  Text(14, 0, 'low_income_prevalence'),\n",
       "  Text(15, 0, 'percent_postsecondary'),\n",
       "  Text(16, 0, 'proportion_has_GP_practice'),\n",
       "  Text(17, 0, 'Fraser Health'),\n",
       "  Text(18, 0, 'Interior Health'),\n",
       "  Text(19, 0, 'Island Health'),\n",
       "  Text(20, 0, 'Northern Health'),\n",
       "  Text(21, 0, 'Vancouver Coastal Health')])"
      ]
     },
     "execution_count": 44,
     "metadata": {},
     "output_type": "execute_result"
    },
    {
     "data": {
      "image/png": "[encoded data removed]",
      "text/plain": [
       "<Figure size 576x396 with 1 Axes>"
      ]
     },
     "metadata": {},
     "output_type": "display_data"
    }
   ],
   "source": [
    "r2 = r2_score(y_test, y_pred)\n",
    "print(r2)\n",
    "# get importance\n",
    "importance = regressor.coef_\n",
    "# summarize feature importance\n",
    "for i,v in enumerate(importance):\n",
    "\tprint('Feature: %0d, Score: %.5f' % (i,v))\n",
    "# plot feature importance\n",
    "labels = list(m_df.drop(columns=['D1_12_coverage']).columns)\n",
    "plt.bar([x for x in range(len(importance))], importance)\n",
    "plt.xticks([x for x in range(len(importance))], labels, rotation = 'vertical')"
   ]
  },
  {
   "cell_type": "markdown",
   "metadata": {},
   "source": [
    "So the biggest driver of this model is health authority, with Northern Health being the most strongly correlated."
   ]
  },
  {
   "cell_type": "markdown",
   "metadata": {},
   "source": [
    "Let's drop the health authority columns - they're a proxy for other factors."
   ]
  },
  {
   "cell_type": "code",
   "execution_count": 11,
   "metadata": {},
   "outputs": [
    {
     "name": "stdout",
     "output_type": "stream",
     "text": [
      "Index(['percent_dwellings_need_repairs', 'percent_detached_houses',\n",
      "       'situational_vulnerability', 'ethnocultural_composition',\n",
      "       'economic_dependency', 'residential_instability', 'percent_aboriginal',\n",
      "       'percent_chinese', 'percent_filipino', 'percent_white',\n",
      "       'percent_immigrant', 'percent_no_eng_fra',\n",
      "       'percent_less_than_high_school', 'employment_rate',\n",
      "       'low_income_prevalence', 'percent_postsecondary',\n",
      "       'proportion_has_GP_practice'],\n",
      "      dtype='object')\n"
     ]
    }
   ],
   "source": [
    "print(m_df.drop(columns=['D1_12_coverage', 'Fraser Health', 'Interior Health', 'Northern Health', 'Island Health', 'Vancouver Coastal Health']).columns)"
   ]
  },
  {
   "cell_type": "code",
   "execution_count": 37,
   "metadata": {},
   "outputs": [],
   "source": [
    "X = m_df.drop(columns=['D1_12_coverage', 'Fraser Health', 'Interior Health', 'Northern Health', 'Island Health', 'Vancouver Coastal Health']).values\n",
    "# X = m_df.iloc[:, :-1].values\n",
    "y = m_df.iloc[:, -6].values\n",
    "\n",
    "\n",
    "# split into training and test datasets\n",
    "X_train, X_test, y_train, y_test = train_test_split(X, y, test_size = 0.2, random_state = 3)\n",
    "# instantiate the regressor and train\n",
    "regressor2 = LinearRegression()\n",
    "regressor2.fit(X_train, y_train)\n",
    "y_pred = regressor2.predict(X_test)"
   ]
  },
  {
   "cell_type": "code",
   "execution_count": 38,
   "metadata": {},
   "outputs": [
    {
     "name": "stdout",
     "output_type": "stream",
     "text": [
      "0.5804849994669887\n",
      "Feature: 0, Score: -0.06394\n",
      "Feature: 1, Score: -0.10291\n",
      "Feature: 2, Score: 0.51282\n",
      "Feature: 3, Score: -0.36202\n",
      "Feature: 4, Score: 0.61268\n",
      "Feature: 5, Score: -0.79638\n",
      "Feature: 6, Score: -0.29889\n",
      "Feature: 7, Score: -0.32477\n",
      "Feature: 8, Score: 0.12421\n",
      "Feature: 9, Score: -0.23087\n",
      "Feature: 10, Score: -0.20061\n",
      "Feature: 11, Score: 1.03622\n",
      "Feature: 12, Score: -1.08218\n",
      "Feature: 13, Score: -0.17078\n",
      "Feature: 14, Score: -0.15989\n",
      "Feature: 15, Score: 0.06499\n",
      "Feature: 16, Score: 0.13764\n"
     ]
    },
    {
     "data": {
      "text/plain": [
       "([<matplotlib.axis.XTick at 0x7ffbfad377c0>,\n",
       "  <matplotlib.axis.XTick at 0x7ffbfad37d90>,\n",
       "  <matplotlib.axis.XTick at 0x7ffbfad37370>,\n",
       "  <matplotlib.axis.XTick at 0x7ffbf9a1c3d0>,\n",
       "  <matplotlib.axis.XTick at 0x7ffbfaae5e20>,\n",
       "  <matplotlib.axis.XTick at 0x7ffbfaae59a0>,\n",
       "  <matplotlib.axis.XTick at 0x7ffbfa287fa0>,\n",
       "  <matplotlib.axis.XTick at 0x7ffbfa432400>,\n",
       "  <matplotlib.axis.XTick at 0x7ffbfa432e20>,\n",
       "  <matplotlib.axis.XTick at 0x7ffbfa44f520>,\n",
       "  <matplotlib.axis.XTick at 0x7ffbfa44fa90>,\n",
       "  <matplotlib.axis.XTick at 0x7ffbfa44f5e0>,\n",
       "  <matplotlib.axis.XTick at 0x7ffbfa432430>,\n",
       "  <matplotlib.axis.XTick at 0x7ffbfa38efa0>,\n",
       "  <matplotlib.axis.XTick at 0x7ffbfa38e220>,\n",
       "  <matplotlib.axis.XTick at 0x7ffbf983b2b0>,\n",
       "  <matplotlib.axis.XTick at 0x7ffbfa4cd9a0>],\n",
       " [Text(0, 0, 'percent_dwellings_need_repairs'),\n",
       "  Text(1, 0, 'percent_detached_houses'),\n",
       "  Text(2, 0, 'situational_vulnerability'),\n",
       "  Text(3, 0, 'ethnocultural_composition'),\n",
       "  Text(4, 0, 'economic_dependency'),\n",
       "  Text(5, 0, 'residential_instability'),\n",
       "  Text(6, 0, 'percent_aboriginal'),\n",
       "  Text(7, 0, 'percent_chinese'),\n",
       "  Text(8, 0, 'percent_filipino'),\n",
       "  Text(9, 0, 'percent_white'),\n",
       "  Text(10, 0, 'percent_immigrant'),\n",
       "  Text(11, 0, 'percent_no_eng_fra'),\n",
       "  Text(12, 0, 'percent_less_than_high_school'),\n",
       "  Text(13, 0, 'employment_rate'),\n",
       "  Text(14, 0, 'low_income_prevalence'),\n",
       "  Text(15, 0, 'percent_postsecondary'),\n",
       "  Text(16, 0, 'proportion_has_GP_practice')])"
      ]
     },
     "execution_count": 38,
     "metadata": {},
     "output_type": "execute_result"
    },
    {
     "data": {
      "image/png": "[encoded data removed]",
      "text/plain": [
       "<Figure size 576x396 with 1 Axes>"
      ]
     },
     "metadata": {},
     "output_type": "display_data"
    }
   ],
   "source": [
    "r2 = r2_score(y_test, y_pred)\n",
    "print(r2)\n",
    "# get importance\n",
    "importance = regressor2.coef_\n",
    "# summarize feature importance\n",
    "for i,v in enumerate(importance):\n",
    "\tprint('Feature: %0d, Score: %.5f' % (i,v))\n",
    "# plot feature importance\n",
    "labels = list(m_df.drop(columns=['D1_12_coverage', 'Fraser Health', 'Interior Health', 'Northern Health', 'Island Health', 'Vancouver Coastal Health']).columns)\n",
    "plt.bar([x for x in range(len(importance))], importance)\n",
    "plt.xticks([x for x in range(len(importance))], labels, rotation = 'vertical')"
   ]
  },
  {
   "cell_type": "markdown",
   "metadata": {},
   "source": [
    "That's an even better R2 score. Let's drop all columns with a score of <|0.2|."
   ]
  },
  {
   "cell_type": "code",
   "execution_count": 46,
   "metadata": {},
   "outputs": [
    {
     "name": "stdout",
     "output_type": "stream",
     "text": [
      "Index(['situational_vulnerability', 'ethnocultural_composition',\n",
      "       'economic_dependency', 'residential_instability', 'percent_aboriginal',\n",
      "       'percent_chinese', 'percent_white', 'percent_immigrant',\n",
      "       'percent_no_eng_fra', 'percent_less_than_high_school'],\n",
      "      dtype='object')\n"
     ]
    }
   ],
   "source": [
    "print(m_df.drop(columns=['D1_12_coverage', 'Fraser Health', 'Interior Health', 'Northern Health', 'Island Health', 'Vancouver Coastal Health', \n",
    "'percent_dwellings_need_repairs','percent_detached_houses', 'percent_filipino', 'employment_rate', 'low_income_prevalence', 'percent_postsecondary', \n",
    "'proportion_has_GP_practice']).columns)"
   ]
  },
  {
   "cell_type": "code",
   "execution_count": 47,
   "metadata": {},
   "outputs": [],
   "source": [
    "X = m_df.drop(columns=['D1_12_coverage', 'Fraser Health', 'Interior Health', 'Northern Health', 'Island Health', 'Vancouver Coastal Health', \n",
    "'percent_dwellings_need_repairs','percent_detached_houses', 'percent_filipino', 'employment_rate', 'low_income_prevalence', 'percent_postsecondary', \n",
    "'proportion_has_GP_practice']).values\n",
    "# X = m_df.iloc[:, :-1].values\n",
    "y = m_df.iloc[:, -6].values\n",
    "\n",
    "\n",
    "# split into training and test datasets\n",
    "X_train, X_test, y_train, y_test = train_test_split(X, y, test_size = 0.2, random_state = 3)\n",
    "# instantiate the regressor and train\n",
    "regressor3 = LinearRegression()\n",
    "regressor3.fit(X_train, y_train)\n",
    "y_pred = regressor3.predict(X_test)"
   ]
  },
  {
   "cell_type": "code",
   "execution_count": 49,
   "metadata": {},
   "outputs": [
    {
     "name": "stdout",
     "output_type": "stream",
     "text": [
      "0.4816547279214809\n",
      "Feature: 0, Score: 0.16739\n",
      "Feature: 1, Score: -0.45208\n",
      "Feature: 2, Score: 0.57180\n",
      "Feature: 3, Score: -0.20456\n",
      "Feature: 4, Score: -0.38484\n",
      "Feature: 5, Score: -0.36137\n",
      "Feature: 6, Score: -0.25287\n",
      "Feature: 7, Score: -0.14600\n",
      "Feature: 8, Score: 1.05168\n",
      "Feature: 9, Score: -1.13398\n"
     ]
    },
    {
     "data": {
      "text/plain": [
       "([<matplotlib.axis.XTick at 0x7ffbfaf915b0>,\n",
       "  <matplotlib.axis.XTick at 0x7ffbfaf91550>,\n",
       "  <matplotlib.axis.XTick at 0x7ffbfa420b80>,\n",
       "  <matplotlib.axis.XTick at 0x7ffbfac08310>,\n",
       "  <matplotlib.axis.XTick at 0x7ffbfac08a60>,\n",
       "  <matplotlib.axis.XTick at 0x7ffbfac381f0>,\n",
       "  <matplotlib.axis.XTick at 0x7ffbfac38940>,\n",
       "  <matplotlib.axis.XTick at 0x7ffbfabf00d0>,\n",
       "  <matplotlib.axis.XTick at 0x7ffbfac38c10>,\n",
       "  <matplotlib.axis.XTick at 0x7ffbfac089a0>],\n",
       " [Text(0, 0, 'situational_vulnerability'),\n",
       "  Text(1, 0, 'ethnocultural_composition'),\n",
       "  Text(2, 0, 'economic_dependency'),\n",
       "  Text(3, 0, 'residential_instability'),\n",
       "  Text(4, 0, 'percent_aboriginal'),\n",
       "  Text(5, 0, 'percent_chinese'),\n",
       "  Text(6, 0, 'percent_white'),\n",
       "  Text(7, 0, 'percent_immigrant'),\n",
       "  Text(8, 0, 'percent_no_eng_fra'),\n",
       "  Text(9, 0, 'percent_less_than_high_school')])"
      ]
     },
     "execution_count": 49,
     "metadata": {},
     "output_type": "execute_result"
    },
    {
     "data": {
      "image/png": "[encoded data removed]",
      "text/plain": [
       "<Figure size 576x396 with 1 Axes>"
      ]
     },
     "metadata": {},
     "output_type": "display_data"
    }
   ],
   "source": [
    "r2 = r2_score(y_test, y_pred)\n",
    "print(r2)\n",
    "# get importance\n",
    "importance = regressor3.coef_\n",
    "# summarize feature importance\n",
    "for i,v in enumerate(importance):\n",
    "\tprint('Feature: %0d, Score: %.5f' % (i,v))\n",
    "# plot feature importance\n",
    "labels = list(m_df.drop(columns=['D1_12_coverage', 'Fraser Health', 'Interior Health', 'Northern Health', 'Island Health', 'Vancouver Coastal Health', \n",
    "'percent_dwellings_need_repairs','percent_detached_houses', 'percent_filipino', 'employment_rate', 'low_income_prevalence', 'percent_postsecondary', \n",
    "'proportion_has_GP_practice']).columns)\n",
    "plt.bar([x for x in range(len(importance))], importance)\n",
    "plt.xticks([x for x in range(len(importance))], labels, rotation = 'vertical')"
   ]
  },
  {
   "cell_type": "markdown",
   "metadata": {},
   "source": [
    "Let's try keeping only the features with a score >|0.5|."
   ]
  },
  {
   "cell_type": "code",
   "execution_count": 50,
   "metadata": {},
   "outputs": [],
   "source": [
    "X = m_df.iloc[:, m_df.columns.isin(list(['economic_dependency', 'percent_no_eng_fra', \n",
    "'percent_less_than_high_school']))].values\n",
    "y = m_df.iloc[:, -6].values\n"
   ]
  },
  {
   "cell_type": "code",
   "execution_count": 51,
   "metadata": {},
   "outputs": [
    {
     "name": "stdout",
     "output_type": "stream",
     "text": [
      "0.5373971359872011\n",
      "Feature: 0, Score: -0.23700\n",
      "Feature: 1, Score: 0.82650\n",
      "Feature: 2, Score: -0.88437\n"
     ]
    },
    {
     "data": {
      "text/plain": [
       "([<matplotlib.axis.XTick at 0x7ffbfac05bb0>,\n",
       "  <matplotlib.axis.XTick at 0x7ffbfac05b80>,\n",
       "  <matplotlib.axis.XTick at 0x7ffbfac051c0>],\n",
       " [Text(0, 0, 'economic_dependency'),\n",
       "  Text(1, 0, 'percent_no_eng_fra'),\n",
       "  Text(2, 0, 'percent_less_than_high_school')])"
      ]
     },
     "execution_count": 51,
     "metadata": {},
     "output_type": "execute_result"
    },
    {
     "data": {
      "image/png": "[encoded data removed]",
      "text/plain": [
       "<Figure size 576x396 with 1 Axes>"
      ]
     },
     "metadata": {},
     "output_type": "display_data"
    }
   ],
   "source": [
    "# split into training and test datasets\n",
    "X_train, X_test, y_train, y_test = train_test_split(X, y, test_size = 0.2, random_state = 3)\n",
    "# instantiate the regressor and train\n",
    "regressor4 = LinearRegression()\n",
    "regressor4.fit(X_train, y_train)\n",
    "y_pred = regressor4.predict(X_test)\n",
    "r2 = r2_score(y_test, y_pred)\n",
    "print(r2)\n",
    "# get importance\n",
    "importance = regressor4.coef_\n",
    "# summarize feature importance\n",
    "for i,v in enumerate(importance):\n",
    "\tprint('Feature: %0d, Score: %.5f' % (i,v))\n",
    "# plot feature importance\n",
    "labels = ['economic_dependency', 'percent_no_eng_fra', 'percent_less_than_high_school']\n",
    "plt.bar([x for x in range(len(importance))], importance)\n",
    "plt.xticks([x for x in range(len(importance))], labels, rotation = 'vertical')"
   ]
  },
  {
   "cell_type": "markdown",
   "metadata": {},
   "source": [
    "This 3-variable model is most strongly correlated with education and not speaking French or English."
   ]
  },
  {
   "cell_type": "code",
   "execution_count": 52,
   "metadata": {},
   "outputs": [
    {
     "data": {
      "text/plain": [
       "0.5373971359872011"
      ]
     },
     "execution_count": 52,
     "metadata": {},
     "output_type": "execute_result"
    },
    {
     "data": {
      "image/png": "[encoded data removed]",
      "text/plain": [
       "<Figure size 576x396 with 2 Axes>"
      ]
     },
     "metadata": {},
     "output_type": "display_data"
    }
   ],
   "source": [
    "model = LinearRegression()\n",
    "visualizer = ResidualsPlot(model)\n",
    "\n",
    "visualizer.fit(X_train, y_train)  # Fit the training data to the visualizer\n",
    "visualizer.score(X_test, y_test)  # Evaluate the model on the test data\n",
    "#visualizer.show()                 # Finalize and render the figure"
   ]
  },
  {
   "cell_type": "markdown",
   "metadata": {},
   "source": [
    "The residuals look pretty evenly distributed."
   ]
  },
  {
   "cell_type": "code",
   "execution_count": 51,
   "metadata": {},
   "outputs": [],
   "source": [
    "X = m_df.iloc[:, m_df.columns.isin(list(['percent_no_eng_fra', \n",
    "'percent_less_than_high_school']))].values\n",
    "y = m_df.iloc[:, -1].values"
   ]
  }
 ],
 "metadata": {
  "interpreter": {
   "hash": "40d3a090f54c6569ab1632332b64b2c03c39dcf918b08424e98f38b5ae0af88f"
  },
  "kernelspec": {
   "display_name": "Python 3.8.11 64-bit ('base': conda)",
   "name": "python3"
  },
  "language_info": {
   "codemirror_mode": {
    "name": "ipython",
    "version": 3
   },
   "file_extension": ".py",
   "mimetype": "text/x-python",
   "name": "python",
   "nbconvert_exporter": "python",
   "pygments_lexer": "ipython3",
   "version": "3.8.11"
  },
  "orig_nbformat": 4
 },
 "nbformat": 4,
 "nbformat_minor": 2
}
