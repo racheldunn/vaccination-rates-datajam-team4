{
 "cells": [
  {
   "cell_type": "code",
   "execution_count": 88,
   "metadata": {},
   "outputs": [],
   "source": [
    "import pandas as pd\n",
    "import plotly.express as px"
   ]
  },
  {
   "cell_type": "code",
   "execution_count": 89,
   "metadata": {},
   "outputs": [],
   "source": [
    "read_file = pd.read_excel('/Users/melis/DataJam2021/Vaccination-rates/data/Vaccination_Data_Weekly/BCCDC_COVID19_LHA_CHSA_Data_Oldest.xlsx')\n",
    "read_file.to_csv('BCCDC_COVID19_LHA_CHSA_Data_Oldest.csv', index = None, header=True)\n",
    "CHSA_1 = pd.DataFrame(pd.read_csv('BCCDC_COVID19_LHA_CHSA_Data_Oldest.csv'))"
   ]
  },
  {
   "cell_type": "code",
   "execution_count": 90,
   "metadata": {},
   "outputs": [],
   "source": [
    "# There are 5 main Health Authorities in British Columbia (1-5)\n",
    "# First number of CHSA18_Code is Health Authority\n",
    "CHSA_code = CHSA_1['CHSA18_Code']\n",
    "CHSA_code_str = CHSA_code.astype(str).str[0]\n",
    "\n",
    "# Add Health Authority Code Column\n",
    "CHSA_1['Health_Authority'] = CHSA_code_str.astype(int)\n",
    "\n",
    "# Add Health Authority Name Column\n",
    "CHSA_1['Health_Authority_Name'] = CHSA_code_str.astype(int)\n",
    "d = {1: 'Interior', 2: 'Fraser', 3: 'Vancouver Coastal', 4: 'Vancouver Island', 5: 'Northern Island'}\n",
    "CHSA_1['Health_Authority_Name'] = CHSA_1['Health_Authority_Name'].map(d)"
   ]
  },
  {
   "cell_type": "code",
   "execution_count": 91,
   "metadata": {},
   "outputs": [],
   "source": [
    "# There are 16 main Health Service Delivery Areas in British Columbia\n",
    "# First two numbers of CHSA18_Code is Health Service Delivery Area\n",
    "CHSA_code_str2 = CHSA_code.astype(str).str[0:2]\n",
    "\n",
    "# Add Health Service Delivery Area Code Column\n",
    "CHSA_1['Health_Service_Delivery_Area'] = CHSA_code_str2.astype(int)\n",
    "\n",
    "# Add Health Service Delivery Area Name Column\n",
    "CHSA_1['Health_Service_Delivery_Area_Name'] = CHSA_code_str2.astype(int)\n",
    "d = {11: 'East Kootenay', 12: 'Kootenay Boundary', 13: 'Okanagan', 14: 'Thompson Cariboo Shuswap', 21: 'Fraser East', 22: 'Fraser North', 23: 'Fraser South', 31: 'Richmond', 32: 'Vancouver', 33: 'North Shore - Coast Garibaldi', 41: 'South Vancouver Island', 42: 'Central Vancouver Island', 43: 'North Vancouver Island', 51: 'Northwest', 52: 'Northern Interior', 53: 'Northeast'}\n",
    "CHSA_1['Health_Service_Delivery_Area_Name'] = CHSA_1['Health_Service_Delivery_Area_Name'].map(d)"
   ]
  },
  {
   "cell_type": "code",
   "execution_count": 92,
   "metadata": {},
   "outputs": [],
   "source": [
    "# There are 89 main Local Health Areas in British Columbia\n",
    "# First three numbers of CHSA18_Code is Local Health Area\n",
    "CHSA_code_str3 = CHSA_code.astype(str).str[0:3]\n",
    "\n",
    "# Add Local Health Area Code Column\n",
    "CHSA_1['Local_Health_Area'] = CHSA_code_str3.astype(int)\n",
    "\n",
    "# Add Local Health Area Name Column\n",
    "d = {111: 'Fernie', 112: 'Cranbrook', 113: 'Kimberley', 114: 'Windermere', 115: 'Creston', 116: 'Golden', 121: 'Kootenay Lake', 122: 'Nelson', 123: 'Castlegar', 124: 'Arrow Lakes', 125: 'Trail', 126: 'Grand Forks', 127: 'Kettle Valley', 131: 'Southern Okanagan', 132: 'Penticton', 133: 'Keremeos', 134: 'Princeton', 135: 'Armstrong-Spallumcheen', 136: 'Vernon', 137: 'Central Okanagan', 138: 'Summerland', 139: 'Enderby', 141: 'Revelstoke', 142: 'Salmon Arm', 143: 'Kamloops', 144: '100 Mile House', 145: 'North Thompson', 146: 'Cariboo-Chilcotin', 147: 'Lillooet', 148: 'South Cariboo', 149: 'Merritt', 211: 'Hope', 212: 'Chilliwack', 213: 'Abbotsford', 214: 'Mission', 215: 'Agassiz-Harrison', 221: 'New Westminster', 222: 'Burnaby', 223: 'Maple Ridge-Pitt Meadows', 224: 'Tri-Cities', 231: 'Langley', 232: 'Delta', 233: 'Surrey', 234: 'South Surrey-White Rock', 311: 'Richmond', 321: 'Vancouver-City Centre', 322: 'Vancouver-Centre North', 323: 'Vancouver-Northeast', 324: 'Vancouver Westside', 325: 'Vancouver-Midtown', 326: 'Vancouver-South', 331: 'North Vancouver', 332: 'West Vancouver-Bowen Island', 333: 'Sunshine Coast', 334: 'Powell River', 335: 'Howe Sound', 336: 'Bella Coola Valley', 337: 'Central Coast', 411: 'Greater Victoria', 412: 'Western Communities', 413: 'Sannich Peninsula', 414: 'Southern Gulf Islands', 421: 'Cowichan Valley South', 422: 'Cowichan Valley West', 423: 'Cowichan Valley North', 424: 'Greater Nanaimo', 425: 'Oceanside', 426: 'Alberni-Clayoquot', 431: 'Comox Valley', 432: 'Greater Campbell River', 433: 'Vancouver Island West', 434: 'Vancouver Island North', 510: 'Haida Gwaii', 511: 'Snow County', 512: 'Prince Rupert', 513: 'Upper Skeena', 514: 'Smithers', 515: 'Kitimat', 516: 'Stikine', 517: 'Terrace', 518: 'Nisgaa', 519: 'Telegraph Creek', 521: 'Quesnel', 522: 'Burns Lake', 523: 'Nechako', 524: 'Prince George', 531: 'Peace River South', 532: 'Peace River North', 533: 'Fort Nelson'}\n",
    "CHSA_1['Local_Health_Area_Name'] = CHSA_code_str3.astype(int)\n",
    "CHSA_1['Local_Health_Area_Name'] = CHSA_1['Local_Health_Area_Name'].map(d)"
   ]
  },
  {
   "cell_type": "code",
   "execution_count": 93,
   "metadata": {},
   "outputs": [
    {
     "data": {
      "text/html": [
       "<div>\n",
       "<style scoped>\n",
       "    .dataframe tbody tr th:only-of-type {\n",
       "        vertical-align: middle;\n",
       "    }\n",
       "\n",
       "    .dataframe tbody tr th {\n",
       "        vertical-align: top;\n",
       "    }\n",
       "\n",
       "    .dataframe thead th {\n",
       "        text-align: right;\n",
       "    }\n",
       "</style>\n",
       "<table border=\"1\" class=\"dataframe\">\n",
       "  <thead>\n",
       "    <tr style=\"text-align: right;\">\n",
       "      <th></th>\n",
       "      <th>m_0_4</th>\n",
       "      <th>m_5_9</th>\n",
       "      <th>m_10_14</th>\n",
       "      <th>m_15_19</th>\n",
       "      <th>m_20_24</th>\n",
       "      <th>m_25_29</th>\n",
       "      <th>m_30_34</th>\n",
       "      <th>m_35_39</th>\n",
       "      <th>m_40_44</th>\n",
       "      <th>m_45_49</th>\n",
       "      <th>...</th>\n",
       "      <th>rheumatoid_arthritis_age_standardized_prevalence_per_100</th>\n",
       "      <th>schizophrenia_incidence_per_1000</th>\n",
       "      <th>schizophrenia_prevalence_per_100</th>\n",
       "      <th>schizophrenia_age_standardized_incidence_per_1000</th>\n",
       "      <th>schizophrenia_age_standardized_prevalence_per_100</th>\n",
       "      <th>hsa</th>\n",
       "      <th>subregion</th>\n",
       "      <th>proportion_has_GP_practitioner.1</th>\n",
       "      <th>proportion_has_GP_practice.1</th>\n",
       "      <th>code</th>\n",
       "    </tr>\n",
       "  </thead>\n",
       "  <tbody>\n",
       "    <tr>\n",
       "      <th>0</th>\n",
       "      <td>390</td>\n",
       "      <td>410</td>\n",
       "      <td>475</td>\n",
       "      <td>640</td>\n",
       "      <td>620</td>\n",
       "      <td>560</td>\n",
       "      <td>435</td>\n",
       "      <td>380</td>\n",
       "      <td>450</td>\n",
       "      <td>580</td>\n",
       "      <td>...</td>\n",
       "      <td>0.8</td>\n",
       "      <td>0.3</td>\n",
       "      <td>0.8</td>\n",
       "      <td>0.4</td>\n",
       "      <td>0.7</td>\n",
       "      <td>Vancouver Coastal Health</td>\n",
       "      <td>Blundell</td>\n",
       "      <td>NaN</td>\n",
       "      <td>NaN</td>\n",
       "      <td>3112</td>\n",
       "    </tr>\n",
       "    <tr>\n",
       "      <th>1</th>\n",
       "      <td>680</td>\n",
       "      <td>530</td>\n",
       "      <td>470</td>\n",
       "      <td>430</td>\n",
       "      <td>695</td>\n",
       "      <td>1620</td>\n",
       "      <td>1795</td>\n",
       "      <td>1390</td>\n",
       "      <td>1210</td>\n",
       "      <td>1095</td>\n",
       "      <td>...</td>\n",
       "      <td>1.3</td>\n",
       "      <td>1.0</td>\n",
       "      <td>2.8</td>\n",
       "      <td>0.8</td>\n",
       "      <td>2.5</td>\n",
       "      <td>Vancouver Coastal Health</td>\n",
       "      <td>Grandview-Woodland</td>\n",
       "      <td>NaN</td>\n",
       "      <td>NaN</td>\n",
       "      <td>3223</td>\n",
       "    </tr>\n",
       "    <tr>\n",
       "      <th>2</th>\n",
       "      <td>555</td>\n",
       "      <td>710</td>\n",
       "      <td>795</td>\n",
       "      <td>780</td>\n",
       "      <td>675</td>\n",
       "      <td>520</td>\n",
       "      <td>495</td>\n",
       "      <td>665</td>\n",
       "      <td>760</td>\n",
       "      <td>860</td>\n",
       "      <td>...</td>\n",
       "      <td>0.8</td>\n",
       "      <td>0.3</td>\n",
       "      <td>0.6</td>\n",
       "      <td>0.3</td>\n",
       "      <td>0.5</td>\n",
       "      <td>Vancouver Coastal Health</td>\n",
       "      <td>Steveston</td>\n",
       "      <td>NaN</td>\n",
       "      <td>NaN</td>\n",
       "      <td>3115</td>\n",
       "    </tr>\n",
       "    <tr>\n",
       "      <th>3</th>\n",
       "      <td>690</td>\n",
       "      <td>750</td>\n",
       "      <td>775</td>\n",
       "      <td>905</td>\n",
       "      <td>1025</td>\n",
       "      <td>965</td>\n",
       "      <td>870</td>\n",
       "      <td>825</td>\n",
       "      <td>935</td>\n",
       "      <td>980</td>\n",
       "      <td>...</td>\n",
       "      <td>0.9</td>\n",
       "      <td>0.6</td>\n",
       "      <td>1.2</td>\n",
       "      <td>0.6</td>\n",
       "      <td>1.1</td>\n",
       "      <td>Vancouver Coastal Health</td>\n",
       "      <td>Killarney</td>\n",
       "      <td>NaN</td>\n",
       "      <td>NaN</td>\n",
       "      <td>3261</td>\n",
       "    </tr>\n",
       "    <tr>\n",
       "      <th>4</th>\n",
       "      <td>740</td>\n",
       "      <td>675</td>\n",
       "      <td>645</td>\n",
       "      <td>775</td>\n",
       "      <td>925</td>\n",
       "      <td>1355</td>\n",
       "      <td>1535</td>\n",
       "      <td>1295</td>\n",
       "      <td>1225</td>\n",
       "      <td>1175</td>\n",
       "      <td>...</td>\n",
       "      <td>1.1</td>\n",
       "      <td>0.7</td>\n",
       "      <td>1.1</td>\n",
       "      <td>0.7</td>\n",
       "      <td>1.0</td>\n",
       "      <td>Vancouver Coastal Health</td>\n",
       "      <td>North Vancouver City - West</td>\n",
       "      <td>NaN</td>\n",
       "      <td>NaN</td>\n",
       "      <td>3312</td>\n",
       "    </tr>\n",
       "  </tbody>\n",
       "</table>\n",
       "<p>5 rows × 207 columns</p>\n",
       "</div>"
      ],
      "text/plain": [
       "   m_0_4  m_5_9  m_10_14  m_15_19  m_20_24  m_25_29  m_30_34  m_35_39  \\\n",
       "0    390    410      475      640      620      560      435      380   \n",
       "1    680    530      470      430      695     1620     1795     1390   \n",
       "2    555    710      795      780      675      520      495      665   \n",
       "3    690    750      775      905     1025      965      870      825   \n",
       "4    740    675      645      775      925     1355     1535     1295   \n",
       "\n",
       "   m_40_44  m_45_49  ...  \\\n",
       "0      450      580  ...   \n",
       "1     1210     1095  ...   \n",
       "2      760      860  ...   \n",
       "3      935      980  ...   \n",
       "4     1225     1175  ...   \n",
       "\n",
       "   rheumatoid_arthritis_age_standardized_prevalence_per_100  \\\n",
       "0                                                0.8          \n",
       "1                                                1.3          \n",
       "2                                                0.8          \n",
       "3                                                0.9          \n",
       "4                                                1.1          \n",
       "\n",
       "   schizophrenia_incidence_per_1000  schizophrenia_prevalence_per_100  \\\n",
       "0                               0.3                               0.8   \n",
       "1                               1.0                               2.8   \n",
       "2                               0.3                               0.6   \n",
       "3                               0.6                               1.2   \n",
       "4                               0.7                               1.1   \n",
       "\n",
       "   schizophrenia_age_standardized_incidence_per_1000  \\\n",
       "0                                                0.4   \n",
       "1                                                0.8   \n",
       "2                                                0.3   \n",
       "3                                                0.6   \n",
       "4                                                0.7   \n",
       "\n",
       "   schizophrenia_age_standardized_prevalence_per_100  \\\n",
       "0                                                0.7   \n",
       "1                                                2.5   \n",
       "2                                                0.5   \n",
       "3                                                1.1   \n",
       "4                                                1.0   \n",
       "\n",
       "                        hsa                    subregion  \\\n",
       "0  Vancouver Coastal Health                     Blundell   \n",
       "1  Vancouver Coastal Health           Grandview-Woodland   \n",
       "2  Vancouver Coastal Health                    Steveston   \n",
       "3  Vancouver Coastal Health                    Killarney   \n",
       "4  Vancouver Coastal Health  North Vancouver City - West   \n",
       "\n",
       "   proportion_has_GP_practitioner.1  proportion_has_GP_practice.1  code  \n",
       "0                               NaN                           NaN  3112  \n",
       "1                               NaN                           NaN  3223  \n",
       "2                               NaN                           NaN  3115  \n",
       "3                               NaN                           NaN  3261  \n",
       "4                               NaN                           NaN  3312  \n",
       "\n",
       "[5 rows x 207 columns]"
      ]
     },
     "execution_count": 93,
     "metadata": {},
     "output_type": "execute_result"
    }
   ],
   "source": [
    "SE = pd.read_csv('/Users/melis/DataJam2021/Git-vaccination-rates/vaccination-rates-datajam-team4/data/socioeco_compiled.csv')\n",
    "SE.head()"
   ]
  },
  {
   "cell_type": "code",
   "execution_count": 94,
   "metadata": {},
   "outputs": [
    {
     "data": {
      "text/html": [
       "<div>\n",
       "<style scoped>\n",
       "    .dataframe tbody tr th:only-of-type {\n",
       "        vertical-align: middle;\n",
       "    }\n",
       "\n",
       "    .dataframe tbody tr th {\n",
       "        vertical-align: top;\n",
       "    }\n",
       "\n",
       "    .dataframe thead th {\n",
       "        text-align: right;\n",
       "    }\n",
       "</style>\n",
       "<table border=\"1\" class=\"dataframe\">\n",
       "  <thead>\n",
       "    <tr style=\"text-align: right;\">\n",
       "      <th></th>\n",
       "      <th>m_0_4</th>\n",
       "      <th>m_5_9</th>\n",
       "      <th>m_10_14</th>\n",
       "      <th>m_15_19</th>\n",
       "      <th>m_20_24</th>\n",
       "      <th>m_25_29</th>\n",
       "      <th>m_30_34</th>\n",
       "      <th>m_35_39</th>\n",
       "      <th>m_40_44</th>\n",
       "      <th>m_45_49</th>\n",
       "      <th>...</th>\n",
       "      <th>D2_12_coverage</th>\n",
       "      <th>D2_18_coverage</th>\n",
       "      <th>D2_18_49_coverage</th>\n",
       "      <th>D2_50_coverage</th>\n",
       "      <th>Health_Authority</th>\n",
       "      <th>Health_Service_Delivery_Area</th>\n",
       "      <th>Local_Health_Area</th>\n",
       "      <th>Health_Authority_Name</th>\n",
       "      <th>Health_Service_Delivery_Area_Name</th>\n",
       "      <th>Local_Health_Area_Name</th>\n",
       "    </tr>\n",
       "    <tr>\n",
       "      <th>code</th>\n",
       "      <th></th>\n",
       "      <th></th>\n",
       "      <th></th>\n",
       "      <th></th>\n",
       "      <th></th>\n",
       "      <th></th>\n",
       "      <th></th>\n",
       "      <th></th>\n",
       "      <th></th>\n",
       "      <th></th>\n",
       "      <th></th>\n",
       "      <th></th>\n",
       "      <th></th>\n",
       "      <th></th>\n",
       "      <th></th>\n",
       "      <th></th>\n",
       "      <th></th>\n",
       "      <th></th>\n",
       "      <th></th>\n",
       "      <th></th>\n",
       "      <th></th>\n",
       "    </tr>\n",
       "  </thead>\n",
       "  <tbody>\n",
       "    <tr>\n",
       "      <th>3112</th>\n",
       "      <td>390</td>\n",
       "      <td>410</td>\n",
       "      <td>475</td>\n",
       "      <td>640</td>\n",
       "      <td>620</td>\n",
       "      <td>560</td>\n",
       "      <td>435</td>\n",
       "      <td>380</td>\n",
       "      <td>450</td>\n",
       "      <td>580</td>\n",
       "      <td>...</td>\n",
       "      <td>62.0</td>\n",
       "      <td>65.0</td>\n",
       "      <td>55.0</td>\n",
       "      <td>73.0</td>\n",
       "      <td>3.0</td>\n",
       "      <td>31.0</td>\n",
       "      <td>311.0</td>\n",
       "      <td>Vancouver Coastal</td>\n",
       "      <td>Richmond</td>\n",
       "      <td>Richmond</td>\n",
       "    </tr>\n",
       "    <tr>\n",
       "      <th>3223</th>\n",
       "      <td>680</td>\n",
       "      <td>530</td>\n",
       "      <td>470</td>\n",
       "      <td>430</td>\n",
       "      <td>695</td>\n",
       "      <td>1620</td>\n",
       "      <td>1795</td>\n",
       "      <td>1390</td>\n",
       "      <td>1210</td>\n",
       "      <td>1095</td>\n",
       "      <td>...</td>\n",
       "      <td>72.0</td>\n",
       "      <td>73.0</td>\n",
       "      <td>72.0</td>\n",
       "      <td>75.0</td>\n",
       "      <td>3.0</td>\n",
       "      <td>32.0</td>\n",
       "      <td>322.0</td>\n",
       "      <td>Vancouver Coastal</td>\n",
       "      <td>Vancouver</td>\n",
       "      <td>Vancouver-Centre North</td>\n",
       "    </tr>\n",
       "    <tr>\n",
       "      <th>3115</th>\n",
       "      <td>555</td>\n",
       "      <td>710</td>\n",
       "      <td>795</td>\n",
       "      <td>780</td>\n",
       "      <td>675</td>\n",
       "      <td>520</td>\n",
       "      <td>495</td>\n",
       "      <td>665</td>\n",
       "      <td>760</td>\n",
       "      <td>860</td>\n",
       "      <td>...</td>\n",
       "      <td>72.0</td>\n",
       "      <td>76.0</td>\n",
       "      <td>65.0</td>\n",
       "      <td>84.0</td>\n",
       "      <td>3.0</td>\n",
       "      <td>31.0</td>\n",
       "      <td>311.0</td>\n",
       "      <td>Vancouver Coastal</td>\n",
       "      <td>Richmond</td>\n",
       "      <td>Richmond</td>\n",
       "    </tr>\n",
       "    <tr>\n",
       "      <th>3261</th>\n",
       "      <td>690</td>\n",
       "      <td>750</td>\n",
       "      <td>775</td>\n",
       "      <td>905</td>\n",
       "      <td>1025</td>\n",
       "      <td>965</td>\n",
       "      <td>870</td>\n",
       "      <td>825</td>\n",
       "      <td>935</td>\n",
       "      <td>980</td>\n",
       "      <td>...</td>\n",
       "      <td>73.0</td>\n",
       "      <td>75.0</td>\n",
       "      <td>70.0</td>\n",
       "      <td>81.0</td>\n",
       "      <td>3.0</td>\n",
       "      <td>32.0</td>\n",
       "      <td>326.0</td>\n",
       "      <td>Vancouver Coastal</td>\n",
       "      <td>Vancouver</td>\n",
       "      <td>Vancouver-South</td>\n",
       "    </tr>\n",
       "    <tr>\n",
       "      <th>3312</th>\n",
       "      <td>740</td>\n",
       "      <td>675</td>\n",
       "      <td>645</td>\n",
       "      <td>775</td>\n",
       "      <td>925</td>\n",
       "      <td>1355</td>\n",
       "      <td>1535</td>\n",
       "      <td>1295</td>\n",
       "      <td>1225</td>\n",
       "      <td>1175</td>\n",
       "      <td>...</td>\n",
       "      <td>72.0</td>\n",
       "      <td>74.0</td>\n",
       "      <td>69.0</td>\n",
       "      <td>81.0</td>\n",
       "      <td>3.0</td>\n",
       "      <td>33.0</td>\n",
       "      <td>331.0</td>\n",
       "      <td>Vancouver Coastal</td>\n",
       "      <td>North Shore - Coast Garibaldi</td>\n",
       "      <td>North Vancouver</td>\n",
       "    </tr>\n",
       "  </tbody>\n",
       "</table>\n",
       "<p>5 rows × 226 columns</p>\n",
       "</div>"
      ],
      "text/plain": [
       "      m_0_4  m_5_9  m_10_14  m_15_19  m_20_24  m_25_29  m_30_34  m_35_39  \\\n",
       "code                                                                       \n",
       "3112    390    410      475      640      620      560      435      380   \n",
       "3223    680    530      470      430      695     1620     1795     1390   \n",
       "3115    555    710      795      780      675      520      495      665   \n",
       "3261    690    750      775      905     1025      965      870      825   \n",
       "3312    740    675      645      775      925     1355     1535     1295   \n",
       "\n",
       "      m_40_44  m_45_49  ...  D2_12_coverage  D2_18_coverage  \\\n",
       "code                    ...                                   \n",
       "3112      450      580  ...            62.0            65.0   \n",
       "3223     1210     1095  ...            72.0            73.0   \n",
       "3115      760      860  ...            72.0            76.0   \n",
       "3261      935      980  ...            73.0            75.0   \n",
       "3312     1225     1175  ...            72.0            74.0   \n",
       "\n",
       "      D2_18_49_coverage  D2_50_coverage  Health_Authority  \\\n",
       "code                                                        \n",
       "3112               55.0            73.0               3.0   \n",
       "3223               72.0            75.0               3.0   \n",
       "3115               65.0            84.0               3.0   \n",
       "3261               70.0            81.0               3.0   \n",
       "3312               69.0            81.0               3.0   \n",
       "\n",
       "      Health_Service_Delivery_Area  Local_Health_Area  Health_Authority_Name  \\\n",
       "code                                                                           \n",
       "3112                          31.0              311.0      Vancouver Coastal   \n",
       "3223                          32.0              322.0      Vancouver Coastal   \n",
       "3115                          31.0              311.0      Vancouver Coastal   \n",
       "3261                          32.0              326.0      Vancouver Coastal   \n",
       "3312                          33.0              331.0      Vancouver Coastal   \n",
       "\n",
       "      Health_Service_Delivery_Area_Name  Local_Health_Area_Name  \n",
       "code                                                             \n",
       "3112                           Richmond                Richmond  \n",
       "3223                          Vancouver  Vancouver-Centre North  \n",
       "3115                           Richmond                Richmond  \n",
       "3261                          Vancouver         Vancouver-South  \n",
       "3312      North Shore - Coast Garibaldi         North Vancouver  \n",
       "\n",
       "[5 rows x 226 columns]"
      ]
     },
     "execution_count": 94,
     "metadata": {},
     "output_type": "execute_result"
    }
   ],
   "source": [
    "merged = SE.set_index('code').join(CHSA_1.set_index('CHSA18_Code'))\n",
    "merged.head()"
   ]
  },
  {
   "cell_type": "code",
   "execution_count": 95,
   "metadata": {},
   "outputs": [],
   "source": [
    "merged2 = merged.groupby('hsa')[['residential_instability','situational_vulnerability', 'ethnocultural_composition', 'economic_dependency']].mean()\n",
    "merged2 = merged2.reset_index()"
   ]
  },
  {
   "cell_type": "code",
   "execution_count": 96,
   "metadata": {},
   "outputs": [
    {
     "data": {
      "application/vnd.plotly.v1+json": {
       "config": {
        "plotlyServerURL": "https://plot.ly"
       },
       "data": [
        {
         "name": "residential_instability",
         "offsetgroup": "0",
         "type": "bar",
         "x": [
          "Fraser Health",
          "Interior Health",
          "Island Health",
          "Northern Health",
          "Vancouver Coastal Health"
         ],
         "y": [
          2.951219512195122,
          2.7142857142857144,
          2.9523809523809526,
          2.413793103448276,
          3.761904761904762
         ]
        },
        {
         "name": "situational_vulnerability",
         "offsetgroup": "1",
         "type": "bar",
         "x": [
          "Fraser Health",
          "Interior Health",
          "Island Health",
          "Northern Health",
          "Vancouver Coastal Health"
         ],
         "y": [
          2.4390243902439024,
          3.25,
          2.4047619047619047,
          4.275862068965517,
          2.4047619047619047
         ]
        },
        {
         "name": "ethnocultural_composition",
         "offsetgroup": "2",
         "type": "bar",
         "x": [
          "Fraser Health",
          "Interior Health",
          "Island Health",
          "Northern Health",
          "Vancouver Coastal Health"
         ],
         "y": [
          4.219512195121951,
          2.0714285714285716,
          2.4523809523809526,
          2,
          4.380952380952381
         ]
        },
        {
         "name": "economic_dependency",
         "offsetgroup": "3",
         "type": "bar",
         "x": [
          "Fraser Health",
          "Interior Health",
          "Island Health",
          "Northern Health",
          "Vancouver Coastal Health"
         ],
         "y": [
          2.317073170731707,
          3.8214285714285716,
          3.7142857142857144,
          2.3793103448275863,
          2.5714285714285716
         ]
        }
       ],
       "layout": {
        "autosize": true,
        "template": {
         "data": {
          "bar": [
           {
            "error_x": {
             "color": "#2a3f5f"
            },
            "error_y": {
             "color": "#2a3f5f"
            },
            "marker": {
             "line": {
              "color": "#E5ECF6",
              "width": 0.5
             },
             "pattern": {
              "fillmode": "overlay",
              "size": 10,
              "solidity": 0.2
             }
            },
            "type": "bar"
           }
          ],
          "barpolar": [
           {
            "marker": {
             "line": {
              "color": "#E5ECF6",
              "width": 0.5
             },
             "pattern": {
              "fillmode": "overlay",
              "size": 10,
              "solidity": 0.2
             }
            },
            "type": "barpolar"
           }
          ],
          "carpet": [
           {
            "aaxis": {
             "endlinecolor": "#2a3f5f",
             "gridcolor": "white",
             "linecolor": "white",
             "minorgridcolor": "white",
             "startlinecolor": "#2a3f5f"
            },
            "baxis": {
             "endlinecolor": "#2a3f5f",
             "gridcolor": "white",
             "linecolor": "white",
             "minorgridcolor": "white",
             "startlinecolor": "#2a3f5f"
            },
            "type": "carpet"
           }
          ],
          "choropleth": [
           {
            "colorbar": {
             "outlinewidth": 0,
             "ticks": ""
            },
            "type": "choropleth"
           }
          ],
          "contour": [
           {
            "colorbar": {
             "outlinewidth": 0,
             "ticks": ""
            },
            "colorscale": [
             [
              0,
              "#0d0887"
             ],
             [
              0.1111111111111111,
              "#46039f"
             ],
             [
              0.2222222222222222,
              "#7201a8"
             ],
             [
              0.3333333333333333,
              "#9c179e"
             ],
             [
              0.4444444444444444,
              "#bd3786"
             ],
             [
              0.5555555555555556,
              "#d8576b"
             ],
             [
              0.6666666666666666,
              "#ed7953"
             ],
             [
              0.7777777777777778,
              "#fb9f3a"
             ],
             [
              0.8888888888888888,
              "#fdca26"
             ],
             [
              1,
              "#f0f921"
             ]
            ],
            "type": "contour"
           }
          ],
          "contourcarpet": [
           {
            "colorbar": {
             "outlinewidth": 0,
             "ticks": ""
            },
            "type": "contourcarpet"
           }
          ],
          "heatmap": [
           {
            "colorbar": {
             "outlinewidth": 0,
             "ticks": ""
            },
            "colorscale": [
             [
              0,
              "#0d0887"
             ],
             [
              0.1111111111111111,
              "#46039f"
             ],
             [
              0.2222222222222222,
              "#7201a8"
             ],
             [
              0.3333333333333333,
              "#9c179e"
             ],
             [
              0.4444444444444444,
              "#bd3786"
             ],
             [
              0.5555555555555556,
              "#d8576b"
             ],
             [
              0.6666666666666666,
              "#ed7953"
             ],
             [
              0.7777777777777778,
              "#fb9f3a"
             ],
             [
              0.8888888888888888,
              "#fdca26"
             ],
             [
              1,
              "#f0f921"
             ]
            ],
            "type": "heatmap"
           }
          ],
          "heatmapgl": [
           {
            "colorbar": {
             "outlinewidth": 0,
             "ticks": ""
            },
            "colorscale": [
             [
              0,
              "#0d0887"
             ],
             [
              0.1111111111111111,
              "#46039f"
             ],
             [
              0.2222222222222222,
              "#7201a8"
             ],
             [
              0.3333333333333333,
              "#9c179e"
             ],
             [
              0.4444444444444444,
              "#bd3786"
             ],
             [
              0.5555555555555556,
              "#d8576b"
             ],
             [
              0.6666666666666666,
              "#ed7953"
             ],
             [
              0.7777777777777778,
              "#fb9f3a"
             ],
             [
              0.8888888888888888,
              "#fdca26"
             ],
             [
              1,
              "#f0f921"
             ]
            ],
            "type": "heatmapgl"
           }
          ],
          "histogram": [
           {
            "marker": {
             "pattern": {
              "fillmode": "overlay",
              "size": 10,
              "solidity": 0.2
             }
            },
            "type": "histogram"
           }
          ],
          "histogram2d": [
           {
            "colorbar": {
             "outlinewidth": 0,
             "ticks": ""
            },
            "colorscale": [
             [
              0,
              "#0d0887"
             ],
             [
              0.1111111111111111,
              "#46039f"
             ],
             [
              0.2222222222222222,
              "#7201a8"
             ],
             [
              0.3333333333333333,
              "#9c179e"
             ],
             [
              0.4444444444444444,
              "#bd3786"
             ],
             [
              0.5555555555555556,
              "#d8576b"
             ],
             [
              0.6666666666666666,
              "#ed7953"
             ],
             [
              0.7777777777777778,
              "#fb9f3a"
             ],
             [
              0.8888888888888888,
              "#fdca26"
             ],
             [
              1,
              "#f0f921"
             ]
            ],
            "type": "histogram2d"
           }
          ],
          "histogram2dcontour": [
           {
            "colorbar": {
             "outlinewidth": 0,
             "ticks": ""
            },
            "colorscale": [
             [
              0,
              "#0d0887"
             ],
             [
              0.1111111111111111,
              "#46039f"
             ],
             [
              0.2222222222222222,
              "#7201a8"
             ],
             [
              0.3333333333333333,
              "#9c179e"
             ],
             [
              0.4444444444444444,
              "#bd3786"
             ],
             [
              0.5555555555555556,
              "#d8576b"
             ],
             [
              0.6666666666666666,
              "#ed7953"
             ],
             [
              0.7777777777777778,
              "#fb9f3a"
             ],
             [
              0.8888888888888888,
              "#fdca26"
             ],
             [
              1,
              "#f0f921"
             ]
            ],
            "type": "histogram2dcontour"
           }
          ],
          "mesh3d": [
           {
            "colorbar": {
             "outlinewidth": 0,
             "ticks": ""
            },
            "type": "mesh3d"
           }
          ],
          "parcoords": [
           {
            "line": {
             "colorbar": {
              "outlinewidth": 0,
              "ticks": ""
             }
            },
            "type": "parcoords"
           }
          ],
          "pie": [
           {
            "automargin": true,
            "type": "pie"
           }
          ],
          "scatter": [
           {
            "marker": {
             "colorbar": {
              "outlinewidth": 0,
              "ticks": ""
             }
            },
            "type": "scatter"
           }
          ],
          "scatter3d": [
           {
            "line": {
             "colorbar": {
              "outlinewidth": 0,
              "ticks": ""
             }
            },
            "marker": {
             "colorbar": {
              "outlinewidth": 0,
              "ticks": ""
             }
            },
            "type": "scatter3d"
           }
          ],
          "scattercarpet": [
           {
            "marker": {
             "colorbar": {
              "outlinewidth": 0,
              "ticks": ""
             }
            },
            "type": "scattercarpet"
           }
          ],
          "scattergeo": [
           {
            "marker": {
             "colorbar": {
              "outlinewidth": 0,
              "ticks": ""
             }
            },
            "type": "scattergeo"
           }
          ],
          "scattergl": [
           {
            "marker": {
             "colorbar": {
              "outlinewidth": 0,
              "ticks": ""
             }
            },
            "type": "scattergl"
           }
          ],
          "scattermapbox": [
           {
            "marker": {
             "colorbar": {
              "outlinewidth": 0,
              "ticks": ""
             }
            },
            "type": "scattermapbox"
           }
          ],
          "scatterpolar": [
           {
            "marker": {
             "colorbar": {
              "outlinewidth": 0,
              "ticks": ""
             }
            },
            "type": "scatterpolar"
           }
          ],
          "scatterpolargl": [
           {
            "marker": {
             "colorbar": {
              "outlinewidth": 0,
              "ticks": ""
             }
            },
            "type": "scatterpolargl"
           }
          ],
          "scatterternary": [
           {
            "marker": {
             "colorbar": {
              "outlinewidth": 0,
              "ticks": ""
             }
            },
            "type": "scatterternary"
           }
          ],
          "surface": [
           {
            "colorbar": {
             "outlinewidth": 0,
             "ticks": ""
            },
            "colorscale": [
             [
              0,
              "#0d0887"
             ],
             [
              0.1111111111111111,
              "#46039f"
             ],
             [
              0.2222222222222222,
              "#7201a8"
             ],
             [
              0.3333333333333333,
              "#9c179e"
             ],
             [
              0.4444444444444444,
              "#bd3786"
             ],
             [
              0.5555555555555556,
              "#d8576b"
             ],
             [
              0.6666666666666666,
              "#ed7953"
             ],
             [
              0.7777777777777778,
              "#fb9f3a"
             ],
             [
              0.8888888888888888,
              "#fdca26"
             ],
             [
              1,
              "#f0f921"
             ]
            ],
            "type": "surface"
           }
          ],
          "table": [
           {
            "cells": {
             "fill": {
              "color": "#EBF0F8"
             },
             "line": {
              "color": "white"
             }
            },
            "header": {
             "fill": {
              "color": "#C8D4E3"
             },
             "line": {
              "color": "white"
             }
            },
            "type": "table"
           }
          ]
         },
         "layout": {
          "annotationdefaults": {
           "arrowcolor": "#2a3f5f",
           "arrowhead": 0,
           "arrowwidth": 1
          },
          "autotypenumbers": "strict",
          "coloraxis": {
           "colorbar": {
            "outlinewidth": 0,
            "ticks": ""
           }
          },
          "colorscale": {
           "diverging": [
            [
             0,
             "#8e0152"
            ],
            [
             0.1,
             "#c51b7d"
            ],
            [
             0.2,
             "#de77ae"
            ],
            [
             0.3,
             "#f1b6da"
            ],
            [
             0.4,
             "#fde0ef"
            ],
            [
             0.5,
             "#f7f7f7"
            ],
            [
             0.6,
             "#e6f5d0"
            ],
            [
             0.7,
             "#b8e186"
            ],
            [
             0.8,
             "#7fbc41"
            ],
            [
             0.9,
             "#4d9221"
            ],
            [
             1,
             "#276419"
            ]
           ],
           "sequential": [
            [
             0,
             "#0d0887"
            ],
            [
             0.1111111111111111,
             "#46039f"
            ],
            [
             0.2222222222222222,
             "#7201a8"
            ],
            [
             0.3333333333333333,
             "#9c179e"
            ],
            [
             0.4444444444444444,
             "#bd3786"
            ],
            [
             0.5555555555555556,
             "#d8576b"
            ],
            [
             0.6666666666666666,
             "#ed7953"
            ],
            [
             0.7777777777777778,
             "#fb9f3a"
            ],
            [
             0.8888888888888888,
             "#fdca26"
            ],
            [
             1,
             "#f0f921"
            ]
           ],
           "sequentialminus": [
            [
             0,
             "#0d0887"
            ],
            [
             0.1111111111111111,
             "#46039f"
            ],
            [
             0.2222222222222222,
             "#7201a8"
            ],
            [
             0.3333333333333333,
             "#9c179e"
            ],
            [
             0.4444444444444444,
             "#bd3786"
            ],
            [
             0.5555555555555556,
             "#d8576b"
            ],
            [
             0.6666666666666666,
             "#ed7953"
            ],
            [
             0.7777777777777778,
             "#fb9f3a"
            ],
            [
             0.8888888888888888,
             "#fdca26"
            ],
            [
             1,
             "#f0f921"
            ]
           ]
          },
          "colorway": [
           "#636efa",
           "#EF553B",
           "#00cc96",
           "#ab63fa",
           "#FFA15A",
           "#19d3f3",
           "#FF6692",
           "#B6E880",
           "#FF97FF",
           "#FECB52"
          ],
          "font": {
           "color": "#2a3f5f"
          },
          "geo": {
           "bgcolor": "white",
           "lakecolor": "white",
           "landcolor": "#E5ECF6",
           "showlakes": true,
           "showland": true,
           "subunitcolor": "white"
          },
          "hoverlabel": {
           "align": "left"
          },
          "hovermode": "closest",
          "mapbox": {
           "style": "light"
          },
          "paper_bgcolor": "white",
          "plot_bgcolor": "#E5ECF6",
          "polar": {
           "angularaxis": {
            "gridcolor": "white",
            "linecolor": "white",
            "ticks": ""
           },
           "bgcolor": "#E5ECF6",
           "radialaxis": {
            "gridcolor": "white",
            "linecolor": "white",
            "ticks": ""
           }
          },
          "scene": {
           "xaxis": {
            "backgroundcolor": "#E5ECF6",
            "gridcolor": "white",
            "gridwidth": 2,
            "linecolor": "white",
            "showbackground": true,
            "ticks": "",
            "zerolinecolor": "white"
           },
           "yaxis": {
            "backgroundcolor": "#E5ECF6",
            "gridcolor": "white",
            "gridwidth": 2,
            "linecolor": "white",
            "showbackground": true,
            "ticks": "",
            "zerolinecolor": "white"
           },
           "zaxis": {
            "backgroundcolor": "#E5ECF6",
            "gridcolor": "white",
            "gridwidth": 2,
            "linecolor": "white",
            "showbackground": true,
            "ticks": "",
            "zerolinecolor": "white"
           }
          },
          "shapedefaults": {
           "line": {
            "color": "#2a3f5f"
           }
          },
          "ternary": {
           "aaxis": {
            "gridcolor": "white",
            "linecolor": "white",
            "ticks": ""
           },
           "baxis": {
            "gridcolor": "white",
            "linecolor": "white",
            "ticks": ""
           },
           "bgcolor": "#E5ECF6",
           "caxis": {
            "gridcolor": "white",
            "linecolor": "white",
            "ticks": ""
           }
          },
          "title": {
           "x": 0.05
          },
          "xaxis": {
           "automargin": true,
           "gridcolor": "white",
           "linecolor": "white",
           "ticks": "",
           "title": {
            "standoff": 15
           },
           "zerolinecolor": "white",
           "zerolinewidth": 2
          },
          "yaxis": {
           "automargin": true,
           "gridcolor": "white",
           "linecolor": "white",
           "ticks": "",
           "title": {
            "standoff": 15
           },
           "zerolinecolor": "white",
           "zerolinewidth": 2
          }
         }
        },
        "title": {
         "text": "Socioeconomic Factors"
        },
        "xaxis": {
         "autorange": true,
         "range": [
          -0.5,
          4.5
         ],
         "type": "category"
        },
        "yaxis": {
         "autorange": true,
         "range": [
          0,
          4.6115288220551385
         ],
         "title": {
          "text": "Scale (1-5)"
         },
         "type": "linear"
        }
       }
      },
      "image/png": "[encoded data removed]",
      "text/html": [
       "<div>                            <div id=\"adea7ba1-2cec-4c9d-acd0-853abc9a29fa\" class=\"plotly-graph-div\" style=\"height:525px; width:100%;\"></div>            <script type=\"text/javascript\">                require([\"plotly\"], function(Plotly) {                    window.PLOTLYENV=window.PLOTLYENV || {};                                    if (document.getElementById(\"adea7ba1-2cec-4c9d-acd0-853abc9a29fa\")) {                    Plotly.newPlot(                        \"adea7ba1-2cec-4c9d-acd0-853abc9a29fa\",                        [{\"name\":\"residential_instability\",\"offsetgroup\":\"0\",\"type\":\"bar\",\"x\":[\"Fraser Health\",\"Interior Health\",\"Island Health\",\"Northern Health\",\"Vancouver Coastal Health\"],\"y\":[2.951219512195122,2.7142857142857144,2.9523809523809526,2.413793103448276,3.761904761904762]},{\"name\":\"situational_vulnerability\",\"offsetgroup\":\"1\",\"type\":\"bar\",\"x\":[\"Fraser Health\",\"Interior Health\",\"Island Health\",\"Northern Health\",\"Vancouver Coastal Health\"],\"y\":[2.4390243902439024,3.25,2.4047619047619047,4.275862068965517,2.4047619047619047]},{\"name\":\"ethnocultural_composition\",\"offsetgroup\":\"2\",\"type\":\"bar\",\"x\":[\"Fraser Health\",\"Interior Health\",\"Island Health\",\"Northern Health\",\"Vancouver Coastal Health\"],\"y\":[4.219512195121951,2.0714285714285716,2.4523809523809526,2.0,4.380952380952381]},{\"name\":\"economic_dependency\",\"offsetgroup\":\"3\",\"type\":\"bar\",\"x\":[\"Fraser Health\",\"Interior Health\",\"Island Health\",\"Northern Health\",\"Vancouver Coastal Health\"],\"y\":[2.317073170731707,3.8214285714285716,3.7142857142857144,2.3793103448275863,2.5714285714285716]}],                        {\"template\":{\"data\":{\"bar\":[{\"error_x\":{\"color\":\"#2a3f5f\"},\"error_y\":{\"color\":\"#2a3f5f\"},\"marker\":{\"line\":{\"color\":\"#E5ECF6\",\"width\":0.5},\"pattern\":{\"fillmode\":\"overlay\",\"size\":10,\"solidity\":0.2}},\"type\":\"bar\"}],\"barpolar\":[{\"marker\":{\"line\":{\"color\":\"#E5ECF6\",\"width\":0.5},\"pattern\":{\"fillmode\":\"overlay\",\"size\":10,\"solidity\":0.2}},\"type\":\"barpolar\"}],\"carpet\":[{\"aaxis\":{\"endlinecolor\":\"#2a3f5f\",\"gridcolor\":\"white\",\"linecolor\":\"white\",\"minorgridcolor\":\"white\",\"startlinecolor\":\"#2a3f5f\"},\"baxis\":{\"endlinecolor\":\"#2a3f5f\",\"gridcolor\":\"white\",\"linecolor\":\"white\",\"minorgridcolor\":\"white\",\"startlinecolor\":\"#2a3f5f\"},\"type\":\"carpet\"}],\"choropleth\":[{\"colorbar\":{\"outlinewidth\":0,\"ticks\":\"\"},\"type\":\"choropleth\"}],\"contour\":[{\"colorbar\":{\"outlinewidth\":0,\"ticks\":\"\"},\"colorscale\":[[0.0,\"#0d0887\"],[0.1111111111111111,\"#46039f\"],[0.2222222222222222,\"#7201a8\"],[0.3333333333333333,\"#9c179e\"],[0.4444444444444444,\"#bd3786\"],[0.5555555555555556,\"#d8576b\"],[0.6666666666666666,\"#ed7953\"],[0.7777777777777778,\"#fb9f3a\"],[0.8888888888888888,\"#fdca26\"],[1.0,\"#f0f921\"]],\"type\":\"contour\"}],\"contourcarpet\":[{\"colorbar\":{\"outlinewidth\":0,\"ticks\":\"\"},\"type\":\"contourcarpet\"}],\"heatmap\":[{\"colorbar\":{\"outlinewidth\":0,\"ticks\":\"\"},\"colorscale\":[[0.0,\"#0d0887\"],[0.1111111111111111,\"#46039f\"],[0.2222222222222222,\"#7201a8\"],[0.3333333333333333,\"#9c179e\"],[0.4444444444444444,\"#bd3786\"],[0.5555555555555556,\"#d8576b\"],[0.6666666666666666,\"#ed7953\"],[0.7777777777777778,\"#fb9f3a\"],[0.8888888888888888,\"#fdca26\"],[1.0,\"#f0f921\"]],\"type\":\"heatmap\"}],\"heatmapgl\":[{\"colorbar\":{\"outlinewidth\":0,\"ticks\":\"\"},\"colorscale\":[[0.0,\"#0d0887\"],[0.1111111111111111,\"#46039f\"],[0.2222222222222222,\"#7201a8\"],[0.3333333333333333,\"#9c179e\"],[0.4444444444444444,\"#bd3786\"],[0.5555555555555556,\"#d8576b\"],[0.6666666666666666,\"#ed7953\"],[0.7777777777777778,\"#fb9f3a\"],[0.8888888888888888,\"#fdca26\"],[1.0,\"#f0f921\"]],\"type\":\"heatmapgl\"}],\"histogram\":[{\"marker\":{\"pattern\":{\"fillmode\":\"overlay\",\"size\":10,\"solidity\":0.2}},\"type\":\"histogram\"}],\"histogram2d\":[{\"colorbar\":{\"outlinewidth\":0,\"ticks\":\"\"},\"colorscale\":[[0.0,\"#0d0887\"],[0.1111111111111111,\"#46039f\"],[0.2222222222222222,\"#7201a8\"],[0.3333333333333333,\"#9c179e\"],[0.4444444444444444,\"#bd3786\"],[0.5555555555555556,\"#d8576b\"],[0.6666666666666666,\"#ed7953\"],[0.7777777777777778,\"#fb9f3a\"],[0.8888888888888888,\"#fdca26\"],[1.0,\"#f0f921\"]],\"type\":\"histogram2d\"}],\"histogram2dcontour\":[{\"colorbar\":{\"outlinewidth\":0,\"ticks\":\"\"},\"colorscale\":[[0.0,\"#0d0887\"],[0.1111111111111111,\"#46039f\"],[0.2222222222222222,\"#7201a8\"],[0.3333333333333333,\"#9c179e\"],[0.4444444444444444,\"#bd3786\"],[0.5555555555555556,\"#d8576b\"],[0.6666666666666666,\"#ed7953\"],[0.7777777777777778,\"#fb9f3a\"],[0.8888888888888888,\"#fdca26\"],[1.0,\"#f0f921\"]],\"type\":\"histogram2dcontour\"}],\"mesh3d\":[{\"colorbar\":{\"outlinewidth\":0,\"ticks\":\"\"},\"type\":\"mesh3d\"}],\"parcoords\":[{\"line\":{\"colorbar\":{\"outlinewidth\":0,\"ticks\":\"\"}},\"type\":\"parcoords\"}],\"pie\":[{\"automargin\":true,\"type\":\"pie\"}],\"scatter\":[{\"marker\":{\"colorbar\":{\"outlinewidth\":0,\"ticks\":\"\"}},\"type\":\"scatter\"}],\"scatter3d\":[{\"line\":{\"colorbar\":{\"outlinewidth\":0,\"ticks\":\"\"}},\"marker\":{\"colorbar\":{\"outlinewidth\":0,\"ticks\":\"\"}},\"type\":\"scatter3d\"}],\"scattercarpet\":[{\"marker\":{\"colorbar\":{\"outlinewidth\":0,\"ticks\":\"\"}},\"type\":\"scattercarpet\"}],\"scattergeo\":[{\"marker\":{\"colorbar\":{\"outlinewidth\":0,\"ticks\":\"\"}},\"type\":\"scattergeo\"}],\"scattergl\":[{\"marker\":{\"colorbar\":{\"outlinewidth\":0,\"ticks\":\"\"}},\"type\":\"scattergl\"}],\"scattermapbox\":[{\"marker\":{\"colorbar\":{\"outlinewidth\":0,\"ticks\":\"\"}},\"type\":\"scattermapbox\"}],\"scatterpolar\":[{\"marker\":{\"colorbar\":{\"outlinewidth\":0,\"ticks\":\"\"}},\"type\":\"scatterpolar\"}],\"scatterpolargl\":[{\"marker\":{\"colorbar\":{\"outlinewidth\":0,\"ticks\":\"\"}},\"type\":\"scatterpolargl\"}],\"scatterternary\":[{\"marker\":{\"colorbar\":{\"outlinewidth\":0,\"ticks\":\"\"}},\"type\":\"scatterternary\"}],\"surface\":[{\"colorbar\":{\"outlinewidth\":0,\"ticks\":\"\"},\"colorscale\":[[0.0,\"#0d0887\"],[0.1111111111111111,\"#46039f\"],[0.2222222222222222,\"#7201a8\"],[0.3333333333333333,\"#9c179e\"],[0.4444444444444444,\"#bd3786\"],[0.5555555555555556,\"#d8576b\"],[0.6666666666666666,\"#ed7953\"],[0.7777777777777778,\"#fb9f3a\"],[0.8888888888888888,\"#fdca26\"],[1.0,\"#f0f921\"]],\"type\":\"surface\"}],\"table\":[{\"cells\":{\"fill\":{\"color\":\"#EBF0F8\"},\"line\":{\"color\":\"white\"}},\"header\":{\"fill\":{\"color\":\"#C8D4E3\"},\"line\":{\"color\":\"white\"}},\"type\":\"table\"}]},\"layout\":{\"annotationdefaults\":{\"arrowcolor\":\"#2a3f5f\",\"arrowhead\":0,\"arrowwidth\":1},\"autotypenumbers\":\"strict\",\"coloraxis\":{\"colorbar\":{\"outlinewidth\":0,\"ticks\":\"\"}},\"colorscale\":{\"diverging\":[[0,\"#8e0152\"],[0.1,\"#c51b7d\"],[0.2,\"#de77ae\"],[0.3,\"#f1b6da\"],[0.4,\"#fde0ef\"],[0.5,\"#f7f7f7\"],[0.6,\"#e6f5d0\"],[0.7,\"#b8e186\"],[0.8,\"#7fbc41\"],[0.9,\"#4d9221\"],[1,\"#276419\"]],\"sequential\":[[0.0,\"#0d0887\"],[0.1111111111111111,\"#46039f\"],[0.2222222222222222,\"#7201a8\"],[0.3333333333333333,\"#9c179e\"],[0.4444444444444444,\"#bd3786\"],[0.5555555555555556,\"#d8576b\"],[0.6666666666666666,\"#ed7953\"],[0.7777777777777778,\"#fb9f3a\"],[0.8888888888888888,\"#fdca26\"],[1.0,\"#f0f921\"]],\"sequentialminus\":[[0.0,\"#0d0887\"],[0.1111111111111111,\"#46039f\"],[0.2222222222222222,\"#7201a8\"],[0.3333333333333333,\"#9c179e\"],[0.4444444444444444,\"#bd3786\"],[0.5555555555555556,\"#d8576b\"],[0.6666666666666666,\"#ed7953\"],[0.7777777777777778,\"#fb9f3a\"],[0.8888888888888888,\"#fdca26\"],[1.0,\"#f0f921\"]]},\"colorway\":[\"#636efa\",\"#EF553B\",\"#00cc96\",\"#ab63fa\",\"#FFA15A\",\"#19d3f3\",\"#FF6692\",\"#B6E880\",\"#FF97FF\",\"#FECB52\"],\"font\":{\"color\":\"#2a3f5f\"},\"geo\":{\"bgcolor\":\"white\",\"lakecolor\":\"white\",\"landcolor\":\"#E5ECF6\",\"showlakes\":true,\"showland\":true,\"subunitcolor\":\"white\"},\"hoverlabel\":{\"align\":\"left\"},\"hovermode\":\"closest\",\"mapbox\":{\"style\":\"light\"},\"paper_bgcolor\":\"white\",\"plot_bgcolor\":\"#E5ECF6\",\"polar\":{\"angularaxis\":{\"gridcolor\":\"white\",\"linecolor\":\"white\",\"ticks\":\"\"},\"bgcolor\":\"#E5ECF6\",\"radialaxis\":{\"gridcolor\":\"white\",\"linecolor\":\"white\",\"ticks\":\"\"}},\"scene\":{\"xaxis\":{\"backgroundcolor\":\"#E5ECF6\",\"gridcolor\":\"white\",\"gridwidth\":2,\"linecolor\":\"white\",\"showbackground\":true,\"ticks\":\"\",\"zerolinecolor\":\"white\"},\"yaxis\":{\"backgroundcolor\":\"#E5ECF6\",\"gridcolor\":\"white\",\"gridwidth\":2,\"linecolor\":\"white\",\"showbackground\":true,\"ticks\":\"\",\"zerolinecolor\":\"white\"},\"zaxis\":{\"backgroundcolor\":\"#E5ECF6\",\"gridcolor\":\"white\",\"gridwidth\":2,\"linecolor\":\"white\",\"showbackground\":true,\"ticks\":\"\",\"zerolinecolor\":\"white\"}},\"shapedefaults\":{\"line\":{\"color\":\"#2a3f5f\"}},\"ternary\":{\"aaxis\":{\"gridcolor\":\"white\",\"linecolor\":\"white\",\"ticks\":\"\"},\"baxis\":{\"gridcolor\":\"white\",\"linecolor\":\"white\",\"ticks\":\"\"},\"bgcolor\":\"#E5ECF6\",\"caxis\":{\"gridcolor\":\"white\",\"linecolor\":\"white\",\"ticks\":\"\"}},\"title\":{\"x\":0.05},\"xaxis\":{\"automargin\":true,\"gridcolor\":\"white\",\"linecolor\":\"white\",\"ticks\":\"\",\"title\":{\"standoff\":15},\"zerolinecolor\":\"white\",\"zerolinewidth\":2},\"yaxis\":{\"automargin\":true,\"gridcolor\":\"white\",\"linecolor\":\"white\",\"ticks\":\"\",\"title\":{\"standoff\":15},\"zerolinecolor\":\"white\",\"zerolinewidth\":2}}},\"title\":{\"text\":\"Socioeconomic Factors\"},\"yaxis\":{\"title\":{\"text\":\"Scale (1-5)\"}}},                        {\"responsive\": true}                    ).then(function(){\n",
       "                            \n",
       "var gd = document.getElementById('adea7ba1-2cec-4c9d-acd0-853abc9a29fa');\n",
       "var x = new MutationObserver(function (mutations, observer) {{\n",
       "        var display = window.getComputedStyle(gd).display;\n",
       "        if (!display || display === 'none') {{\n",
       "            console.log([gd, 'removed!']);\n",
       "            Plotly.purge(gd);\n",
       "            observer.disconnect();\n",
       "        }}\n",
       "}});\n",
       "\n",
       "// Listen for the removal of the full notebook cells\n",
       "var notebookContainer = gd.closest('#notebook-container');\n",
       "if (notebookContainer) {{\n",
       "    x.observe(notebookContainer, {childList: true});\n",
       "}}\n",
       "\n",
       "// Listen for the clearing of the current output cell\n",
       "var outputEl = gd.closest('.output');\n",
       "if (outputEl) {{\n",
       "    x.observe(outputEl, {childList: true});\n",
       "}}\n",
       "\n",
       "                        })                };                });            </script>        </div>"
      ]
     },
     "metadata": {},
     "output_type": "display_data"
    }
   ],
   "source": [
    "from plotly import graph_objects as go\n",
    "fig2 = go.Figure(\n",
    "    data=[\n",
    "        go.Bar(\n",
    "            name='residential_instability',\n",
    "            x= merged2['hsa'],\n",
    "            y= merged2['residential_instability'],\n",
    "            offsetgroup=0,\n",
    "        ),\n",
    "        go.Bar(\n",
    "            name='situational_vulnerability',\n",
    "            x=merged2['hsa'],\n",
    "            y= merged2['situational_vulnerability'],\n",
    "            offsetgroup=1,\n",
    "        ),\n",
    "        go.Bar(\n",
    "            name='ethnocultural_composition',\n",
    "            x=merged2['hsa'],\n",
    "            y= merged2['ethnocultural_composition'],\n",
    "            offsetgroup=2,\n",
    "        ),\n",
    "        go.Bar(\n",
    "            name='economic_dependency',\n",
    "            x=merged2['hsa'],\n",
    "            y= merged2['economic_dependency'],\n",
    "            offsetgroup=3,\n",
    "        ),\n",
    "    ],\n",
    "    layout=go.Layout(\n",
    "        title='Socioeconomic Factors',\n",
    "        yaxis_title=\"Scale (1-5)\"\n",
    "    )\n",
    ")\n",
    "fig2.show()"
   ]
  },
  {
   "cell_type": "code",
   "execution_count": 97,
   "metadata": {},
   "outputs": [
    {
     "data": {
      "application/vnd.plotly.v1+json": {
       "config": {
        "plotlyServerURL": "https://plot.ly"
       },
       "data": [
        {
         "name": "residential_instability",
         "offsetgroup": "0",
         "type": "bar",
         "x": [
          "Fraser Health",
          "Interior Health",
          "Island Health",
          "Northern Health",
          "Vancouver Coastal Health"
         ],
         "xaxis": "x",
         "y": [
          2.951219512195122,
          2.7142857142857144,
          2.9523809523809526,
          2.413793103448276,
          3.761904761904762
         ],
         "yaxis": "y"
        },
        {
         "name": "situational_vulnerability",
         "offsetgroup": "1",
         "type": "bar",
         "x": [
          "Fraser Health",
          "Interior Health",
          "Island Health",
          "Northern Health",
          "Vancouver Coastal Health"
         ],
         "xaxis": "x2",
         "y": [
          2.4390243902439024,
          3.25,
          2.4047619047619047,
          4.275862068965517,
          2.4047619047619047
         ],
         "yaxis": "y2"
        },
        {
         "name": "ethnocultural_composition",
         "offsetgroup": "2",
         "type": "bar",
         "x": [
          "Fraser Health",
          "Interior Health",
          "Island Health",
          "Northern Health",
          "Vancouver Coastal Health"
         ],
         "xaxis": "x3",
         "y": [
          4.219512195121951,
          2.0714285714285716,
          2.4523809523809526,
          2,
          4.380952380952381
         ],
         "yaxis": "y3"
        },
        {
         "name": "economic_dependency",
         "offsetgroup": "3",
         "type": "bar",
         "x": [
          "Fraser Health",
          "Interior Health",
          "Island Health",
          "Northern Health",
          "Vancouver Coastal Health"
         ],
         "xaxis": "x4",
         "y": [
          2.317073170731707,
          3.8214285714285716,
          3.7142857142857144,
          2.3793103448275863,
          2.5714285714285716
         ],
         "yaxis": "y4"
        }
       ],
       "layout": {
        "autosize": true,
        "template": {
         "data": {
          "bar": [
           {
            "error_x": {
             "color": "#2a3f5f"
            },
            "error_y": {
             "color": "#2a3f5f"
            },
            "marker": {
             "line": {
              "color": "#E5ECF6",
              "width": 0.5
             },
             "pattern": {
              "fillmode": "overlay",
              "size": 10,
              "solidity": 0.2
             }
            },
            "type": "bar"
           }
          ],
          "barpolar": [
           {
            "marker": {
             "line": {
              "color": "#E5ECF6",
              "width": 0.5
             },
             "pattern": {
              "fillmode": "overlay",
              "size": 10,
              "solidity": 0.2
             }
            },
            "type": "barpolar"
           }
          ],
          "carpet": [
           {
            "aaxis": {
             "endlinecolor": "#2a3f5f",
             "gridcolor": "white",
             "linecolor": "white",
             "minorgridcolor": "white",
             "startlinecolor": "#2a3f5f"
            },
            "baxis": {
             "endlinecolor": "#2a3f5f",
             "gridcolor": "white",
             "linecolor": "white",
             "minorgridcolor": "white",
             "startlinecolor": "#2a3f5f"
            },
            "type": "carpet"
           }
          ],
          "choropleth": [
           {
            "colorbar": {
             "outlinewidth": 0,
             "ticks": ""
            },
            "type": "choropleth"
           }
          ],
          "contour": [
           {
            "colorbar": {
             "outlinewidth": 0,
             "ticks": ""
            },
            "colorscale": [
             [
              0,
              "#0d0887"
             ],
             [
              0.1111111111111111,
              "#46039f"
             ],
             [
              0.2222222222222222,
              "#7201a8"
             ],
             [
              0.3333333333333333,
              "#9c179e"
             ],
             [
              0.4444444444444444,
              "#bd3786"
             ],
             [
              0.5555555555555556,
              "#d8576b"
             ],
             [
              0.6666666666666666,
              "#ed7953"
             ],
             [
              0.7777777777777778,
              "#fb9f3a"
             ],
             [
              0.8888888888888888,
              "#fdca26"
             ],
             [
              1,
              "#f0f921"
             ]
            ],
            "type": "contour"
           }
          ],
          "contourcarpet": [
           {
            "colorbar": {
             "outlinewidth": 0,
             "ticks": ""
            },
            "type": "contourcarpet"
           }
          ],
          "heatmap": [
           {
            "colorbar": {
             "outlinewidth": 0,
             "ticks": ""
            },
            "colorscale": [
             [
              0,
              "#0d0887"
             ],
             [
              0.1111111111111111,
              "#46039f"
             ],
             [
              0.2222222222222222,
              "#7201a8"
             ],
             [
              0.3333333333333333,
              "#9c179e"
             ],
             [
              0.4444444444444444,
              "#bd3786"
             ],
             [
              0.5555555555555556,
              "#d8576b"
             ],
             [
              0.6666666666666666,
              "#ed7953"
             ],
             [
              0.7777777777777778,
              "#fb9f3a"
             ],
             [
              0.8888888888888888,
              "#fdca26"
             ],
             [
              1,
              "#f0f921"
             ]
            ],
            "type": "heatmap"
           }
          ],
          "heatmapgl": [
           {
            "colorbar": {
             "outlinewidth": 0,
             "ticks": ""
            },
            "colorscale": [
             [
              0,
              "#0d0887"
             ],
             [
              0.1111111111111111,
              "#46039f"
             ],
             [
              0.2222222222222222,
              "#7201a8"
             ],
             [
              0.3333333333333333,
              "#9c179e"
             ],
             [
              0.4444444444444444,
              "#bd3786"
             ],
             [
              0.5555555555555556,
              "#d8576b"
             ],
             [
              0.6666666666666666,
              "#ed7953"
             ],
             [
              0.7777777777777778,
              "#fb9f3a"
             ],
             [
              0.8888888888888888,
              "#fdca26"
             ],
             [
              1,
              "#f0f921"
             ]
            ],
            "type": "heatmapgl"
           }
          ],
          "histogram": [
           {
            "marker": {
             "pattern": {
              "fillmode": "overlay",
              "size": 10,
              "solidity": 0.2
             }
            },
            "type": "histogram"
           }
          ],
          "histogram2d": [
           {
            "colorbar": {
             "outlinewidth": 0,
             "ticks": ""
            },
            "colorscale": [
             [
              0,
              "#0d0887"
             ],
             [
              0.1111111111111111,
              "#46039f"
             ],
             [
              0.2222222222222222,
              "#7201a8"
             ],
             [
              0.3333333333333333,
              "#9c179e"
             ],
             [
              0.4444444444444444,
              "#bd3786"
             ],
             [
              0.5555555555555556,
              "#d8576b"
             ],
             [
              0.6666666666666666,
              "#ed7953"
             ],
             [
              0.7777777777777778,
              "#fb9f3a"
             ],
             [
              0.8888888888888888,
              "#fdca26"
             ],
             [
              1,
              "#f0f921"
             ]
            ],
            "type": "histogram2d"
           }
          ],
          "histogram2dcontour": [
           {
            "colorbar": {
             "outlinewidth": 0,
             "ticks": ""
            },
            "colorscale": [
             [
              0,
              "#0d0887"
             ],
             [
              0.1111111111111111,
              "#46039f"
             ],
             [
              0.2222222222222222,
              "#7201a8"
             ],
             [
              0.3333333333333333,
              "#9c179e"
             ],
             [
              0.4444444444444444,
              "#bd3786"
             ],
             [
              0.5555555555555556,
              "#d8576b"
             ],
             [
              0.6666666666666666,
              "#ed7953"
             ],
             [
              0.7777777777777778,
              "#fb9f3a"
             ],
             [
              0.8888888888888888,
              "#fdca26"
             ],
             [
              1,
              "#f0f921"
             ]
            ],
            "type": "histogram2dcontour"
           }
          ],
          "mesh3d": [
           {
            "colorbar": {
             "outlinewidth": 0,
             "ticks": ""
            },
            "type": "mesh3d"
           }
          ],
          "parcoords": [
           {
            "line": {
             "colorbar": {
              "outlinewidth": 0,
              "ticks": ""
             }
            },
            "type": "parcoords"
           }
          ],
          "pie": [
           {
            "automargin": true,
            "type": "pie"
           }
          ],
          "scatter": [
           {
            "marker": {
             "colorbar": {
              "outlinewidth": 0,
              "ticks": ""
             }
            },
            "type": "scatter"
           }
          ],
          "scatter3d": [
           {
            "line": {
             "colorbar": {
              "outlinewidth": 0,
              "ticks": ""
             }
            },
            "marker": {
             "colorbar": {
              "outlinewidth": 0,
              "ticks": ""
             }
            },
            "type": "scatter3d"
           }
          ],
          "scattercarpet": [
           {
            "marker": {
             "colorbar": {
              "outlinewidth": 0,
              "ticks": ""
             }
            },
            "type": "scattercarpet"
           }
          ],
          "scattergeo": [
           {
            "marker": {
             "colorbar": {
              "outlinewidth": 0,
              "ticks": ""
             }
            },
            "type": "scattergeo"
           }
          ],
          "scattergl": [
           {
            "marker": {
             "colorbar": {
              "outlinewidth": 0,
              "ticks": ""
             }
            },
            "type": "scattergl"
           }
          ],
          "scattermapbox": [
           {
            "marker": {
             "colorbar": {
              "outlinewidth": 0,
              "ticks": ""
             }
            },
            "type": "scattermapbox"
           }
          ],
          "scatterpolar": [
           {
            "marker": {
             "colorbar": {
              "outlinewidth": 0,
              "ticks": ""
             }
            },
            "type": "scatterpolar"
           }
          ],
          "scatterpolargl": [
           {
            "marker": {
             "colorbar": {
              "outlinewidth": 0,
              "ticks": ""
             }
            },
            "type": "scatterpolargl"
           }
          ],
          "scatterternary": [
           {
            "marker": {
             "colorbar": {
              "outlinewidth": 0,
              "ticks": ""
             }
            },
            "type": "scatterternary"
           }
          ],
          "surface": [
           {
            "colorbar": {
             "outlinewidth": 0,
             "ticks": ""
            },
            "colorscale": [
             [
              0,
              "#0d0887"
             ],
             [
              0.1111111111111111,
              "#46039f"
             ],
             [
              0.2222222222222222,
              "#7201a8"
             ],
             [
              0.3333333333333333,
              "#9c179e"
             ],
             [
              0.4444444444444444,
              "#bd3786"
             ],
             [
              0.5555555555555556,
              "#d8576b"
             ],
             [
              0.6666666666666666,
              "#ed7953"
             ],
             [
              0.7777777777777778,
              "#fb9f3a"
             ],
             [
              0.8888888888888888,
              "#fdca26"
             ],
             [
              1,
              "#f0f921"
             ]
            ],
            "type": "surface"
           }
          ],
          "table": [
           {
            "cells": {
             "fill": {
              "color": "#EBF0F8"
             },
             "line": {
              "color": "white"
             }
            },
            "header": {
             "fill": {
              "color": "#C8D4E3"
             },
             "line": {
              "color": "white"
             }
            },
            "type": "table"
           }
          ]
         },
         "layout": {
          "annotationdefaults": {
           "arrowcolor": "#2a3f5f",
           "arrowhead": 0,
           "arrowwidth": 1
          },
          "autotypenumbers": "strict",
          "coloraxis": {
           "colorbar": {
            "outlinewidth": 0,
            "ticks": ""
           }
          },
          "colorscale": {
           "diverging": [
            [
             0,
             "#8e0152"
            ],
            [
             0.1,
             "#c51b7d"
            ],
            [
             0.2,
             "#de77ae"
            ],
            [
             0.3,
             "#f1b6da"
            ],
            [
             0.4,
             "#fde0ef"
            ],
            [
             0.5,
             "#f7f7f7"
            ],
            [
             0.6,
             "#e6f5d0"
            ],
            [
             0.7,
             "#b8e186"
            ],
            [
             0.8,
             "#7fbc41"
            ],
            [
             0.9,
             "#4d9221"
            ],
            [
             1,
             "#276419"
            ]
           ],
           "sequential": [
            [
             0,
             "#0d0887"
            ],
            [
             0.1111111111111111,
             "#46039f"
            ],
            [
             0.2222222222222222,
             "#7201a8"
            ],
            [
             0.3333333333333333,
             "#9c179e"
            ],
            [
             0.4444444444444444,
             "#bd3786"
            ],
            [
             0.5555555555555556,
             "#d8576b"
            ],
            [
             0.6666666666666666,
             "#ed7953"
            ],
            [
             0.7777777777777778,
             "#fb9f3a"
            ],
            [
             0.8888888888888888,
             "#fdca26"
            ],
            [
             1,
             "#f0f921"
            ]
           ],
           "sequentialminus": [
            [
             0,
             "#0d0887"
            ],
            [
             0.1111111111111111,
             "#46039f"
            ],
            [
             0.2222222222222222,
             "#7201a8"
            ],
            [
             0.3333333333333333,
             "#9c179e"
            ],
            [
             0.4444444444444444,
             "#bd3786"
            ],
            [
             0.5555555555555556,
             "#d8576b"
            ],
            [
             0.6666666666666666,
             "#ed7953"
            ],
            [
             0.7777777777777778,
             "#fb9f3a"
            ],
            [
             0.8888888888888888,
             "#fdca26"
            ],
            [
             1,
             "#f0f921"
            ]
           ]
          },
          "colorway": [
           "#636efa",
           "#EF553B",
           "#00cc96",
           "#ab63fa",
           "#FFA15A",
           "#19d3f3",
           "#FF6692",
           "#B6E880",
           "#FF97FF",
           "#FECB52"
          ],
          "font": {
           "color": "#2a3f5f"
          },
          "geo": {
           "bgcolor": "white",
           "lakecolor": "white",
           "landcolor": "#E5ECF6",
           "showlakes": true,
           "showland": true,
           "subunitcolor": "white"
          },
          "hoverlabel": {
           "align": "left"
          },
          "hovermode": "closest",
          "mapbox": {
           "style": "light"
          },
          "paper_bgcolor": "white",
          "plot_bgcolor": "#E5ECF6",
          "polar": {
           "angularaxis": {
            "gridcolor": "white",
            "linecolor": "white",
            "ticks": ""
           },
           "bgcolor": "#E5ECF6",
           "radialaxis": {
            "gridcolor": "white",
            "linecolor": "white",
            "ticks": ""
           }
          },
          "scene": {
           "xaxis": {
            "backgroundcolor": "#E5ECF6",
            "gridcolor": "white",
            "gridwidth": 2,
            "linecolor": "white",
            "showbackground": true,
            "ticks": "",
            "zerolinecolor": "white"
           },
           "yaxis": {
            "backgroundcolor": "#E5ECF6",
            "gridcolor": "white",
            "gridwidth": 2,
            "linecolor": "white",
            "showbackground": true,
            "ticks": "",
            "zerolinecolor": "white"
           },
           "zaxis": {
            "backgroundcolor": "#E5ECF6",
            "gridcolor": "white",
            "gridwidth": 2,
            "linecolor": "white",
            "showbackground": true,
            "ticks": "",
            "zerolinecolor": "white"
           }
          },
          "shapedefaults": {
           "line": {
            "color": "#2a3f5f"
           }
          },
          "ternary": {
           "aaxis": {
            "gridcolor": "white",
            "linecolor": "white",
            "ticks": ""
           },
           "baxis": {
            "gridcolor": "white",
            "linecolor": "white",
            "ticks": ""
           },
           "bgcolor": "#E5ECF6",
           "caxis": {
            "gridcolor": "white",
            "linecolor": "white",
            "ticks": ""
           }
          },
          "title": {
           "x": 0.05
          },
          "xaxis": {
           "automargin": true,
           "gridcolor": "white",
           "linecolor": "white",
           "ticks": "",
           "title": {
            "standoff": 15
           },
           "zerolinecolor": "white",
           "zerolinewidth": 2
          },
          "yaxis": {
           "automargin": true,
           "gridcolor": "white",
           "linecolor": "white",
           "ticks": "",
           "title": {
            "standoff": 15
           },
           "zerolinecolor": "white",
           "zerolinewidth": 2
          }
         }
        },
        "xaxis": {
         "anchor": "y",
         "autorange": true,
         "domain": [
          0,
          0.2125
         ],
         "range": [
          -0.5,
          4.5
         ],
         "type": "category"
        },
        "xaxis2": {
         "anchor": "y2",
         "autorange": true,
         "domain": [
          0.2625,
          0.475
         ],
         "range": [
          -0.5,
          4.5
         ],
         "type": "category"
        },
        "xaxis3": {
         "anchor": "y3",
         "autorange": true,
         "domain": [
          0.525,
          0.7375
         ],
         "range": [
          -0.5,
          4.5
         ],
         "type": "category"
        },
        "xaxis4": {
         "anchor": "y4",
         "autorange": true,
         "domain": [
          0.7875,
          1
         ],
         "range": [
          -0.5,
          4.5
         ],
         "type": "category"
        },
        "yaxis": {
         "anchor": "x",
         "autorange": false,
         "domain": [
          0,
          1
         ],
         "range": [
          0,
          5
         ],
         "type": "linear"
        },
        "yaxis2": {
         "anchor": "x2",
         "autorange": false,
         "domain": [
          0,
          1
         ],
         "range": [
          0,
          5
         ],
         "type": "linear"
        },
        "yaxis3": {
         "anchor": "x3",
         "autorange": false,
         "domain": [
          0,
          1
         ],
         "range": [
          0,
          5
         ],
         "type": "linear"
        },
        "yaxis4": {
         "anchor": "x4",
         "autorange": false,
         "domain": [
          0,
          1
         ],
         "range": [
          0,
          5
         ],
         "type": "linear"
        }
       }
      },
      "image/png": "[encoded data removed]",
      "text/html": [
       "<div>                            <div id=\"13815602-691a-42da-9e0b-cdbbdf20bd58\" class=\"plotly-graph-div\" style=\"height:525px; width:100%;\"></div>            <script type=\"text/javascript\">                require([\"plotly\"], function(Plotly) {                    window.PLOTLYENV=window.PLOTLYENV || {};                                    if (document.getElementById(\"13815602-691a-42da-9e0b-cdbbdf20bd58\")) {                    Plotly.newPlot(                        \"13815602-691a-42da-9e0b-cdbbdf20bd58\",                        [{\"name\":\"residential_instability\",\"offsetgroup\":\"0\",\"type\":\"bar\",\"x\":[\"Fraser Health\",\"Interior Health\",\"Island Health\",\"Northern Health\",\"Vancouver Coastal Health\"],\"xaxis\":\"x\",\"y\":[2.951219512195122,2.7142857142857144,2.9523809523809526,2.413793103448276,3.761904761904762],\"yaxis\":\"y\"},{\"name\":\"situational_vulnerability\",\"offsetgroup\":\"1\",\"type\":\"bar\",\"x\":[\"Fraser Health\",\"Interior Health\",\"Island Health\",\"Northern Health\",\"Vancouver Coastal Health\"],\"xaxis\":\"x2\",\"y\":[2.4390243902439024,3.25,2.4047619047619047,4.275862068965517,2.4047619047619047],\"yaxis\":\"y2\"},{\"name\":\"ethnocultural_composition\",\"offsetgroup\":\"2\",\"type\":\"bar\",\"x\":[\"Fraser Health\",\"Interior Health\",\"Island Health\",\"Northern Health\",\"Vancouver Coastal Health\"],\"xaxis\":\"x3\",\"y\":[4.219512195121951,2.0714285714285716,2.4523809523809526,2.0,4.380952380952381],\"yaxis\":\"y3\"},{\"name\":\"economic_dependency\",\"offsetgroup\":\"3\",\"type\":\"bar\",\"x\":[\"Fraser Health\",\"Interior Health\",\"Island Health\",\"Northern Health\",\"Vancouver Coastal Health\"],\"xaxis\":\"x4\",\"y\":[2.317073170731707,3.8214285714285716,3.7142857142857144,2.3793103448275863,2.5714285714285716],\"yaxis\":\"y4\"}],                        {\"template\":{\"data\":{\"bar\":[{\"error_x\":{\"color\":\"#2a3f5f\"},\"error_y\":{\"color\":\"#2a3f5f\"},\"marker\":{\"line\":{\"color\":\"#E5ECF6\",\"width\":0.5},\"pattern\":{\"fillmode\":\"overlay\",\"size\":10,\"solidity\":0.2}},\"type\":\"bar\"}],\"barpolar\":[{\"marker\":{\"line\":{\"color\":\"#E5ECF6\",\"width\":0.5},\"pattern\":{\"fillmode\":\"overlay\",\"size\":10,\"solidity\":0.2}},\"type\":\"barpolar\"}],\"carpet\":[{\"aaxis\":{\"endlinecolor\":\"#2a3f5f\",\"gridcolor\":\"white\",\"linecolor\":\"white\",\"minorgridcolor\":\"white\",\"startlinecolor\":\"#2a3f5f\"},\"baxis\":{\"endlinecolor\":\"#2a3f5f\",\"gridcolor\":\"white\",\"linecolor\":\"white\",\"minorgridcolor\":\"white\",\"startlinecolor\":\"#2a3f5f\"},\"type\":\"carpet\"}],\"choropleth\":[{\"colorbar\":{\"outlinewidth\":0,\"ticks\":\"\"},\"type\":\"choropleth\"}],\"contour\":[{\"colorbar\":{\"outlinewidth\":0,\"ticks\":\"\"},\"colorscale\":[[0.0,\"#0d0887\"],[0.1111111111111111,\"#46039f\"],[0.2222222222222222,\"#7201a8\"],[0.3333333333333333,\"#9c179e\"],[0.4444444444444444,\"#bd3786\"],[0.5555555555555556,\"#d8576b\"],[0.6666666666666666,\"#ed7953\"],[0.7777777777777778,\"#fb9f3a\"],[0.8888888888888888,\"#fdca26\"],[1.0,\"#f0f921\"]],\"type\":\"contour\"}],\"contourcarpet\":[{\"colorbar\":{\"outlinewidth\":0,\"ticks\":\"\"},\"type\":\"contourcarpet\"}],\"heatmap\":[{\"colorbar\":{\"outlinewidth\":0,\"ticks\":\"\"},\"colorscale\":[[0.0,\"#0d0887\"],[0.1111111111111111,\"#46039f\"],[0.2222222222222222,\"#7201a8\"],[0.3333333333333333,\"#9c179e\"],[0.4444444444444444,\"#bd3786\"],[0.5555555555555556,\"#d8576b\"],[0.6666666666666666,\"#ed7953\"],[0.7777777777777778,\"#fb9f3a\"],[0.8888888888888888,\"#fdca26\"],[1.0,\"#f0f921\"]],\"type\":\"heatmap\"}],\"heatmapgl\":[{\"colorbar\":{\"outlinewidth\":0,\"ticks\":\"\"},\"colorscale\":[[0.0,\"#0d0887\"],[0.1111111111111111,\"#46039f\"],[0.2222222222222222,\"#7201a8\"],[0.3333333333333333,\"#9c179e\"],[0.4444444444444444,\"#bd3786\"],[0.5555555555555556,\"#d8576b\"],[0.6666666666666666,\"#ed7953\"],[0.7777777777777778,\"#fb9f3a\"],[0.8888888888888888,\"#fdca26\"],[1.0,\"#f0f921\"]],\"type\":\"heatmapgl\"}],\"histogram\":[{\"marker\":{\"pattern\":{\"fillmode\":\"overlay\",\"size\":10,\"solidity\":0.2}},\"type\":\"histogram\"}],\"histogram2d\":[{\"colorbar\":{\"outlinewidth\":0,\"ticks\":\"\"},\"colorscale\":[[0.0,\"#0d0887\"],[0.1111111111111111,\"#46039f\"],[0.2222222222222222,\"#7201a8\"],[0.3333333333333333,\"#9c179e\"],[0.4444444444444444,\"#bd3786\"],[0.5555555555555556,\"#d8576b\"],[0.6666666666666666,\"#ed7953\"],[0.7777777777777778,\"#fb9f3a\"],[0.8888888888888888,\"#fdca26\"],[1.0,\"#f0f921\"]],\"type\":\"histogram2d\"}],\"histogram2dcontour\":[{\"colorbar\":{\"outlinewidth\":0,\"ticks\":\"\"},\"colorscale\":[[0.0,\"#0d0887\"],[0.1111111111111111,\"#46039f\"],[0.2222222222222222,\"#7201a8\"],[0.3333333333333333,\"#9c179e\"],[0.4444444444444444,\"#bd3786\"],[0.5555555555555556,\"#d8576b\"],[0.6666666666666666,\"#ed7953\"],[0.7777777777777778,\"#fb9f3a\"],[0.8888888888888888,\"#fdca26\"],[1.0,\"#f0f921\"]],\"type\":\"histogram2dcontour\"}],\"mesh3d\":[{\"colorbar\":{\"outlinewidth\":0,\"ticks\":\"\"},\"type\":\"mesh3d\"}],\"parcoords\":[{\"line\":{\"colorbar\":{\"outlinewidth\":0,\"ticks\":\"\"}},\"type\":\"parcoords\"}],\"pie\":[{\"automargin\":true,\"type\":\"pie\"}],\"scatter\":[{\"marker\":{\"colorbar\":{\"outlinewidth\":0,\"ticks\":\"\"}},\"type\":\"scatter\"}],\"scatter3d\":[{\"line\":{\"colorbar\":{\"outlinewidth\":0,\"ticks\":\"\"}},\"marker\":{\"colorbar\":{\"outlinewidth\":0,\"ticks\":\"\"}},\"type\":\"scatter3d\"}],\"scattercarpet\":[{\"marker\":{\"colorbar\":{\"outlinewidth\":0,\"ticks\":\"\"}},\"type\":\"scattercarpet\"}],\"scattergeo\":[{\"marker\":{\"colorbar\":{\"outlinewidth\":0,\"ticks\":\"\"}},\"type\":\"scattergeo\"}],\"scattergl\":[{\"marker\":{\"colorbar\":{\"outlinewidth\":0,\"ticks\":\"\"}},\"type\":\"scattergl\"}],\"scattermapbox\":[{\"marker\":{\"colorbar\":{\"outlinewidth\":0,\"ticks\":\"\"}},\"type\":\"scattermapbox\"}],\"scatterpolar\":[{\"marker\":{\"colorbar\":{\"outlinewidth\":0,\"ticks\":\"\"}},\"type\":\"scatterpolar\"}],\"scatterpolargl\":[{\"marker\":{\"colorbar\":{\"outlinewidth\":0,\"ticks\":\"\"}},\"type\":\"scatterpolargl\"}],\"scatterternary\":[{\"marker\":{\"colorbar\":{\"outlinewidth\":0,\"ticks\":\"\"}},\"type\":\"scatterternary\"}],\"surface\":[{\"colorbar\":{\"outlinewidth\":0,\"ticks\":\"\"},\"colorscale\":[[0.0,\"#0d0887\"],[0.1111111111111111,\"#46039f\"],[0.2222222222222222,\"#7201a8\"],[0.3333333333333333,\"#9c179e\"],[0.4444444444444444,\"#bd3786\"],[0.5555555555555556,\"#d8576b\"],[0.6666666666666666,\"#ed7953\"],[0.7777777777777778,\"#fb9f3a\"],[0.8888888888888888,\"#fdca26\"],[1.0,\"#f0f921\"]],\"type\":\"surface\"}],\"table\":[{\"cells\":{\"fill\":{\"color\":\"#EBF0F8\"},\"line\":{\"color\":\"white\"}},\"header\":{\"fill\":{\"color\":\"#C8D4E3\"},\"line\":{\"color\":\"white\"}},\"type\":\"table\"}]},\"layout\":{\"annotationdefaults\":{\"arrowcolor\":\"#2a3f5f\",\"arrowhead\":0,\"arrowwidth\":1},\"autotypenumbers\":\"strict\",\"coloraxis\":{\"colorbar\":{\"outlinewidth\":0,\"ticks\":\"\"}},\"colorscale\":{\"diverging\":[[0,\"#8e0152\"],[0.1,\"#c51b7d\"],[0.2,\"#de77ae\"],[0.3,\"#f1b6da\"],[0.4,\"#fde0ef\"],[0.5,\"#f7f7f7\"],[0.6,\"#e6f5d0\"],[0.7,\"#b8e186\"],[0.8,\"#7fbc41\"],[0.9,\"#4d9221\"],[1,\"#276419\"]],\"sequential\":[[0.0,\"#0d0887\"],[0.1111111111111111,\"#46039f\"],[0.2222222222222222,\"#7201a8\"],[0.3333333333333333,\"#9c179e\"],[0.4444444444444444,\"#bd3786\"],[0.5555555555555556,\"#d8576b\"],[0.6666666666666666,\"#ed7953\"],[0.7777777777777778,\"#fb9f3a\"],[0.8888888888888888,\"#fdca26\"],[1.0,\"#f0f921\"]],\"sequentialminus\":[[0.0,\"#0d0887\"],[0.1111111111111111,\"#46039f\"],[0.2222222222222222,\"#7201a8\"],[0.3333333333333333,\"#9c179e\"],[0.4444444444444444,\"#bd3786\"],[0.5555555555555556,\"#d8576b\"],[0.6666666666666666,\"#ed7953\"],[0.7777777777777778,\"#fb9f3a\"],[0.8888888888888888,\"#fdca26\"],[1.0,\"#f0f921\"]]},\"colorway\":[\"#636efa\",\"#EF553B\",\"#00cc96\",\"#ab63fa\",\"#FFA15A\",\"#19d3f3\",\"#FF6692\",\"#B6E880\",\"#FF97FF\",\"#FECB52\"],\"font\":{\"color\":\"#2a3f5f\"},\"geo\":{\"bgcolor\":\"white\",\"lakecolor\":\"white\",\"landcolor\":\"#E5ECF6\",\"showlakes\":true,\"showland\":true,\"subunitcolor\":\"white\"},\"hoverlabel\":{\"align\":\"left\"},\"hovermode\":\"closest\",\"mapbox\":{\"style\":\"light\"},\"paper_bgcolor\":\"white\",\"plot_bgcolor\":\"#E5ECF6\",\"polar\":{\"angularaxis\":{\"gridcolor\":\"white\",\"linecolor\":\"white\",\"ticks\":\"\"},\"bgcolor\":\"#E5ECF6\",\"radialaxis\":{\"gridcolor\":\"white\",\"linecolor\":\"white\",\"ticks\":\"\"}},\"scene\":{\"xaxis\":{\"backgroundcolor\":\"#E5ECF6\",\"gridcolor\":\"white\",\"gridwidth\":2,\"linecolor\":\"white\",\"showbackground\":true,\"ticks\":\"\",\"zerolinecolor\":\"white\"},\"yaxis\":{\"backgroundcolor\":\"#E5ECF6\",\"gridcolor\":\"white\",\"gridwidth\":2,\"linecolor\":\"white\",\"showbackground\":true,\"ticks\":\"\",\"zerolinecolor\":\"white\"},\"zaxis\":{\"backgroundcolor\":\"#E5ECF6\",\"gridcolor\":\"white\",\"gridwidth\":2,\"linecolor\":\"white\",\"showbackground\":true,\"ticks\":\"\",\"zerolinecolor\":\"white\"}},\"shapedefaults\":{\"line\":{\"color\":\"#2a3f5f\"}},\"ternary\":{\"aaxis\":{\"gridcolor\":\"white\",\"linecolor\":\"white\",\"ticks\":\"\"},\"baxis\":{\"gridcolor\":\"white\",\"linecolor\":\"white\",\"ticks\":\"\"},\"bgcolor\":\"#E5ECF6\",\"caxis\":{\"gridcolor\":\"white\",\"linecolor\":\"white\",\"ticks\":\"\"}},\"title\":{\"x\":0.05},\"xaxis\":{\"automargin\":true,\"gridcolor\":\"white\",\"linecolor\":\"white\",\"ticks\":\"\",\"title\":{\"standoff\":15},\"zerolinecolor\":\"white\",\"zerolinewidth\":2},\"yaxis\":{\"automargin\":true,\"gridcolor\":\"white\",\"linecolor\":\"white\",\"ticks\":\"\",\"title\":{\"standoff\":15},\"zerolinecolor\":\"white\",\"zerolinewidth\":2}}},\"xaxis\":{\"anchor\":\"y\",\"domain\":[0.0,0.2125]},\"xaxis2\":{\"anchor\":\"y2\",\"domain\":[0.2625,0.475]},\"xaxis3\":{\"anchor\":\"y3\",\"domain\":[0.525,0.7375]},\"xaxis4\":{\"anchor\":\"y4\",\"domain\":[0.7875,1.0]},\"yaxis\":{\"anchor\":\"x\",\"autorange\":false,\"domain\":[0.0,1.0],\"range\":[0,5]},\"yaxis2\":{\"anchor\":\"x2\",\"autorange\":false,\"domain\":[0.0,1.0],\"range\":[0,5]},\"yaxis3\":{\"anchor\":\"x3\",\"autorange\":false,\"domain\":[0.0,1.0],\"range\":[0,5]},\"yaxis4\":{\"anchor\":\"x4\",\"autorange\":false,\"domain\":[0.0,1.0],\"range\":[0,5]}},                        {\"responsive\": true}                    ).then(function(){\n",
       "                            \n",
       "var gd = document.getElementById('13815602-691a-42da-9e0b-cdbbdf20bd58');\n",
       "var x = new MutationObserver(function (mutations, observer) {{\n",
       "        var display = window.getComputedStyle(gd).display;\n",
       "        if (!display || display === 'none') {{\n",
       "            console.log([gd, 'removed!']);\n",
       "            Plotly.purge(gd);\n",
       "            observer.disconnect();\n",
       "        }}\n",
       "}});\n",
       "\n",
       "// Listen for the removal of the full notebook cells\n",
       "var notebookContainer = gd.closest('#notebook-container');\n",
       "if (notebookContainer) {{\n",
       "    x.observe(notebookContainer, {childList: true});\n",
       "}}\n",
       "\n",
       "// Listen for the clearing of the current output cell\n",
       "var outputEl = gd.closest('.output');\n",
       "if (outputEl) {{\n",
       "    x.observe(outputEl, {childList: true});\n",
       "}}\n",
       "\n",
       "                        })                };                });            </script>        </div>"
      ]
     },
     "metadata": {},
     "output_type": "display_data"
    }
   ],
   "source": [
    "from plotly.subplots import make_subplots\n",
    "fig = make_subplots(rows=1, cols=4)\n",
    "fig.add_trace(go.Bar(\n",
    "            name='residential_instability',\n",
    "            x= merged2['hsa'],\n",
    "            y= merged2['residential_instability'],\n",
    "            offsetgroup=0,\n",
    "        ),\n",
    "    row=1,\n",
    "    col=1,\n",
    "             )\n",
    "fig.add_trace(go.Bar(\n",
    "            name='situational_vulnerability',\n",
    "            x=merged2['hsa'],\n",
    "            y= merged2['situational_vulnerability'],\n",
    "            offsetgroup=1,\n",
    "        ),\n",
    "    row=1,\n",
    "    col=2,\n",
    "             )\n",
    "fig.add_trace(go.Bar(\n",
    "            name='ethnocultural_composition',\n",
    "            x=merged2['hsa'],\n",
    "            y= merged2['ethnocultural_composition'],\n",
    "            offsetgroup=2,\n",
    "        ),\n",
    "    row=1,\n",
    "    col=3,\n",
    "             )\n",
    "fig.add_trace(go.Bar(\n",
    "            name='economic_dependency',\n",
    "            x=merged2['hsa'],\n",
    "            y= merged2['economic_dependency'],\n",
    "            offsetgroup=3,\n",
    "        ),\n",
    "    row=1,\n",
    "    col=4,\n",
    "             )\n",
    "layout=go.Layout(\n",
    "        title='Socioeconomic Factors',\n",
    "        yaxis_title=\"Scale (1-5)\"\n",
    "    )\n",
    "fig.update_yaxes(range=[0, 5], autorange=False)            \n",
    "fig.show()"
   ]
  },
  {
   "cell_type": "code",
   "execution_count": 98,
   "metadata": {},
   "outputs": [
    {
     "data": {
      "application/vnd.plotly.v1+json": {
       "config": {
        "plotlyServerURL": "https://plot.ly"
       },
       "data": [
        {
         "name": "residential_instability",
         "offsetgroup": "0",
         "type": "box",
         "x": [
          "Vancouver Coastal Health",
          "Vancouver Coastal Health",
          "Vancouver Coastal Health",
          "Vancouver Coastal Health",
          "Vancouver Coastal Health",
          "Vancouver Coastal Health",
          "Vancouver Coastal Health",
          "Vancouver Coastal Health",
          "Vancouver Coastal Health",
          "Vancouver Coastal Health",
          "Vancouver Coastal Health",
          "Vancouver Coastal Health",
          "Vancouver Coastal Health",
          "Vancouver Coastal Health",
          "Vancouver Coastal Health",
          "Vancouver Coastal Health",
          "Vancouver Coastal Health",
          "Vancouver Coastal Health",
          "Vancouver Coastal Health",
          "Vancouver Coastal Health",
          "Vancouver Coastal Health",
          "Vancouver Coastal Health",
          "Vancouver Coastal Health",
          "Vancouver Coastal Health",
          "Vancouver Coastal Health",
          "Vancouver Coastal Health",
          "Vancouver Coastal Health",
          "Vancouver Coastal Health",
          "Vancouver Coastal Health",
          "Vancouver Coastal Health",
          "Vancouver Coastal Health",
          "Vancouver Coastal Health",
          "Vancouver Coastal Health",
          "Vancouver Coastal Health",
          "Vancouver Coastal Health",
          "Vancouver Coastal Health",
          "Vancouver Coastal Health",
          "Vancouver Coastal Health",
          "Vancouver Coastal Health",
          "Vancouver Coastal Health",
          "Vancouver Coastal Health",
          "Vancouver Coastal Health",
          "Fraser Health",
          "Fraser Health",
          "Fraser Health",
          "Fraser Health",
          "Fraser Health",
          "Fraser Health",
          "Fraser Health",
          "Fraser Health",
          "Fraser Health",
          "Fraser Health",
          "Fraser Health",
          "Fraser Health",
          "Fraser Health",
          "Fraser Health",
          "Fraser Health",
          "Fraser Health",
          "Fraser Health",
          "Fraser Health",
          "Fraser Health",
          "Fraser Health",
          "Fraser Health",
          "Fraser Health",
          "Fraser Health",
          "Fraser Health",
          "Fraser Health",
          "Fraser Health",
          "Fraser Health",
          "Fraser Health",
          "Fraser Health",
          "Fraser Health",
          "Fraser Health",
          "Fraser Health",
          "Fraser Health",
          "Fraser Health",
          "Fraser Health",
          "Fraser Health",
          "Fraser Health",
          "Fraser Health",
          "Fraser Health",
          "Fraser Health",
          "Fraser Health",
          "Fraser Health",
          "Fraser Health",
          "Interior Health",
          "Interior Health",
          "Interior Health",
          "Interior Health",
          "Interior Health",
          "Interior Health",
          "Interior Health",
          "Interior Health",
          "Interior Health",
          "Interior Health",
          "Interior Health",
          "Interior Health",
          "Interior Health",
          "Interior Health",
          "Interior Health",
          "Interior Health",
          "Interior Health",
          "Interior Health",
          "Interior Health",
          "Interior Health",
          "Interior Health",
          "Interior Health",
          "Interior Health",
          "Interior Health",
          "Interior Health",
          "Interior Health",
          "Interior Health",
          "Interior Health",
          "Island Health",
          "Island Health",
          "Island Health",
          "Island Health",
          "Island Health",
          "Island Health",
          "Island Health",
          "Island Health",
          "Island Health",
          "Island Health",
          "Island Health",
          "Island Health",
          "Island Health",
          "Island Health",
          "Island Health",
          "Island Health",
          "Island Health",
          "Island Health",
          "Island Health",
          "Island Health",
          "Island Health",
          "Island Health",
          "Island Health",
          "Island Health",
          "Island Health",
          "Island Health",
          "Island Health",
          "Island Health",
          "Island Health",
          "Island Health",
          "Island Health",
          "Island Health",
          "Island Health",
          "Island Health",
          "Island Health",
          "Island Health",
          "Island Health",
          "Island Health",
          "Island Health",
          "Island Health",
          "Island Health",
          "Island Health",
          "Island Health",
          "Northern Health",
          "Northern Health",
          "Northern Health",
          "Northern Health",
          "Northern Health",
          "Northern Health",
          "Northern Health",
          "Northern Health",
          "Northern Health",
          "Northern Health",
          "Northern Health",
          "Northern Health",
          "Northern Health",
          "Northern Health",
          "Northern Health",
          "Northern Health",
          "Northern Health",
          "Northern Health",
          "Northern Health",
          "Northern Health",
          "Northern Health",
          "Northern Health",
          "Northern Health",
          "Northern Health",
          "Northern Health",
          "Northern Health",
          "Northern Health",
          "Northern Health",
          "Northern Health"
         ],
         "xaxis": "x",
         "y": [
          2,
          5,
          2,
          4,
          5,
          4,
          4,
          5,
          2,
          3,
          3,
          1,
          4,
          5,
          5,
          5,
          2,
          2,
          3,
          5,
          3,
          5,
          4,
          5,
          5,
          5,
          5,
          3,
          5,
          5,
          3,
          3,
          4,
          3,
          5,
          1,
          5,
          1,
          4,
          3,
          5,
          5,
          4,
          2,
          5,
          5,
          1,
          4,
          null,
          4,
          2,
          3,
          3,
          2,
          4,
          5,
          5,
          1,
          1,
          1,
          3,
          2,
          5,
          1,
          null,
          2,
          4,
          5,
          2,
          3,
          2,
          1,
          4,
          3,
          1,
          5,
          5,
          1,
          4,
          2,
          3,
          2,
          3,
          1,
          5,
          2,
          3,
          1,
          4,
          3,
          3,
          5,
          2,
          3,
          2,
          4,
          1,
          3,
          3,
          2,
          2,
          3,
          5,
          1,
          2,
          4,
          4,
          4,
          3,
          1,
          3,
          1,
          2,
          4,
          5,
          2,
          2,
          5,
          4,
          2,
          3,
          5,
          5,
          4,
          2,
          1,
          2,
          5,
          1,
          1,
          4,
          2,
          4,
          1,
          2,
          4,
          5,
          2,
          3,
          3,
          4,
          2,
          2,
          3,
          4,
          3,
          1,
          4,
          1,
          null,
          1,
          1,
          5,
          4,
          2,
          4,
          5,
          3,
          1,
          5,
          3,
          4,
          2,
          1,
          2,
          2,
          2,
          1,
          5,
          3,
          1,
          1,
          4,
          2,
          4,
          1,
          1,
          1,
          1,
          1,
          5,
          2,
          1,
          2,
          4
         ],
         "yaxis": "y"
        },
        {
         "name": "situational_vulnerability",
         "offsetgroup": "1",
         "type": "box",
         "x": [
          "Vancouver Coastal Health",
          "Vancouver Coastal Health",
          "Vancouver Coastal Health",
          "Vancouver Coastal Health",
          "Vancouver Coastal Health",
          "Vancouver Coastal Health",
          "Vancouver Coastal Health",
          "Vancouver Coastal Health",
          "Vancouver Coastal Health",
          "Vancouver Coastal Health",
          "Vancouver Coastal Health",
          "Vancouver Coastal Health",
          "Vancouver Coastal Health",
          "Vancouver Coastal Health",
          "Vancouver Coastal Health",
          "Vancouver Coastal Health",
          "Vancouver Coastal Health",
          "Vancouver Coastal Health",
          "Vancouver Coastal Health",
          "Vancouver Coastal Health",
          "Vancouver Coastal Health",
          "Vancouver Coastal Health",
          "Vancouver Coastal Health",
          "Vancouver Coastal Health",
          "Vancouver Coastal Health",
          "Vancouver Coastal Health",
          "Vancouver Coastal Health",
          "Vancouver Coastal Health",
          "Vancouver Coastal Health",
          "Vancouver Coastal Health",
          "Vancouver Coastal Health",
          "Vancouver Coastal Health",
          "Vancouver Coastal Health",
          "Vancouver Coastal Health",
          "Vancouver Coastal Health",
          "Vancouver Coastal Health",
          "Vancouver Coastal Health",
          "Vancouver Coastal Health",
          "Vancouver Coastal Health",
          "Vancouver Coastal Health",
          "Vancouver Coastal Health",
          "Vancouver Coastal Health",
          "Fraser Health",
          "Fraser Health",
          "Fraser Health",
          "Fraser Health",
          "Fraser Health",
          "Fraser Health",
          "Fraser Health",
          "Fraser Health",
          "Fraser Health",
          "Fraser Health",
          "Fraser Health",
          "Fraser Health",
          "Fraser Health",
          "Fraser Health",
          "Fraser Health",
          "Fraser Health",
          "Fraser Health",
          "Fraser Health",
          "Fraser Health",
          "Fraser Health",
          "Fraser Health",
          "Fraser Health",
          "Fraser Health",
          "Fraser Health",
          "Fraser Health",
          "Fraser Health",
          "Fraser Health",
          "Fraser Health",
          "Fraser Health",
          "Fraser Health",
          "Fraser Health",
          "Fraser Health",
          "Fraser Health",
          "Fraser Health",
          "Fraser Health",
          "Fraser Health",
          "Fraser Health",
          "Fraser Health",
          "Fraser Health",
          "Fraser Health",
          "Fraser Health",
          "Fraser Health",
          "Fraser Health",
          "Interior Health",
          "Interior Health",
          "Interior Health",
          "Interior Health",
          "Interior Health",
          "Interior Health",
          "Interior Health",
          "Interior Health",
          "Interior Health",
          "Interior Health",
          "Interior Health",
          "Interior Health",
          "Interior Health",
          "Interior Health",
          "Interior Health",
          "Interior Health",
          "Interior Health",
          "Interior Health",
          "Interior Health",
          "Interior Health",
          "Interior Health",
          "Interior Health",
          "Interior Health",
          "Interior Health",
          "Interior Health",
          "Interior Health",
          "Interior Health",
          "Interior Health",
          "Island Health",
          "Island Health",
          "Island Health",
          "Island Health",
          "Island Health",
          "Island Health",
          "Island Health",
          "Island Health",
          "Island Health",
          "Island Health",
          "Island Health",
          "Island Health",
          "Island Health",
          "Island Health",
          "Island Health",
          "Island Health",
          "Island Health",
          "Island Health",
          "Island Health",
          "Island Health",
          "Island Health",
          "Island Health",
          "Island Health",
          "Island Health",
          "Island Health",
          "Island Health",
          "Island Health",
          "Island Health",
          "Island Health",
          "Island Health",
          "Island Health",
          "Island Health",
          "Island Health",
          "Island Health",
          "Island Health",
          "Island Health",
          "Island Health",
          "Island Health",
          "Island Health",
          "Island Health",
          "Island Health",
          "Island Health",
          "Island Health",
          "Northern Health",
          "Northern Health",
          "Northern Health",
          "Northern Health",
          "Northern Health",
          "Northern Health",
          "Northern Health",
          "Northern Health",
          "Northern Health",
          "Northern Health",
          "Northern Health",
          "Northern Health",
          "Northern Health",
          "Northern Health",
          "Northern Health",
          "Northern Health",
          "Northern Health",
          "Northern Health",
          "Northern Health",
          "Northern Health",
          "Northern Health",
          "Northern Health",
          "Northern Health",
          "Northern Health",
          "Northern Health",
          "Northern Health",
          "Northern Health",
          "Northern Health",
          "Northern Health"
         ],
         "xaxis": "x2",
         "y": [
          3,
          4,
          2,
          4,
          2,
          4,
          4,
          3,
          1,
          4,
          2,
          2,
          2,
          1,
          3,
          1,
          1,
          1,
          1,
          1,
          3,
          4,
          4,
          2,
          1,
          1,
          1,
          2,
          2,
          1,
          4,
          4,
          2,
          3,
          3,
          1,
          3,
          1,
          4,
          3,
          5,
          1,
          3,
          2,
          3,
          2,
          3,
          3,
          null,
          3,
          2,
          1,
          4,
          4,
          5,
          2,
          4,
          1,
          1,
          2,
          2,
          1,
          4,
          2,
          null,
          1,
          3,
          1,
          1,
          3,
          4,
          2,
          2,
          5,
          1,
          3,
          3,
          2,
          3,
          1,
          3,
          1,
          1,
          2,
          4,
          3,
          5,
          3,
          5,
          4,
          4,
          3,
          4,
          2,
          3,
          4,
          1,
          1,
          4,
          2,
          3,
          4,
          2,
          1,
          4,
          4,
          4,
          4,
          5,
          3,
          2,
          3,
          4,
          5,
          2,
          3,
          1,
          2,
          3,
          3,
          1,
          3,
          3,
          4,
          2,
          4,
          3,
          3,
          3,
          1,
          2,
          1,
          5,
          1,
          2,
          2,
          5,
          3,
          2,
          4,
          4,
          1,
          2,
          2,
          1,
          3,
          2,
          1,
          1,
          null,
          1,
          2,
          1,
          5,
          1,
          1,
          5,
          4,
          3,
          5,
          3,
          5,
          5,
          3,
          5,
          5,
          4,
          5,
          5,
          5,
          4,
          4,
          5,
          5,
          4,
          5,
          4,
          5,
          5,
          5,
          2,
          4,
          2,
          4,
          4
         ],
         "yaxis": "y2"
        },
        {
         "name": "ethnocultural_composition",
         "offsetgroup": "2",
         "type": "box",
         "x": [
          "Vancouver Coastal Health",
          "Vancouver Coastal Health",
          "Vancouver Coastal Health",
          "Vancouver Coastal Health",
          "Vancouver Coastal Health",
          "Vancouver Coastal Health",
          "Vancouver Coastal Health",
          "Vancouver Coastal Health",
          "Vancouver Coastal Health",
          "Vancouver Coastal Health",
          "Vancouver Coastal Health",
          "Vancouver Coastal Health",
          "Vancouver Coastal Health",
          "Vancouver Coastal Health",
          "Vancouver Coastal Health",
          "Vancouver Coastal Health",
          "Vancouver Coastal Health",
          "Vancouver Coastal Health",
          "Vancouver Coastal Health",
          "Vancouver Coastal Health",
          "Vancouver Coastal Health",
          "Vancouver Coastal Health",
          "Vancouver Coastal Health",
          "Vancouver Coastal Health",
          "Vancouver Coastal Health",
          "Vancouver Coastal Health",
          "Vancouver Coastal Health",
          "Vancouver Coastal Health",
          "Vancouver Coastal Health",
          "Vancouver Coastal Health",
          "Vancouver Coastal Health",
          "Vancouver Coastal Health",
          "Vancouver Coastal Health",
          "Vancouver Coastal Health",
          "Vancouver Coastal Health",
          "Vancouver Coastal Health",
          "Vancouver Coastal Health",
          "Vancouver Coastal Health",
          "Vancouver Coastal Health",
          "Vancouver Coastal Health",
          "Vancouver Coastal Health",
          "Vancouver Coastal Health",
          "Fraser Health",
          "Fraser Health",
          "Fraser Health",
          "Fraser Health",
          "Fraser Health",
          "Fraser Health",
          "Fraser Health",
          "Fraser Health",
          "Fraser Health",
          "Fraser Health",
          "Fraser Health",
          "Fraser Health",
          "Fraser Health",
          "Fraser Health",
          "Fraser Health",
          "Fraser Health",
          "Fraser Health",
          "Fraser Health",
          "Fraser Health",
          "Fraser Health",
          "Fraser Health",
          "Fraser Health",
          "Fraser Health",
          "Fraser Health",
          "Fraser Health",
          "Fraser Health",
          "Fraser Health",
          "Fraser Health",
          "Fraser Health",
          "Fraser Health",
          "Fraser Health",
          "Fraser Health",
          "Fraser Health",
          "Fraser Health",
          "Fraser Health",
          "Fraser Health",
          "Fraser Health",
          "Fraser Health",
          "Fraser Health",
          "Fraser Health",
          "Fraser Health",
          "Fraser Health",
          "Fraser Health",
          "Interior Health",
          "Interior Health",
          "Interior Health",
          "Interior Health",
          "Interior Health",
          "Interior Health",
          "Interior Health",
          "Interior Health",
          "Interior Health",
          "Interior Health",
          "Interior Health",
          "Interior Health",
          "Interior Health",
          "Interior Health",
          "Interior Health",
          "Interior Health",
          "Interior Health",
          "Interior Health",
          "Interior Health",
          "Interior Health",
          "Interior Health",
          "Interior Health",
          "Interior Health",
          "Interior Health",
          "Interior Health",
          "Interior Health",
          "Interior Health",
          "Interior Health",
          "Island Health",
          "Island Health",
          "Island Health",
          "Island Health",
          "Island Health",
          "Island Health",
          "Island Health",
          "Island Health",
          "Island Health",
          "Island Health",
          "Island Health",
          "Island Health",
          "Island Health",
          "Island Health",
          "Island Health",
          "Island Health",
          "Island Health",
          "Island Health",
          "Island Health",
          "Island Health",
          "Island Health",
          "Island Health",
          "Island Health",
          "Island Health",
          "Island Health",
          "Island Health",
          "Island Health",
          "Island Health",
          "Island Health",
          "Island Health",
          "Island Health",
          "Island Health",
          "Island Health",
          "Island Health",
          "Island Health",
          "Island Health",
          "Island Health",
          "Island Health",
          "Island Health",
          "Island Health",
          "Island Health",
          "Island Health",
          "Island Health",
          "Northern Health",
          "Northern Health",
          "Northern Health",
          "Northern Health",
          "Northern Health",
          "Northern Health",
          "Northern Health",
          "Northern Health",
          "Northern Health",
          "Northern Health",
          "Northern Health",
          "Northern Health",
          "Northern Health",
          "Northern Health",
          "Northern Health",
          "Northern Health",
          "Northern Health",
          "Northern Health",
          "Northern Health",
          "Northern Health",
          "Northern Health",
          "Northern Health",
          "Northern Health",
          "Northern Health",
          "Northern Health",
          "Northern Health",
          "Northern Health",
          "Northern Health",
          "Northern Health"
         ],
         "xaxis": "x3",
         "y": [
          5,
          4,
          5,
          5,
          5,
          5,
          5,
          5,
          4,
          2,
          5,
          5,
          3,
          5,
          5,
          4,
          4,
          4,
          4,
          4,
          5,
          5,
          2,
          5,
          4,
          4,
          5,
          2,
          5,
          4,
          5,
          5,
          3,
          5,
          5,
          3,
          5,
          5,
          5,
          5,
          5,
          4,
          5,
          4,
          5,
          5,
          4,
          5,
          null,
          5,
          3,
          4,
          4,
          5,
          3,
          5,
          4,
          3,
          3,
          4,
          4,
          4,
          4,
          4,
          null,
          5,
          5,
          4,
          4,
          5,
          4,
          5,
          5,
          3,
          5,
          4,
          4,
          5,
          5,
          3,
          5,
          4,
          4,
          2,
          5,
          2,
          3,
          1,
          3,
          1,
          1,
          3,
          2,
          1,
          2,
          4,
          2,
          2,
          2,
          1,
          2,
          2,
          3,
          2,
          1,
          3,
          2,
          3,
          3,
          1,
          3,
          1,
          2,
          3,
          4,
          2,
          1,
          4,
          3,
          2,
          3,
          4,
          3,
          3,
          2,
          2,
          2,
          3,
          1,
          3,
          3,
          3,
          4,
          4,
          1,
          3,
          4,
          2,
          1,
          2,
          3,
          1,
          2,
          2,
          2,
          4,
          2,
          4,
          1,
          null,
          2,
          1,
          3,
          2,
          1,
          1,
          4,
          1,
          1,
          3,
          1,
          3,
          3,
          1,
          1,
          1,
          1,
          3,
          4,
          2,
          1,
          2,
          4,
          1,
          2,
          1,
          1,
          1,
          2,
          1,
          4,
          2,
          3,
          1,
          3
         ],
         "yaxis": "y3"
        },
        {
         "name": "economic_dependency",
         "offsetgroup": "3",
         "type": "box",
         "x": [
          "Vancouver Coastal Health",
          "Vancouver Coastal Health",
          "Vancouver Coastal Health",
          "Vancouver Coastal Health",
          "Vancouver Coastal Health",
          "Vancouver Coastal Health",
          "Vancouver Coastal Health",
          "Vancouver Coastal Health",
          "Vancouver Coastal Health",
          "Vancouver Coastal Health",
          "Vancouver Coastal Health",
          "Vancouver Coastal Health",
          "Vancouver Coastal Health",
          "Vancouver Coastal Health",
          "Vancouver Coastal Health",
          "Vancouver Coastal Health",
          "Vancouver Coastal Health",
          "Vancouver Coastal Health",
          "Vancouver Coastal Health",
          "Vancouver Coastal Health",
          "Vancouver Coastal Health",
          "Vancouver Coastal Health",
          "Vancouver Coastal Health",
          "Vancouver Coastal Health",
          "Vancouver Coastal Health",
          "Vancouver Coastal Health",
          "Vancouver Coastal Health",
          "Vancouver Coastal Health",
          "Vancouver Coastal Health",
          "Vancouver Coastal Health",
          "Vancouver Coastal Health",
          "Vancouver Coastal Health",
          "Vancouver Coastal Health",
          "Vancouver Coastal Health",
          "Vancouver Coastal Health",
          "Vancouver Coastal Health",
          "Vancouver Coastal Health",
          "Vancouver Coastal Health",
          "Vancouver Coastal Health",
          "Vancouver Coastal Health",
          "Vancouver Coastal Health",
          "Vancouver Coastal Health",
          "Fraser Health",
          "Fraser Health",
          "Fraser Health",
          "Fraser Health",
          "Fraser Health",
          "Fraser Health",
          "Fraser Health",
          "Fraser Health",
          "Fraser Health",
          "Fraser Health",
          "Fraser Health",
          "Fraser Health",
          "Fraser Health",
          "Fraser Health",
          "Fraser Health",
          "Fraser Health",
          "Fraser Health",
          "Fraser Health",
          "Fraser Health",
          "Fraser Health",
          "Fraser Health",
          "Fraser Health",
          "Fraser Health",
          "Fraser Health",
          "Fraser Health",
          "Fraser Health",
          "Fraser Health",
          "Fraser Health",
          "Fraser Health",
          "Fraser Health",
          "Fraser Health",
          "Fraser Health",
          "Fraser Health",
          "Fraser Health",
          "Fraser Health",
          "Fraser Health",
          "Fraser Health",
          "Fraser Health",
          "Fraser Health",
          "Fraser Health",
          "Fraser Health",
          "Fraser Health",
          "Fraser Health",
          "Interior Health",
          "Interior Health",
          "Interior Health",
          "Interior Health",
          "Interior Health",
          "Interior Health",
          "Interior Health",
          "Interior Health",
          "Interior Health",
          "Interior Health",
          "Interior Health",
          "Interior Health",
          "Interior Health",
          "Interior Health",
          "Interior Health",
          "Interior Health",
          "Interior Health",
          "Interior Health",
          "Interior Health",
          "Interior Health",
          "Interior Health",
          "Interior Health",
          "Interior Health",
          "Interior Health",
          "Interior Health",
          "Interior Health",
          "Interior Health",
          "Interior Health",
          "Island Health",
          "Island Health",
          "Island Health",
          "Island Health",
          "Island Health",
          "Island Health",
          "Island Health",
          "Island Health",
          "Island Health",
          "Island Health",
          "Island Health",
          "Island Health",
          "Island Health",
          "Island Health",
          "Island Health",
          "Island Health",
          "Island Health",
          "Island Health",
          "Island Health",
          "Island Health",
          "Island Health",
          "Island Health",
          "Island Health",
          "Island Health",
          "Island Health",
          "Island Health",
          "Island Health",
          "Island Health",
          "Island Health",
          "Island Health",
          "Island Health",
          "Island Health",
          "Island Health",
          "Island Health",
          "Island Health",
          "Island Health",
          "Island Health",
          "Island Health",
          "Island Health",
          "Island Health",
          "Island Health",
          "Island Health",
          "Island Health",
          "Northern Health",
          "Northern Health",
          "Northern Health",
          "Northern Health",
          "Northern Health",
          "Northern Health",
          "Northern Health",
          "Northern Health",
          "Northern Health",
          "Northern Health",
          "Northern Health",
          "Northern Health",
          "Northern Health",
          "Northern Health",
          "Northern Health",
          "Northern Health",
          "Northern Health",
          "Northern Health",
          "Northern Health",
          "Northern Health",
          "Northern Health",
          "Northern Health",
          "Northern Health",
          "Northern Health",
          "Northern Health",
          "Northern Health",
          "Northern Health",
          "Northern Health",
          "Northern Health"
         ],
         "xaxis": "x4",
         "y": [
          4,
          1,
          3,
          3,
          1,
          2,
          2,
          4,
          3,
          5,
          3,
          2,
          5,
          1,
          3,
          1,
          2,
          2,
          1,
          1,
          4,
          1,
          5,
          5,
          1,
          1,
          1,
          5,
          1,
          1,
          1,
          3,
          4,
          2,
          4,
          2,
          3,
          4,
          3,
          3,
          4,
          1,
          2,
          1,
          2,
          2,
          2,
          2,
          null,
          2,
          3,
          4,
          2,
          2,
          5,
          1,
          3,
          3,
          1,
          1,
          1,
          1,
          4,
          1,
          null,
          1,
          3,
          5,
          3,
          3,
          1,
          2,
          3,
          5,
          1,
          3,
          3,
          2,
          3,
          4,
          2,
          1,
          1,
          3,
          1,
          3,
          4,
          5,
          5,
          5,
          4,
          5,
          4,
          4,
          3,
          2,
          2,
          2,
          5,
          1,
          2,
          5,
          4,
          5,
          5,
          3,
          5,
          3,
          5,
          5,
          2,
          4,
          5,
          5,
          1,
          4,
          5,
          2,
          3,
          4,
          5,
          1,
          4,
          4,
          5,
          3,
          3,
          2,
          5,
          3,
          5,
          5,
          3,
          4,
          5,
          1,
          4,
          4,
          4,
          2,
          4,
          5,
          2,
          5,
          5,
          1,
          3,
          4,
          4,
          null,
          5,
          3,
          4,
          5,
          5,
          5,
          1,
          4,
          2,
          4,
          2,
          2,
          3,
          1,
          2,
          1,
          2,
          4,
          2,
          3,
          2,
          2,
          1,
          4,
          4,
          3,
          2,
          4,
          3,
          2,
          1,
          2,
          1,
          4,
          1
         ],
         "yaxis": "y4"
        }
       ],
       "layout": {
        "autosize": true,
        "template": {
         "data": {
          "bar": [
           {
            "error_x": {
             "color": "#2a3f5f"
            },
            "error_y": {
             "color": "#2a3f5f"
            },
            "marker": {
             "line": {
              "color": "#E5ECF6",
              "width": 0.5
             },
             "pattern": {
              "fillmode": "overlay",
              "size": 10,
              "solidity": 0.2
             }
            },
            "type": "bar"
           }
          ],
          "barpolar": [
           {
            "marker": {
             "line": {
              "color": "#E5ECF6",
              "width": 0.5
             },
             "pattern": {
              "fillmode": "overlay",
              "size": 10,
              "solidity": 0.2
             }
            },
            "type": "barpolar"
           }
          ],
          "carpet": [
           {
            "aaxis": {
             "endlinecolor": "#2a3f5f",
             "gridcolor": "white",
             "linecolor": "white",
             "minorgridcolor": "white",
             "startlinecolor": "#2a3f5f"
            },
            "baxis": {
             "endlinecolor": "#2a3f5f",
             "gridcolor": "white",
             "linecolor": "white",
             "minorgridcolor": "white",
             "startlinecolor": "#2a3f5f"
            },
            "type": "carpet"
           }
          ],
          "choropleth": [
           {
            "colorbar": {
             "outlinewidth": 0,
             "ticks": ""
            },
            "type": "choropleth"
           }
          ],
          "contour": [
           {
            "colorbar": {
             "outlinewidth": 0,
             "ticks": ""
            },
            "colorscale": [
             [
              0,
              "#0d0887"
             ],
             [
              0.1111111111111111,
              "#46039f"
             ],
             [
              0.2222222222222222,
              "#7201a8"
             ],
             [
              0.3333333333333333,
              "#9c179e"
             ],
             [
              0.4444444444444444,
              "#bd3786"
             ],
             [
              0.5555555555555556,
              "#d8576b"
             ],
             [
              0.6666666666666666,
              "#ed7953"
             ],
             [
              0.7777777777777778,
              "#fb9f3a"
             ],
             [
              0.8888888888888888,
              "#fdca26"
             ],
             [
              1,
              "#f0f921"
             ]
            ],
            "type": "contour"
           }
          ],
          "contourcarpet": [
           {
            "colorbar": {
             "outlinewidth": 0,
             "ticks": ""
            },
            "type": "contourcarpet"
           }
          ],
          "heatmap": [
           {
            "colorbar": {
             "outlinewidth": 0,
             "ticks": ""
            },
            "colorscale": [
             [
              0,
              "#0d0887"
             ],
             [
              0.1111111111111111,
              "#46039f"
             ],
             [
              0.2222222222222222,
              "#7201a8"
             ],
             [
              0.3333333333333333,
              "#9c179e"
             ],
             [
              0.4444444444444444,
              "#bd3786"
             ],
             [
              0.5555555555555556,
              "#d8576b"
             ],
             [
              0.6666666666666666,
              "#ed7953"
             ],
             [
              0.7777777777777778,
              "#fb9f3a"
             ],
             [
              0.8888888888888888,
              "#fdca26"
             ],
             [
              1,
              "#f0f921"
             ]
            ],
            "type": "heatmap"
           }
          ],
          "heatmapgl": [
           {
            "colorbar": {
             "outlinewidth": 0,
             "ticks": ""
            },
            "colorscale": [
             [
              0,
              "#0d0887"
             ],
             [
              0.1111111111111111,
              "#46039f"
             ],
             [
              0.2222222222222222,
              "#7201a8"
             ],
             [
              0.3333333333333333,
              "#9c179e"
             ],
             [
              0.4444444444444444,
              "#bd3786"
             ],
             [
              0.5555555555555556,
              "#d8576b"
             ],
             [
              0.6666666666666666,
              "#ed7953"
             ],
             [
              0.7777777777777778,
              "#fb9f3a"
             ],
             [
              0.8888888888888888,
              "#fdca26"
             ],
             [
              1,
              "#f0f921"
             ]
            ],
            "type": "heatmapgl"
           }
          ],
          "histogram": [
           {
            "marker": {
             "pattern": {
              "fillmode": "overlay",
              "size": 10,
              "solidity": 0.2
             }
            },
            "type": "histogram"
           }
          ],
          "histogram2d": [
           {
            "colorbar": {
             "outlinewidth": 0,
             "ticks": ""
            },
            "colorscale": [
             [
              0,
              "#0d0887"
             ],
             [
              0.1111111111111111,
              "#46039f"
             ],
             [
              0.2222222222222222,
              "#7201a8"
             ],
             [
              0.3333333333333333,
              "#9c179e"
             ],
             [
              0.4444444444444444,
              "#bd3786"
             ],
             [
              0.5555555555555556,
              "#d8576b"
             ],
             [
              0.6666666666666666,
              "#ed7953"
             ],
             [
              0.7777777777777778,
              "#fb9f3a"
             ],
             [
              0.8888888888888888,
              "#fdca26"
             ],
             [
              1,
              "#f0f921"
             ]
            ],
            "type": "histogram2d"
           }
          ],
          "histogram2dcontour": [
           {
            "colorbar": {
             "outlinewidth": 0,
             "ticks": ""
            },
            "colorscale": [
             [
              0,
              "#0d0887"
             ],
             [
              0.1111111111111111,
              "#46039f"
             ],
             [
              0.2222222222222222,
              "#7201a8"
             ],
             [
              0.3333333333333333,
              "#9c179e"
             ],
             [
              0.4444444444444444,
              "#bd3786"
             ],
             [
              0.5555555555555556,
              "#d8576b"
             ],
             [
              0.6666666666666666,
              "#ed7953"
             ],
             [
              0.7777777777777778,
              "#fb9f3a"
             ],
             [
              0.8888888888888888,
              "#fdca26"
             ],
             [
              1,
              "#f0f921"
             ]
            ],
            "type": "histogram2dcontour"
           }
          ],
          "mesh3d": [
           {
            "colorbar": {
             "outlinewidth": 0,
             "ticks": ""
            },
            "type": "mesh3d"
           }
          ],
          "parcoords": [
           {
            "line": {
             "colorbar": {
              "outlinewidth": 0,
              "ticks": ""
             }
            },
            "type": "parcoords"
           }
          ],
          "pie": [
           {
            "automargin": true,
            "type": "pie"
           }
          ],
          "scatter": [
           {
            "marker": {
             "colorbar": {
              "outlinewidth": 0,
              "ticks": ""
             }
            },
            "type": "scatter"
           }
          ],
          "scatter3d": [
           {
            "line": {
             "colorbar": {
              "outlinewidth": 0,
              "ticks": ""
             }
            },
            "marker": {
             "colorbar": {
              "outlinewidth": 0,
              "ticks": ""
             }
            },
            "type": "scatter3d"
           }
          ],
          "scattercarpet": [
           {
            "marker": {
             "colorbar": {
              "outlinewidth": 0,
              "ticks": ""
             }
            },
            "type": "scattercarpet"
           }
          ],
          "scattergeo": [
           {
            "marker": {
             "colorbar": {
              "outlinewidth": 0,
              "ticks": ""
             }
            },
            "type": "scattergeo"
           }
          ],
          "scattergl": [
           {
            "marker": {
             "colorbar": {
              "outlinewidth": 0,
              "ticks": ""
             }
            },
            "type": "scattergl"
           }
          ],
          "scattermapbox": [
           {
            "marker": {
             "colorbar": {
              "outlinewidth": 0,
              "ticks": ""
             }
            },
            "type": "scattermapbox"
           }
          ],
          "scatterpolar": [
           {
            "marker": {
             "colorbar": {
              "outlinewidth": 0,
              "ticks": ""
             }
            },
            "type": "scatterpolar"
           }
          ],
          "scatterpolargl": [
           {
            "marker": {
             "colorbar": {
              "outlinewidth": 0,
              "ticks": ""
             }
            },
            "type": "scatterpolargl"
           }
          ],
          "scatterternary": [
           {
            "marker": {
             "colorbar": {
              "outlinewidth": 0,
              "ticks": ""
             }
            },
            "type": "scatterternary"
           }
          ],
          "surface": [
           {
            "colorbar": {
             "outlinewidth": 0,
             "ticks": ""
            },
            "colorscale": [
             [
              0,
              "#0d0887"
             ],
             [
              0.1111111111111111,
              "#46039f"
             ],
             [
              0.2222222222222222,
              "#7201a8"
             ],
             [
              0.3333333333333333,
              "#9c179e"
             ],
             [
              0.4444444444444444,
              "#bd3786"
             ],
             [
              0.5555555555555556,
              "#d8576b"
             ],
             [
              0.6666666666666666,
              "#ed7953"
             ],
             [
              0.7777777777777778,
              "#fb9f3a"
             ],
             [
              0.8888888888888888,
              "#fdca26"
             ],
             [
              1,
              "#f0f921"
             ]
            ],
            "type": "surface"
           }
          ],
          "table": [
           {
            "cells": {
             "fill": {
              "color": "#EBF0F8"
             },
             "line": {
              "color": "white"
             }
            },
            "header": {
             "fill": {
              "color": "#C8D4E3"
             },
             "line": {
              "color": "white"
             }
            },
            "type": "table"
           }
          ]
         },
         "layout": {
          "annotationdefaults": {
           "arrowcolor": "#2a3f5f",
           "arrowhead": 0,
           "arrowwidth": 1
          },
          "autotypenumbers": "strict",
          "coloraxis": {
           "colorbar": {
            "outlinewidth": 0,
            "ticks": ""
           }
          },
          "colorscale": {
           "diverging": [
            [
             0,
             "#8e0152"
            ],
            [
             0.1,
             "#c51b7d"
            ],
            [
             0.2,
             "#de77ae"
            ],
            [
             0.3,
             "#f1b6da"
            ],
            [
             0.4,
             "#fde0ef"
            ],
            [
             0.5,
             "#f7f7f7"
            ],
            [
             0.6,
             "#e6f5d0"
            ],
            [
             0.7,
             "#b8e186"
            ],
            [
             0.8,
             "#7fbc41"
            ],
            [
             0.9,
             "#4d9221"
            ],
            [
             1,
             "#276419"
            ]
           ],
           "sequential": [
            [
             0,
             "#0d0887"
            ],
            [
             0.1111111111111111,
             "#46039f"
            ],
            [
             0.2222222222222222,
             "#7201a8"
            ],
            [
             0.3333333333333333,
             "#9c179e"
            ],
            [
             0.4444444444444444,
             "#bd3786"
            ],
            [
             0.5555555555555556,
             "#d8576b"
            ],
            [
             0.6666666666666666,
             "#ed7953"
            ],
            [
             0.7777777777777778,
             "#fb9f3a"
            ],
            [
             0.8888888888888888,
             "#fdca26"
            ],
            [
             1,
             "#f0f921"
            ]
           ],
           "sequentialminus": [
            [
             0,
             "#0d0887"
            ],
            [
             0.1111111111111111,
             "#46039f"
            ],
            [
             0.2222222222222222,
             "#7201a8"
            ],
            [
             0.3333333333333333,
             "#9c179e"
            ],
            [
             0.4444444444444444,
             "#bd3786"
            ],
            [
             0.5555555555555556,
             "#d8576b"
            ],
            [
             0.6666666666666666,
             "#ed7953"
            ],
            [
             0.7777777777777778,
             "#fb9f3a"
            ],
            [
             0.8888888888888888,
             "#fdca26"
            ],
            [
             1,
             "#f0f921"
            ]
           ]
          },
          "colorway": [
           "#636efa",
           "#EF553B",
           "#00cc96",
           "#ab63fa",
           "#FFA15A",
           "#19d3f3",
           "#FF6692",
           "#B6E880",
           "#FF97FF",
           "#FECB52"
          ],
          "font": {
           "color": "#2a3f5f"
          },
          "geo": {
           "bgcolor": "white",
           "lakecolor": "white",
           "landcolor": "#E5ECF6",
           "showlakes": true,
           "showland": true,
           "subunitcolor": "white"
          },
          "hoverlabel": {
           "align": "left"
          },
          "hovermode": "closest",
          "mapbox": {
           "style": "light"
          },
          "paper_bgcolor": "white",
          "plot_bgcolor": "#E5ECF6",
          "polar": {
           "angularaxis": {
            "gridcolor": "white",
            "linecolor": "white",
            "ticks": ""
           },
           "bgcolor": "#E5ECF6",
           "radialaxis": {
            "gridcolor": "white",
            "linecolor": "white",
            "ticks": ""
           }
          },
          "scene": {
           "xaxis": {
            "backgroundcolor": "#E5ECF6",
            "gridcolor": "white",
            "gridwidth": 2,
            "linecolor": "white",
            "showbackground": true,
            "ticks": "",
            "zerolinecolor": "white"
           },
           "yaxis": {
            "backgroundcolor": "#E5ECF6",
            "gridcolor": "white",
            "gridwidth": 2,
            "linecolor": "white",
            "showbackground": true,
            "ticks": "",
            "zerolinecolor": "white"
           },
           "zaxis": {
            "backgroundcolor": "#E5ECF6",
            "gridcolor": "white",
            "gridwidth": 2,
            "linecolor": "white",
            "showbackground": true,
            "ticks": "",
            "zerolinecolor": "white"
           }
          },
          "shapedefaults": {
           "line": {
            "color": "#2a3f5f"
           }
          },
          "ternary": {
           "aaxis": {
            "gridcolor": "white",
            "linecolor": "white",
            "ticks": ""
           },
           "baxis": {
            "gridcolor": "white",
            "linecolor": "white",
            "ticks": ""
           },
           "bgcolor": "#E5ECF6",
           "caxis": {
            "gridcolor": "white",
            "linecolor": "white",
            "ticks": ""
           }
          },
          "title": {
           "x": 0.05
          },
          "xaxis": {
           "automargin": true,
           "gridcolor": "white",
           "linecolor": "white",
           "ticks": "",
           "title": {
            "standoff": 15
           },
           "zerolinecolor": "white",
           "zerolinewidth": 2
          },
          "yaxis": {
           "automargin": true,
           "gridcolor": "white",
           "linecolor": "white",
           "ticks": "",
           "title": {
            "standoff": 15
           },
           "zerolinecolor": "white",
           "zerolinewidth": 2
          }
         }
        },
        "xaxis": {
         "anchor": "y",
         "autorange": true,
         "domain": [
          0,
          0.2125
         ],
         "range": [
          -0.5,
          4.5
         ],
         "type": "category"
        },
        "xaxis2": {
         "anchor": "y2",
         "autorange": true,
         "domain": [
          0.2625,
          0.475
         ],
         "range": [
          -0.5,
          4.5
         ],
         "type": "category"
        },
        "xaxis3": {
         "anchor": "y3",
         "autorange": true,
         "domain": [
          0.525,
          0.7375
         ],
         "range": [
          -0.5,
          4.5
         ],
         "type": "category"
        },
        "xaxis4": {
         "anchor": "y4",
         "autorange": true,
         "domain": [
          0.7875,
          1
         ],
         "range": [
          -0.5,
          4.5
         ],
         "type": "category"
        },
        "yaxis": {
         "anchor": "x",
         "autorange": false,
         "domain": [
          0,
          1
         ],
         "range": [
          0,
          6
         ],
         "type": "linear"
        },
        "yaxis2": {
         "anchor": "x2",
         "autorange": false,
         "domain": [
          0,
          1
         ],
         "range": [
          0,
          6
         ],
         "type": "linear"
        },
        "yaxis3": {
         "anchor": "x3",
         "autorange": false,
         "domain": [
          0,
          1
         ],
         "range": [
          0,
          6
         ],
         "type": "linear"
        },
        "yaxis4": {
         "anchor": "x4",
         "autorange": false,
         "domain": [
          0,
          1
         ],
         "range": [
          0,
          6
         ],
         "type": "linear"
        }
       }
      },
      "image/png": "[encoded data removed]",
      "text/html": [
       "<div>                            <div id=\"84603b1c-daef-4e6d-bf4c-24d8a10d867b\" class=\"plotly-graph-div\" style=\"height:525px; width:100%;\"></div>            <script type=\"text/javascript\">                require([\"plotly\"], function(Plotly) {                    window.PLOTLYENV=window.PLOTLYENV || {};                                    if (document.getElementById(\"84603b1c-daef-4e6d-bf4c-24d8a10d867b\")) {                    Plotly.newPlot(                        \"84603b1c-daef-4e6d-bf4c-24d8a10d867b\",                        [{\"name\":\"residential_instability\",\"offsetgroup\":\"0\",\"type\":\"box\",\"x\":[\"Vancouver Coastal Health\",\"Vancouver Coastal Health\",\"Vancouver Coastal Health\",\"Vancouver Coastal Health\",\"Vancouver Coastal Health\",\"Vancouver Coastal Health\",\"Vancouver Coastal Health\",\"Vancouver Coastal Health\",\"Vancouver Coastal Health\",\"Vancouver Coastal Health\",\"Vancouver Coastal Health\",\"Vancouver Coastal Health\",\"Vancouver Coastal Health\",\"Vancouver Coastal Health\",\"Vancouver Coastal Health\",\"Vancouver Coastal Health\",\"Vancouver Coastal Health\",\"Vancouver Coastal Health\",\"Vancouver Coastal Health\",\"Vancouver Coastal Health\",\"Vancouver Coastal Health\",\"Vancouver Coastal Health\",\"Vancouver Coastal Health\",\"Vancouver Coastal Health\",\"Vancouver Coastal Health\",\"Vancouver Coastal Health\",\"Vancouver Coastal Health\",\"Vancouver Coastal Health\",\"Vancouver Coastal Health\",\"Vancouver Coastal Health\",\"Vancouver Coastal Health\",\"Vancouver Coastal Health\",\"Vancouver Coastal Health\",\"Vancouver Coastal Health\",\"Vancouver Coastal Health\",\"Vancouver Coastal Health\",\"Vancouver Coastal Health\",\"Vancouver Coastal Health\",\"Vancouver Coastal Health\",\"Vancouver Coastal Health\",\"Vancouver Coastal Health\",\"Vancouver Coastal Health\",\"Fraser Health\",\"Fraser Health\",\"Fraser Health\",\"Fraser Health\",\"Fraser Health\",\"Fraser Health\",\"Fraser Health\",\"Fraser Health\",\"Fraser Health\",\"Fraser Health\",\"Fraser Health\",\"Fraser Health\",\"Fraser Health\",\"Fraser Health\",\"Fraser Health\",\"Fraser Health\",\"Fraser Health\",\"Fraser Health\",\"Fraser Health\",\"Fraser Health\",\"Fraser Health\",\"Fraser Health\",\"Fraser Health\",\"Fraser Health\",\"Fraser Health\",\"Fraser Health\",\"Fraser Health\",\"Fraser Health\",\"Fraser Health\",\"Fraser Health\",\"Fraser Health\",\"Fraser Health\",\"Fraser Health\",\"Fraser Health\",\"Fraser Health\",\"Fraser Health\",\"Fraser Health\",\"Fraser Health\",\"Fraser Health\",\"Fraser Health\",\"Fraser Health\",\"Fraser Health\",\"Fraser Health\",\"Interior Health\",\"Interior Health\",\"Interior Health\",\"Interior Health\",\"Interior Health\",\"Interior Health\",\"Interior Health\",\"Interior Health\",\"Interior Health\",\"Interior Health\",\"Interior Health\",\"Interior Health\",\"Interior Health\",\"Interior Health\",\"Interior Health\",\"Interior Health\",\"Interior Health\",\"Interior Health\",\"Interior Health\",\"Interior Health\",\"Interior Health\",\"Interior Health\",\"Interior Health\",\"Interior Health\",\"Interior Health\",\"Interior Health\",\"Interior Health\",\"Interior Health\",\"Island Health\",\"Island Health\",\"Island Health\",\"Island Health\",\"Island Health\",\"Island Health\",\"Island Health\",\"Island Health\",\"Island Health\",\"Island Health\",\"Island Health\",\"Island Health\",\"Island Health\",\"Island Health\",\"Island Health\",\"Island Health\",\"Island Health\",\"Island Health\",\"Island Health\",\"Island Health\",\"Island Health\",\"Island Health\",\"Island Health\",\"Island Health\",\"Island Health\",\"Island Health\",\"Island Health\",\"Island Health\",\"Island Health\",\"Island Health\",\"Island Health\",\"Island Health\",\"Island Health\",\"Island Health\",\"Island Health\",\"Island Health\",\"Island Health\",\"Island Health\",\"Island Health\",\"Island Health\",\"Island Health\",\"Island Health\",\"Island Health\",\"Northern Health\",\"Northern Health\",\"Northern Health\",\"Northern Health\",\"Northern Health\",\"Northern Health\",\"Northern Health\",\"Northern Health\",\"Northern Health\",\"Northern Health\",\"Northern Health\",\"Northern Health\",\"Northern Health\",\"Northern Health\",\"Northern Health\",\"Northern Health\",\"Northern Health\",\"Northern Health\",\"Northern Health\",\"Northern Health\",\"Northern Health\",\"Northern Health\",\"Northern Health\",\"Northern Health\",\"Northern Health\",\"Northern Health\",\"Northern Health\",\"Northern Health\",\"Northern Health\"],\"xaxis\":\"x\",\"y\":[2.0,5.0,2.0,4.0,5.0,4.0,4.0,5.0,2.0,3.0,3.0,1.0,4.0,5.0,5.0,5.0,2.0,2.0,3.0,5.0,3.0,5.0,4.0,5.0,5.0,5.0,5.0,3.0,5.0,5.0,3.0,3.0,4.0,3.0,5.0,1.0,5.0,1.0,4.0,3.0,5.0,5.0,4.0,2.0,5.0,5.0,1.0,4.0,null,4.0,2.0,3.0,3.0,2.0,4.0,5.0,5.0,1.0,1.0,1.0,3.0,2.0,5.0,1.0,null,2.0,4.0,5.0,2.0,3.0,2.0,1.0,4.0,3.0,1.0,5.0,5.0,1.0,4.0,2.0,3.0,2.0,3.0,1.0,5.0,2.0,3.0,1.0,4.0,3.0,3.0,5.0,2.0,3.0,2.0,4.0,1.0,3.0,3.0,2.0,2.0,3.0,5.0,1.0,2.0,4.0,4.0,4.0,3.0,1.0,3.0,1.0,2.0,4.0,5.0,2.0,2.0,5.0,4.0,2.0,3.0,5.0,5.0,4.0,2.0,1.0,2.0,5.0,1.0,1.0,4.0,2.0,4.0,1.0,2.0,4.0,5.0,2.0,3.0,3.0,4.0,2.0,2.0,3.0,4.0,3.0,1.0,4.0,1.0,null,1.0,1.0,5.0,4.0,2.0,4.0,5.0,3.0,1.0,5.0,3.0,4.0,2.0,1.0,2.0,2.0,2.0,1.0,5.0,3.0,1.0,1.0,4.0,2.0,4.0,1.0,1.0,1.0,1.0,1.0,5.0,2.0,1.0,2.0,4.0],\"yaxis\":\"y\"},{\"name\":\"situational_vulnerability\",\"offsetgroup\":\"1\",\"type\":\"box\",\"x\":[\"Vancouver Coastal Health\",\"Vancouver Coastal Health\",\"Vancouver Coastal Health\",\"Vancouver Coastal Health\",\"Vancouver Coastal Health\",\"Vancouver Coastal Health\",\"Vancouver Coastal Health\",\"Vancouver Coastal Health\",\"Vancouver Coastal Health\",\"Vancouver Coastal Health\",\"Vancouver Coastal Health\",\"Vancouver Coastal Health\",\"Vancouver Coastal Health\",\"Vancouver Coastal Health\",\"Vancouver Coastal Health\",\"Vancouver Coastal Health\",\"Vancouver Coastal Health\",\"Vancouver Coastal Health\",\"Vancouver Coastal Health\",\"Vancouver Coastal Health\",\"Vancouver Coastal Health\",\"Vancouver Coastal Health\",\"Vancouver Coastal Health\",\"Vancouver Coastal Health\",\"Vancouver Coastal Health\",\"Vancouver Coastal Health\",\"Vancouver Coastal Health\",\"Vancouver Coastal Health\",\"Vancouver Coastal Health\",\"Vancouver Coastal Health\",\"Vancouver Coastal Health\",\"Vancouver Coastal Health\",\"Vancouver Coastal Health\",\"Vancouver Coastal Health\",\"Vancouver Coastal Health\",\"Vancouver Coastal Health\",\"Vancouver Coastal Health\",\"Vancouver Coastal Health\",\"Vancouver Coastal Health\",\"Vancouver Coastal Health\",\"Vancouver Coastal Health\",\"Vancouver Coastal Health\",\"Fraser Health\",\"Fraser Health\",\"Fraser Health\",\"Fraser Health\",\"Fraser Health\",\"Fraser Health\",\"Fraser Health\",\"Fraser Health\",\"Fraser Health\",\"Fraser Health\",\"Fraser Health\",\"Fraser Health\",\"Fraser Health\",\"Fraser Health\",\"Fraser Health\",\"Fraser Health\",\"Fraser Health\",\"Fraser Health\",\"Fraser Health\",\"Fraser Health\",\"Fraser Health\",\"Fraser Health\",\"Fraser Health\",\"Fraser Health\",\"Fraser Health\",\"Fraser Health\",\"Fraser Health\",\"Fraser Health\",\"Fraser Health\",\"Fraser Health\",\"Fraser Health\",\"Fraser Health\",\"Fraser Health\",\"Fraser Health\",\"Fraser Health\",\"Fraser Health\",\"Fraser Health\",\"Fraser Health\",\"Fraser Health\",\"Fraser Health\",\"Fraser Health\",\"Fraser Health\",\"Fraser Health\",\"Interior Health\",\"Interior Health\",\"Interior Health\",\"Interior Health\",\"Interior Health\",\"Interior Health\",\"Interior Health\",\"Interior Health\",\"Interior Health\",\"Interior Health\",\"Interior Health\",\"Interior Health\",\"Interior Health\",\"Interior Health\",\"Interior Health\",\"Interior Health\",\"Interior Health\",\"Interior Health\",\"Interior Health\",\"Interior Health\",\"Interior Health\",\"Interior Health\",\"Interior Health\",\"Interior Health\",\"Interior Health\",\"Interior Health\",\"Interior Health\",\"Interior Health\",\"Island Health\",\"Island Health\",\"Island Health\",\"Island Health\",\"Island Health\",\"Island Health\",\"Island Health\",\"Island Health\",\"Island Health\",\"Island Health\",\"Island Health\",\"Island Health\",\"Island Health\",\"Island Health\",\"Island Health\",\"Island Health\",\"Island Health\",\"Island Health\",\"Island Health\",\"Island Health\",\"Island Health\",\"Island Health\",\"Island Health\",\"Island Health\",\"Island Health\",\"Island Health\",\"Island Health\",\"Island Health\",\"Island Health\",\"Island Health\",\"Island Health\",\"Island Health\",\"Island Health\",\"Island Health\",\"Island Health\",\"Island Health\",\"Island Health\",\"Island Health\",\"Island Health\",\"Island Health\",\"Island Health\",\"Island Health\",\"Island Health\",\"Northern Health\",\"Northern Health\",\"Northern Health\",\"Northern Health\",\"Northern Health\",\"Northern Health\",\"Northern Health\",\"Northern Health\",\"Northern Health\",\"Northern Health\",\"Northern Health\",\"Northern Health\",\"Northern Health\",\"Northern Health\",\"Northern Health\",\"Northern Health\",\"Northern Health\",\"Northern Health\",\"Northern Health\",\"Northern Health\",\"Northern Health\",\"Northern Health\",\"Northern Health\",\"Northern Health\",\"Northern Health\",\"Northern Health\",\"Northern Health\",\"Northern Health\",\"Northern Health\"],\"xaxis\":\"x2\",\"y\":[3.0,4.0,2.0,4.0,2.0,4.0,4.0,3.0,1.0,4.0,2.0,2.0,2.0,1.0,3.0,1.0,1.0,1.0,1.0,1.0,3.0,4.0,4.0,2.0,1.0,1.0,1.0,2.0,2.0,1.0,4.0,4.0,2.0,3.0,3.0,1.0,3.0,1.0,4.0,3.0,5.0,1.0,3.0,2.0,3.0,2.0,3.0,3.0,null,3.0,2.0,1.0,4.0,4.0,5.0,2.0,4.0,1.0,1.0,2.0,2.0,1.0,4.0,2.0,null,1.0,3.0,1.0,1.0,3.0,4.0,2.0,2.0,5.0,1.0,3.0,3.0,2.0,3.0,1.0,3.0,1.0,1.0,2.0,4.0,3.0,5.0,3.0,5.0,4.0,4.0,3.0,4.0,2.0,3.0,4.0,1.0,1.0,4.0,2.0,3.0,4.0,2.0,1.0,4.0,4.0,4.0,4.0,5.0,3.0,2.0,3.0,4.0,5.0,2.0,3.0,1.0,2.0,3.0,3.0,1.0,3.0,3.0,4.0,2.0,4.0,3.0,3.0,3.0,1.0,2.0,1.0,5.0,1.0,2.0,2.0,5.0,3.0,2.0,4.0,4.0,1.0,2.0,2.0,1.0,3.0,2.0,1.0,1.0,null,1.0,2.0,1.0,5.0,1.0,1.0,5.0,4.0,3.0,5.0,3.0,5.0,5.0,3.0,5.0,5.0,4.0,5.0,5.0,5.0,4.0,4.0,5.0,5.0,4.0,5.0,4.0,5.0,5.0,5.0,2.0,4.0,2.0,4.0,4.0],\"yaxis\":\"y2\"},{\"name\":\"ethnocultural_composition\",\"offsetgroup\":\"2\",\"type\":\"box\",\"x\":[\"Vancouver Coastal Health\",\"Vancouver Coastal Health\",\"Vancouver Coastal Health\",\"Vancouver Coastal Health\",\"Vancouver Coastal Health\",\"Vancouver Coastal Health\",\"Vancouver Coastal Health\",\"Vancouver Coastal Health\",\"Vancouver Coastal Health\",\"Vancouver Coastal Health\",\"Vancouver Coastal Health\",\"Vancouver Coastal Health\",\"Vancouver Coastal Health\",\"Vancouver Coastal Health\",\"Vancouver Coastal Health\",\"Vancouver Coastal Health\",\"Vancouver Coastal Health\",\"Vancouver Coastal Health\",\"Vancouver Coastal Health\",\"Vancouver Coastal Health\",\"Vancouver Coastal Health\",\"Vancouver Coastal Health\",\"Vancouver Coastal Health\",\"Vancouver Coastal Health\",\"Vancouver Coastal Health\",\"Vancouver Coastal Health\",\"Vancouver Coastal Health\",\"Vancouver Coastal Health\",\"Vancouver Coastal Health\",\"Vancouver Coastal Health\",\"Vancouver Coastal Health\",\"Vancouver Coastal Health\",\"Vancouver Coastal Health\",\"Vancouver Coastal Health\",\"Vancouver Coastal Health\",\"Vancouver Coastal Health\",\"Vancouver Coastal Health\",\"Vancouver Coastal Health\",\"Vancouver Coastal Health\",\"Vancouver Coastal Health\",\"Vancouver Coastal Health\",\"Vancouver Coastal Health\",\"Fraser Health\",\"Fraser Health\",\"Fraser Health\",\"Fraser Health\",\"Fraser Health\",\"Fraser Health\",\"Fraser Health\",\"Fraser Health\",\"Fraser Health\",\"Fraser Health\",\"Fraser Health\",\"Fraser Health\",\"Fraser Health\",\"Fraser Health\",\"Fraser Health\",\"Fraser Health\",\"Fraser Health\",\"Fraser Health\",\"Fraser Health\",\"Fraser Health\",\"Fraser Health\",\"Fraser Health\",\"Fraser Health\",\"Fraser Health\",\"Fraser Health\",\"Fraser Health\",\"Fraser Health\",\"Fraser Health\",\"Fraser Health\",\"Fraser Health\",\"Fraser Health\",\"Fraser Health\",\"Fraser Health\",\"Fraser Health\",\"Fraser Health\",\"Fraser Health\",\"Fraser Health\",\"Fraser Health\",\"Fraser Health\",\"Fraser Health\",\"Fraser Health\",\"Fraser Health\",\"Fraser Health\",\"Interior Health\",\"Interior Health\",\"Interior Health\",\"Interior Health\",\"Interior Health\",\"Interior Health\",\"Interior Health\",\"Interior Health\",\"Interior Health\",\"Interior Health\",\"Interior Health\",\"Interior Health\",\"Interior Health\",\"Interior Health\",\"Interior Health\",\"Interior Health\",\"Interior Health\",\"Interior Health\",\"Interior Health\",\"Interior Health\",\"Interior Health\",\"Interior Health\",\"Interior Health\",\"Interior Health\",\"Interior Health\",\"Interior Health\",\"Interior Health\",\"Interior Health\",\"Island Health\",\"Island Health\",\"Island Health\",\"Island Health\",\"Island Health\",\"Island Health\",\"Island Health\",\"Island Health\",\"Island Health\",\"Island Health\",\"Island Health\",\"Island Health\",\"Island Health\",\"Island Health\",\"Island Health\",\"Island Health\",\"Island Health\",\"Island Health\",\"Island Health\",\"Island Health\",\"Island Health\",\"Island Health\",\"Island Health\",\"Island Health\",\"Island Health\",\"Island Health\",\"Island Health\",\"Island Health\",\"Island Health\",\"Island Health\",\"Island Health\",\"Island Health\",\"Island Health\",\"Island Health\",\"Island Health\",\"Island Health\",\"Island Health\",\"Island Health\",\"Island Health\",\"Island Health\",\"Island Health\",\"Island Health\",\"Island Health\",\"Northern Health\",\"Northern Health\",\"Northern Health\",\"Northern Health\",\"Northern Health\",\"Northern Health\",\"Northern Health\",\"Northern Health\",\"Northern Health\",\"Northern Health\",\"Northern Health\",\"Northern Health\",\"Northern Health\",\"Northern Health\",\"Northern Health\",\"Northern Health\",\"Northern Health\",\"Northern Health\",\"Northern Health\",\"Northern Health\",\"Northern Health\",\"Northern Health\",\"Northern Health\",\"Northern Health\",\"Northern Health\",\"Northern Health\",\"Northern Health\",\"Northern Health\",\"Northern Health\"],\"xaxis\":\"x3\",\"y\":[5.0,4.0,5.0,5.0,5.0,5.0,5.0,5.0,4.0,2.0,5.0,5.0,3.0,5.0,5.0,4.0,4.0,4.0,4.0,4.0,5.0,5.0,2.0,5.0,4.0,4.0,5.0,2.0,5.0,4.0,5.0,5.0,3.0,5.0,5.0,3.0,5.0,5.0,5.0,5.0,5.0,4.0,5.0,4.0,5.0,5.0,4.0,5.0,null,5.0,3.0,4.0,4.0,5.0,3.0,5.0,4.0,3.0,3.0,4.0,4.0,4.0,4.0,4.0,null,5.0,5.0,4.0,4.0,5.0,4.0,5.0,5.0,3.0,5.0,4.0,4.0,5.0,5.0,3.0,5.0,4.0,4.0,2.0,5.0,2.0,3.0,1.0,3.0,1.0,1.0,3.0,2.0,1.0,2.0,4.0,2.0,2.0,2.0,1.0,2.0,2.0,3.0,2.0,1.0,3.0,2.0,3.0,3.0,1.0,3.0,1.0,2.0,3.0,4.0,2.0,1.0,4.0,3.0,2.0,3.0,4.0,3.0,3.0,2.0,2.0,2.0,3.0,1.0,3.0,3.0,3.0,4.0,4.0,1.0,3.0,4.0,2.0,1.0,2.0,3.0,1.0,2.0,2.0,2.0,4.0,2.0,4.0,1.0,null,2.0,1.0,3.0,2.0,1.0,1.0,4.0,1.0,1.0,3.0,1.0,3.0,3.0,1.0,1.0,1.0,1.0,3.0,4.0,2.0,1.0,2.0,4.0,1.0,2.0,1.0,1.0,1.0,2.0,1.0,4.0,2.0,3.0,1.0,3.0],\"yaxis\":\"y3\"},{\"name\":\"economic_dependency\",\"offsetgroup\":\"3\",\"type\":\"box\",\"x\":[\"Vancouver Coastal Health\",\"Vancouver Coastal Health\",\"Vancouver Coastal Health\",\"Vancouver Coastal Health\",\"Vancouver Coastal Health\",\"Vancouver Coastal Health\",\"Vancouver Coastal Health\",\"Vancouver Coastal Health\",\"Vancouver Coastal Health\",\"Vancouver Coastal Health\",\"Vancouver Coastal Health\",\"Vancouver Coastal Health\",\"Vancouver Coastal Health\",\"Vancouver Coastal Health\",\"Vancouver Coastal Health\",\"Vancouver Coastal Health\",\"Vancouver Coastal Health\",\"Vancouver Coastal Health\",\"Vancouver Coastal Health\",\"Vancouver Coastal Health\",\"Vancouver Coastal Health\",\"Vancouver Coastal Health\",\"Vancouver Coastal Health\",\"Vancouver Coastal Health\",\"Vancouver Coastal Health\",\"Vancouver Coastal Health\",\"Vancouver Coastal Health\",\"Vancouver Coastal Health\",\"Vancouver Coastal Health\",\"Vancouver Coastal Health\",\"Vancouver Coastal Health\",\"Vancouver Coastal Health\",\"Vancouver Coastal Health\",\"Vancouver Coastal Health\",\"Vancouver Coastal Health\",\"Vancouver Coastal Health\",\"Vancouver Coastal Health\",\"Vancouver Coastal Health\",\"Vancouver Coastal Health\",\"Vancouver Coastal Health\",\"Vancouver Coastal Health\",\"Vancouver Coastal Health\",\"Fraser Health\",\"Fraser Health\",\"Fraser Health\",\"Fraser Health\",\"Fraser Health\",\"Fraser Health\",\"Fraser Health\",\"Fraser Health\",\"Fraser Health\",\"Fraser Health\",\"Fraser Health\",\"Fraser Health\",\"Fraser Health\",\"Fraser Health\",\"Fraser Health\",\"Fraser Health\",\"Fraser Health\",\"Fraser Health\",\"Fraser Health\",\"Fraser Health\",\"Fraser Health\",\"Fraser Health\",\"Fraser Health\",\"Fraser Health\",\"Fraser Health\",\"Fraser Health\",\"Fraser Health\",\"Fraser Health\",\"Fraser Health\",\"Fraser Health\",\"Fraser Health\",\"Fraser Health\",\"Fraser Health\",\"Fraser Health\",\"Fraser Health\",\"Fraser Health\",\"Fraser Health\",\"Fraser Health\",\"Fraser Health\",\"Fraser Health\",\"Fraser Health\",\"Fraser Health\",\"Fraser Health\",\"Interior Health\",\"Interior Health\",\"Interior Health\",\"Interior Health\",\"Interior Health\",\"Interior Health\",\"Interior Health\",\"Interior Health\",\"Interior Health\",\"Interior Health\",\"Interior Health\",\"Interior Health\",\"Interior Health\",\"Interior Health\",\"Interior Health\",\"Interior Health\",\"Interior Health\",\"Interior Health\",\"Interior Health\",\"Interior Health\",\"Interior Health\",\"Interior Health\",\"Interior Health\",\"Interior Health\",\"Interior Health\",\"Interior Health\",\"Interior Health\",\"Interior Health\",\"Island Health\",\"Island Health\",\"Island Health\",\"Island Health\",\"Island Health\",\"Island Health\",\"Island Health\",\"Island Health\",\"Island Health\",\"Island Health\",\"Island Health\",\"Island Health\",\"Island Health\",\"Island Health\",\"Island Health\",\"Island Health\",\"Island Health\",\"Island Health\",\"Island Health\",\"Island Health\",\"Island Health\",\"Island Health\",\"Island Health\",\"Island Health\",\"Island Health\",\"Island Health\",\"Island Health\",\"Island Health\",\"Island Health\",\"Island Health\",\"Island Health\",\"Island Health\",\"Island Health\",\"Island Health\",\"Island Health\",\"Island Health\",\"Island Health\",\"Island Health\",\"Island Health\",\"Island Health\",\"Island Health\",\"Island Health\",\"Island Health\",\"Northern Health\",\"Northern Health\",\"Northern Health\",\"Northern Health\",\"Northern Health\",\"Northern Health\",\"Northern Health\",\"Northern Health\",\"Northern Health\",\"Northern Health\",\"Northern Health\",\"Northern Health\",\"Northern Health\",\"Northern Health\",\"Northern Health\",\"Northern Health\",\"Northern Health\",\"Northern Health\",\"Northern Health\",\"Northern Health\",\"Northern Health\",\"Northern Health\",\"Northern Health\",\"Northern Health\",\"Northern Health\",\"Northern Health\",\"Northern Health\",\"Northern Health\",\"Northern Health\"],\"xaxis\":\"x4\",\"y\":[4.0,1.0,3.0,3.0,1.0,2.0,2.0,4.0,3.0,5.0,3.0,2.0,5.0,1.0,3.0,1.0,2.0,2.0,1.0,1.0,4.0,1.0,5.0,5.0,1.0,1.0,1.0,5.0,1.0,1.0,1.0,3.0,4.0,2.0,4.0,2.0,3.0,4.0,3.0,3.0,4.0,1.0,2.0,1.0,2.0,2.0,2.0,2.0,null,2.0,3.0,4.0,2.0,2.0,5.0,1.0,3.0,3.0,1.0,1.0,1.0,1.0,4.0,1.0,null,1.0,3.0,5.0,3.0,3.0,1.0,2.0,3.0,5.0,1.0,3.0,3.0,2.0,3.0,4.0,2.0,1.0,1.0,3.0,1.0,3.0,4.0,5.0,5.0,5.0,4.0,5.0,4.0,4.0,3.0,2.0,2.0,2.0,5.0,1.0,2.0,5.0,4.0,5.0,5.0,3.0,5.0,3.0,5.0,5.0,2.0,4.0,5.0,5.0,1.0,4.0,5.0,2.0,3.0,4.0,5.0,1.0,4.0,4.0,5.0,3.0,3.0,2.0,5.0,3.0,5.0,5.0,3.0,4.0,5.0,1.0,4.0,4.0,4.0,2.0,4.0,5.0,2.0,5.0,5.0,1.0,3.0,4.0,4.0,null,5.0,3.0,4.0,5.0,5.0,5.0,1.0,4.0,2.0,4.0,2.0,2.0,3.0,1.0,2.0,1.0,2.0,4.0,2.0,3.0,2.0,2.0,1.0,4.0,4.0,3.0,2.0,4.0,3.0,2.0,1.0,2.0,1.0,4.0,1.0],\"yaxis\":\"y4\"}],                        {\"template\":{\"data\":{\"bar\":[{\"error_x\":{\"color\":\"#2a3f5f\"},\"error_y\":{\"color\":\"#2a3f5f\"},\"marker\":{\"line\":{\"color\":\"#E5ECF6\",\"width\":0.5},\"pattern\":{\"fillmode\":\"overlay\",\"size\":10,\"solidity\":0.2}},\"type\":\"bar\"}],\"barpolar\":[{\"marker\":{\"line\":{\"color\":\"#E5ECF6\",\"width\":0.5},\"pattern\":{\"fillmode\":\"overlay\",\"size\":10,\"solidity\":0.2}},\"type\":\"barpolar\"}],\"carpet\":[{\"aaxis\":{\"endlinecolor\":\"#2a3f5f\",\"gridcolor\":\"white\",\"linecolor\":\"white\",\"minorgridcolor\":\"white\",\"startlinecolor\":\"#2a3f5f\"},\"baxis\":{\"endlinecolor\":\"#2a3f5f\",\"gridcolor\":\"white\",\"linecolor\":\"white\",\"minorgridcolor\":\"white\",\"startlinecolor\":\"#2a3f5f\"},\"type\":\"carpet\"}],\"choropleth\":[{\"colorbar\":{\"outlinewidth\":0,\"ticks\":\"\"},\"type\":\"choropleth\"}],\"contour\":[{\"colorbar\":{\"outlinewidth\":0,\"ticks\":\"\"},\"colorscale\":[[0.0,\"#0d0887\"],[0.1111111111111111,\"#46039f\"],[0.2222222222222222,\"#7201a8\"],[0.3333333333333333,\"#9c179e\"],[0.4444444444444444,\"#bd3786\"],[0.5555555555555556,\"#d8576b\"],[0.6666666666666666,\"#ed7953\"],[0.7777777777777778,\"#fb9f3a\"],[0.8888888888888888,\"#fdca26\"],[1.0,\"#f0f921\"]],\"type\":\"contour\"}],\"contourcarpet\":[{\"colorbar\":{\"outlinewidth\":0,\"ticks\":\"\"},\"type\":\"contourcarpet\"}],\"heatmap\":[{\"colorbar\":{\"outlinewidth\":0,\"ticks\":\"\"},\"colorscale\":[[0.0,\"#0d0887\"],[0.1111111111111111,\"#46039f\"],[0.2222222222222222,\"#7201a8\"],[0.3333333333333333,\"#9c179e\"],[0.4444444444444444,\"#bd3786\"],[0.5555555555555556,\"#d8576b\"],[0.6666666666666666,\"#ed7953\"],[0.7777777777777778,\"#fb9f3a\"],[0.8888888888888888,\"#fdca26\"],[1.0,\"#f0f921\"]],\"type\":\"heatmap\"}],\"heatmapgl\":[{\"colorbar\":{\"outlinewidth\":0,\"ticks\":\"\"},\"colorscale\":[[0.0,\"#0d0887\"],[0.1111111111111111,\"#46039f\"],[0.2222222222222222,\"#7201a8\"],[0.3333333333333333,\"#9c179e\"],[0.4444444444444444,\"#bd3786\"],[0.5555555555555556,\"#d8576b\"],[0.6666666666666666,\"#ed7953\"],[0.7777777777777778,\"#fb9f3a\"],[0.8888888888888888,\"#fdca26\"],[1.0,\"#f0f921\"]],\"type\":\"heatmapgl\"}],\"histogram\":[{\"marker\":{\"pattern\":{\"fillmode\":\"overlay\",\"size\":10,\"solidity\":0.2}},\"type\":\"histogram\"}],\"histogram2d\":[{\"colorbar\":{\"outlinewidth\":0,\"ticks\":\"\"},\"colorscale\":[[0.0,\"#0d0887\"],[0.1111111111111111,\"#46039f\"],[0.2222222222222222,\"#7201a8\"],[0.3333333333333333,\"#9c179e\"],[0.4444444444444444,\"#bd3786\"],[0.5555555555555556,\"#d8576b\"],[0.6666666666666666,\"#ed7953\"],[0.7777777777777778,\"#fb9f3a\"],[0.8888888888888888,\"#fdca26\"],[1.0,\"#f0f921\"]],\"type\":\"histogram2d\"}],\"histogram2dcontour\":[{\"colorbar\":{\"outlinewidth\":0,\"ticks\":\"\"},\"colorscale\":[[0.0,\"#0d0887\"],[0.1111111111111111,\"#46039f\"],[0.2222222222222222,\"#7201a8\"],[0.3333333333333333,\"#9c179e\"],[0.4444444444444444,\"#bd3786\"],[0.5555555555555556,\"#d8576b\"],[0.6666666666666666,\"#ed7953\"],[0.7777777777777778,\"#fb9f3a\"],[0.8888888888888888,\"#fdca26\"],[1.0,\"#f0f921\"]],\"type\":\"histogram2dcontour\"}],\"mesh3d\":[{\"colorbar\":{\"outlinewidth\":0,\"ticks\":\"\"},\"type\":\"mesh3d\"}],\"parcoords\":[{\"line\":{\"colorbar\":{\"outlinewidth\":0,\"ticks\":\"\"}},\"type\":\"parcoords\"}],\"pie\":[{\"automargin\":true,\"type\":\"pie\"}],\"scatter\":[{\"marker\":{\"colorbar\":{\"outlinewidth\":0,\"ticks\":\"\"}},\"type\":\"scatter\"}],\"scatter3d\":[{\"line\":{\"colorbar\":{\"outlinewidth\":0,\"ticks\":\"\"}},\"marker\":{\"colorbar\":{\"outlinewidth\":0,\"ticks\":\"\"}},\"type\":\"scatter3d\"}],\"scattercarpet\":[{\"marker\":{\"colorbar\":{\"outlinewidth\":0,\"ticks\":\"\"}},\"type\":\"scattercarpet\"}],\"scattergeo\":[{\"marker\":{\"colorbar\":{\"outlinewidth\":0,\"ticks\":\"\"}},\"type\":\"scattergeo\"}],\"scattergl\":[{\"marker\":{\"colorbar\":{\"outlinewidth\":0,\"ticks\":\"\"}},\"type\":\"scattergl\"}],\"scattermapbox\":[{\"marker\":{\"colorbar\":{\"outlinewidth\":0,\"ticks\":\"\"}},\"type\":\"scattermapbox\"}],\"scatterpolar\":[{\"marker\":{\"colorbar\":{\"outlinewidth\":0,\"ticks\":\"\"}},\"type\":\"scatterpolar\"}],\"scatterpolargl\":[{\"marker\":{\"colorbar\":{\"outlinewidth\":0,\"ticks\":\"\"}},\"type\":\"scatterpolargl\"}],\"scatterternary\":[{\"marker\":{\"colorbar\":{\"outlinewidth\":0,\"ticks\":\"\"}},\"type\":\"scatterternary\"}],\"surface\":[{\"colorbar\":{\"outlinewidth\":0,\"ticks\":\"\"},\"colorscale\":[[0.0,\"#0d0887\"],[0.1111111111111111,\"#46039f\"],[0.2222222222222222,\"#7201a8\"],[0.3333333333333333,\"#9c179e\"],[0.4444444444444444,\"#bd3786\"],[0.5555555555555556,\"#d8576b\"],[0.6666666666666666,\"#ed7953\"],[0.7777777777777778,\"#fb9f3a\"],[0.8888888888888888,\"#fdca26\"],[1.0,\"#f0f921\"]],\"type\":\"surface\"}],\"table\":[{\"cells\":{\"fill\":{\"color\":\"#EBF0F8\"},\"line\":{\"color\":\"white\"}},\"header\":{\"fill\":{\"color\":\"#C8D4E3\"},\"line\":{\"color\":\"white\"}},\"type\":\"table\"}]},\"layout\":{\"annotationdefaults\":{\"arrowcolor\":\"#2a3f5f\",\"arrowhead\":0,\"arrowwidth\":1},\"autotypenumbers\":\"strict\",\"coloraxis\":{\"colorbar\":{\"outlinewidth\":0,\"ticks\":\"\"}},\"colorscale\":{\"diverging\":[[0,\"#8e0152\"],[0.1,\"#c51b7d\"],[0.2,\"#de77ae\"],[0.3,\"#f1b6da\"],[0.4,\"#fde0ef\"],[0.5,\"#f7f7f7\"],[0.6,\"#e6f5d0\"],[0.7,\"#b8e186\"],[0.8,\"#7fbc41\"],[0.9,\"#4d9221\"],[1,\"#276419\"]],\"sequential\":[[0.0,\"#0d0887\"],[0.1111111111111111,\"#46039f\"],[0.2222222222222222,\"#7201a8\"],[0.3333333333333333,\"#9c179e\"],[0.4444444444444444,\"#bd3786\"],[0.5555555555555556,\"#d8576b\"],[0.6666666666666666,\"#ed7953\"],[0.7777777777777778,\"#fb9f3a\"],[0.8888888888888888,\"#fdca26\"],[1.0,\"#f0f921\"]],\"sequentialminus\":[[0.0,\"#0d0887\"],[0.1111111111111111,\"#46039f\"],[0.2222222222222222,\"#7201a8\"],[0.3333333333333333,\"#9c179e\"],[0.4444444444444444,\"#bd3786\"],[0.5555555555555556,\"#d8576b\"],[0.6666666666666666,\"#ed7953\"],[0.7777777777777778,\"#fb9f3a\"],[0.8888888888888888,\"#fdca26\"],[1.0,\"#f0f921\"]]},\"colorway\":[\"#636efa\",\"#EF553B\",\"#00cc96\",\"#ab63fa\",\"#FFA15A\",\"#19d3f3\",\"#FF6692\",\"#B6E880\",\"#FF97FF\",\"#FECB52\"],\"font\":{\"color\":\"#2a3f5f\"},\"geo\":{\"bgcolor\":\"white\",\"lakecolor\":\"white\",\"landcolor\":\"#E5ECF6\",\"showlakes\":true,\"showland\":true,\"subunitcolor\":\"white\"},\"hoverlabel\":{\"align\":\"left\"},\"hovermode\":\"closest\",\"mapbox\":{\"style\":\"light\"},\"paper_bgcolor\":\"white\",\"plot_bgcolor\":\"#E5ECF6\",\"polar\":{\"angularaxis\":{\"gridcolor\":\"white\",\"linecolor\":\"white\",\"ticks\":\"\"},\"bgcolor\":\"#E5ECF6\",\"radialaxis\":{\"gridcolor\":\"white\",\"linecolor\":\"white\",\"ticks\":\"\"}},\"scene\":{\"xaxis\":{\"backgroundcolor\":\"#E5ECF6\",\"gridcolor\":\"white\",\"gridwidth\":2,\"linecolor\":\"white\",\"showbackground\":true,\"ticks\":\"\",\"zerolinecolor\":\"white\"},\"yaxis\":{\"backgroundcolor\":\"#E5ECF6\",\"gridcolor\":\"white\",\"gridwidth\":2,\"linecolor\":\"white\",\"showbackground\":true,\"ticks\":\"\",\"zerolinecolor\":\"white\"},\"zaxis\":{\"backgroundcolor\":\"#E5ECF6\",\"gridcolor\":\"white\",\"gridwidth\":2,\"linecolor\":\"white\",\"showbackground\":true,\"ticks\":\"\",\"zerolinecolor\":\"white\"}},\"shapedefaults\":{\"line\":{\"color\":\"#2a3f5f\"}},\"ternary\":{\"aaxis\":{\"gridcolor\":\"white\",\"linecolor\":\"white\",\"ticks\":\"\"},\"baxis\":{\"gridcolor\":\"white\",\"linecolor\":\"white\",\"ticks\":\"\"},\"bgcolor\":\"#E5ECF6\",\"caxis\":{\"gridcolor\":\"white\",\"linecolor\":\"white\",\"ticks\":\"\"}},\"title\":{\"x\":0.05},\"xaxis\":{\"automargin\":true,\"gridcolor\":\"white\",\"linecolor\":\"white\",\"ticks\":\"\",\"title\":{\"standoff\":15},\"zerolinecolor\":\"white\",\"zerolinewidth\":2},\"yaxis\":{\"automargin\":true,\"gridcolor\":\"white\",\"linecolor\":\"white\",\"ticks\":\"\",\"title\":{\"standoff\":15},\"zerolinecolor\":\"white\",\"zerolinewidth\":2}}},\"xaxis\":{\"anchor\":\"y\",\"domain\":[0.0,0.2125]},\"xaxis2\":{\"anchor\":\"y2\",\"domain\":[0.2625,0.475]},\"xaxis3\":{\"anchor\":\"y3\",\"domain\":[0.525,0.7375]},\"xaxis4\":{\"anchor\":\"y4\",\"domain\":[0.7875,1.0]},\"yaxis\":{\"anchor\":\"x\",\"autorange\":false,\"domain\":[0.0,1.0],\"range\":[0,6]},\"yaxis2\":{\"anchor\":\"x2\",\"autorange\":false,\"domain\":[0.0,1.0],\"range\":[0,6]},\"yaxis3\":{\"anchor\":\"x3\",\"autorange\":false,\"domain\":[0.0,1.0],\"range\":[0,6]},\"yaxis4\":{\"anchor\":\"x4\",\"autorange\":false,\"domain\":[0.0,1.0],\"range\":[0,6]}},                        {\"responsive\": true}                    ).then(function(){\n",
       "                            \n",
       "var gd = document.getElementById('84603b1c-daef-4e6d-bf4c-24d8a10d867b');\n",
       "var x = new MutationObserver(function (mutations, observer) {{\n",
       "        var display = window.getComputedStyle(gd).display;\n",
       "        if (!display || display === 'none') {{\n",
       "            console.log([gd, 'removed!']);\n",
       "            Plotly.purge(gd);\n",
       "            observer.disconnect();\n",
       "        }}\n",
       "}});\n",
       "\n",
       "// Listen for the removal of the full notebook cells\n",
       "var notebookContainer = gd.closest('#notebook-container');\n",
       "if (notebookContainer) {{\n",
       "    x.observe(notebookContainer, {childList: true});\n",
       "}}\n",
       "\n",
       "// Listen for the clearing of the current output cell\n",
       "var outputEl = gd.closest('.output');\n",
       "if (outputEl) {{\n",
       "    x.observe(outputEl, {childList: true});\n",
       "}}\n",
       "\n",
       "                        })                };                });            </script>        </div>"
      ]
     },
     "metadata": {},
     "output_type": "display_data"
    }
   ],
   "source": [
    "from plotly import graph_objects as go\n",
    "from plotly.subplots import make_subplots\n",
    "fig = make_subplots(rows=1, cols=4)\n",
    "fig.add_trace(go.Box(\n",
    "            name='residential_instability',\n",
    "            x= merged['hsa'],\n",
    "            y= merged['residential_instability'],\n",
    "            offsetgroup=0,\n",
    "        ),\n",
    "    row=1,\n",
    "    col=1,\n",
    "             )\n",
    "fig.add_trace(go.Box(\n",
    "            name='situational_vulnerability',\n",
    "            x=merged['hsa'],\n",
    "            y= merged['situational_vulnerability'],\n",
    "            offsetgroup=1,\n",
    "        ),\n",
    "    row=1,\n",
    "    col=2,\n",
    "             )\n",
    "fig.add_trace(go.Box(\n",
    "            name='ethnocultural_composition',\n",
    "            x=merged['hsa'],\n",
    "            y= merged['ethnocultural_composition'],\n",
    "            offsetgroup=2,\n",
    "        ),\n",
    "    row=1,\n",
    "    col=3,\n",
    "             )\n",
    "fig.add_trace(go.Box(\n",
    "            name='economic_dependency',\n",
    "            x=merged['hsa'],\n",
    "            y= merged['economic_dependency'],\n",
    "            offsetgroup=3,\n",
    "        ),\n",
    "    row=1,\n",
    "    col=4,\n",
    "             )\n",
    "layout=go.Layout(\n",
    "        title='Socioeconomic Factors',\n",
    "        yaxis_title=\"Scale (1-5)\"\n",
    "    )\n",
    "fig.update_yaxes(range=[0, 6], autorange=False)            \n",
    "fig.show()"
   ]
  }
 ],
 "metadata": {
  "kernelspec": {
   "display_name": "Python 3",
   "language": "python",
   "name": "python3"
  },
  "language_info": {
   "codemirror_mode": {
    "name": "ipython",
    "version": 3
   },
   "file_extension": ".py",
   "mimetype": "text/x-python",
   "name": "python",
   "nbconvert_exporter": "python",
   "pygments_lexer": "ipython3",
   "version": "3.8.3"
  }
 },
 "nbformat": 4,
 "nbformat_minor": 4
}
