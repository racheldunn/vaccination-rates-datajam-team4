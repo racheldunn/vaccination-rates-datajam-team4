{
 "cells": [
  {
   "cell_type": "code",
   "execution_count": 23,
   "id": "united-bahrain",
   "metadata": {},
   "outputs": [],
   "source": [
    "import numpy as np\n",
    "import pandas as pd\n",
    "from pathlib import Path\n",
    "from tqdm import tqdm"
   ]
  },
  {
   "cell_type": "code",
   "execution_count": 24,
   "id": "stopped-executive",
   "metadata": {},
   "outputs": [],
   "source": [
    "# Get HSA folder names\n",
    "data_path = Path.cwd().parent/'data'\n",
    "HSAs = [folder.name for folder in data_path.iterdir() if folder.is_dir() and not folder.name.startswith('.')]"
   ]
  },
  {
   "cell_type": "code",
   "execution_count": 25,
   "id": "practical-static",
   "metadata": {},
   "outputs": [
    {
     "name": "stderr",
     "output_type": "stream",
     "text": [
      "42it [00:00, 46.62it/s]\n",
      "43it [00:00, 47.80it/s]\n",
      "28it [00:00, 45.00it/s]\n",
      "43it [00:01, 37.93it/s]\n",
      "29it [00:01, 28.24it/s]\n"
     ]
    }
   ],
   "source": [
    "# Transpose and concat socioeconomic data for every subregion and HSA. Add columns - \"HSA\" and \"Sub Region\".\n",
    "socioeco_df = pd.DataFrame()\n",
    "for region in HSAs:\n",
    "    region_path = data_path/region\n",
    "    for subregion_path in tqdm(region_path.glob(\"*.csv\")):\n",
    "        subregion = subregion_path.name.split(\".\")[0]\n",
    "        subregion_df = pd.read_csv(subregion_path,index_col=False).iloc[:-1]\n",
    "        \n",
    "        subregion_df.rename(columns={' Community Health Service Area_value':\"Value\"},inplace=True)\n",
    "        subregion_df = subregion_df[['Indicator','Value']]\n",
    "        \n",
    "        subregion_df.reset_index(drop=True,inplace=True)\n",
    "        subregion_trans_df = subregion_df.transpose()\n",
    "        \n",
    "        subregion_trans_df.columns = subregion_trans_df.iloc[0]\n",
    "        subregion_trans_df.drop(subregion_trans_df.index[0],inplace=True)\n",
    "        subregion_trans_df.reset_index(drop=True,inplace=True)\n",
    "        \n",
    "        subregion_trans_df['Region'] = region\n",
    "        subregion_trans_df['Sub Region'] = subregion\n",
    "        \n",
    "        subregion_trans_df = subregion_trans_df.loc[:,~subregion_trans_df.columns.duplicated()]\n",
    "        \n",
    "        socioeco_df = pd.concat([socioeco_df,subregion_trans_df],axis=0,ignore_index=True)"
   ]
  },
  {
   "cell_type": "code",
   "execution_count": 27,
   "id": "described-mathematics",
   "metadata": {},
   "outputs": [],
   "source": [
    "# Create a processed folder\n",
    "processed_data_path = data_path.parent/'processed'\n",
    "processed_data_path.mkdir(exist_ok=True)"
   ]
  },
  {
   "cell_type": "code",
   "execution_count": 28,
   "id": "comparable-syntax",
   "metadata": {},
   "outputs": [],
   "source": [
    "# Read indicator to column name mapper csv\n",
    "map_cols = pd.read_csv(processed_data_path/'map_col_names.csv', names = ['col','red_col'])"
   ]
  },
  {
   "cell_type": "code",
   "execution_count": 29,
   "id": "composite-power",
   "metadata": {},
   "outputs": [],
   "source": [
    "# Convert the mapper dataframe to dictionary\n",
    "col2red_col = dict(map_cols.values)"
   ]
  },
  {
   "cell_type": "code",
   "execution_count": 30,
   "id": "charged-mauritius",
   "metadata": {},
   "outputs": [],
   "source": [
    "# Map these to the existing indicator names to column names as per the dictionary\n",
    "socioeco_df.columns = socioeco_df.columns.map(col2red_col)"
   ]
  },
  {
   "cell_type": "code",
   "execution_count": 32,
   "id": "foster-wrong",
   "metadata": {},
   "outputs": [],
   "source": [
    "# Save the socioeconomic data as csv\n",
    "socioeco_df.to_csv(processed_data_path/'socioeco_compiled.csv',index=False)"
   ]
  },
  {
   "cell_type": "code",
   "execution_count": null,
   "id": "crazy-former",
   "metadata": {},
   "outputs": [],
   "source": []
  }
 ],
 "metadata": {
  "kernelspec": {
   "display_name": "Python 3",
   "language": "python",
   "name": "python3"
  },
  "language_info": {
   "codemirror_mode": {
    "name": "ipython",
    "version": 3
   },
   "file_extension": ".py",
   "mimetype": "text/x-python",
   "name": "python",
   "nbconvert_exporter": "python",
   "pygments_lexer": "ipython3",
   "version": "3.7.7"
  }
 },
 "nbformat": 4,
 "nbformat_minor": 5
}
